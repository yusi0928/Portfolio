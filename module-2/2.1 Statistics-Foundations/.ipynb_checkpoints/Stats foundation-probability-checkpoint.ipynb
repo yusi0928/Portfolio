{
 "cells": [
  {
   "cell_type": "markdown",
   "metadata": {},
   "source": [
    "# Challenge 1"
   ]
  },
  {
   "cell_type": "markdown",
   "metadata": {},
   "source": [
    "### One player rolls two dices. Describe the measurable space and the random variable for:\n",
    "\n",
    "A. The values that the player obtains.\n",
    "\n",
    "\n",
    "\n",
    "\n"
   ]
  },
  {
   "cell_type": "code",
   "execution_count": 3,
   "metadata": {},
   "outputs": [
    {
     "data": {
      "text/plain": [
       "'\\nmeasurable space: {1,2,3,4,5,6}\\n\\nrandom variable: {(1,6),(1,5),(1,4),(1,3),(1,2),(1,1),\\n                  (2,6),(2,5),(2,4),(2,3),(2,2),(2,1),\\n                  (3,6),(3,5),(3,4),(3,3),(3,2),(3,1),\\n                  (4,6),(4,5),(4,4),(4,3),(4,2),(4,1),\\n                  (5,6),(5,5),(5,4),(5,3),(5,2),(5,1),\\n                  (6,6),(6,5),(6,4),(6,3),(6,2),(6,1)}\\n                      \\n'"
      ]
     },
     "execution_count": 3,
     "metadata": {},
     "output_type": "execute_result"
    }
   ],
   "source": [
    "'''\n",
    "measurable space: {1,2,3,4,5,6}\n",
    "\n",
    "random variable: {(1,6),(1,5),(1,4),(1,3),(1,2),(1,1),\n",
    "                  (2,6),(2,5),(2,4),(2,3),(2,2),(2,1),\n",
    "                  (3,6),(3,5),(3,4),(3,3),(3,2),(3,1),\n",
    "                  (4,6),(4,5),(4,4),(4,3),(4,2),(4,1),\n",
    "                  (5,6),(5,5),(5,4),(5,3),(5,2),(5,1),\n",
    "                  (6,6),(6,5),(6,4),(6,3),(6,2),(6,1)}\n",
    "                      \n",
    "'''\n",
    "\n",
    "                      "
   ]
  },
  {
   "cell_type": "markdown",
   "metadata": {},
   "source": [
    "B. The sum of the values obtained."
   ]
  },
  {
   "cell_type": "code",
   "execution_count": null,
   "metadata": {},
   "outputs": [],
   "source": [
    "'''\n",
    "measurable space:{2,3,4,5,6,7,8,9,10,11,12}\n",
    "\n",
    "\n",
    "\n",
    "random variable:{(1,1)\n",
    "                 (1,2),(2,1)\n",
    "                 (1,3),(3,1),(2,2)\n",
    "                 (1,4),(4,1),(2,3),(3,2)\n",
    "                 (1,5),(5,1),(2,4),(4,2),(3,3)\n",
    "                 (1,6),(2,5),(3,4),(4,3),(5,2),(6,1)\n",
    "                 (2,6),(3,5),(4,4),(5,3),(6,2)\n",
    "                 (3,6),(4,5),(5,4),(6,3)\n",
    "                 (4,6),(5,5),(6,4)\n",
    "                 (5,6),(6,5)\n",
    "                 (6,6)   \n",
    "                    } \n",
    "\n",
    "\n",
    "'''\n",
    "\n"
   ]
  },
  {
   "cell_type": "markdown",
   "metadata": {},
   "source": [
    "C. The maximum value obtained after rolling both dices."
   ]
  },
  {
   "cell_type": "code",
   "execution_count": null,
   "metadata": {},
   "outputs": [],
   "source": [
    "\n",
    "'''\n",
    "measurable space:{12}\n",
    "random variable:{(6,6)}\n",
    "\n",
    "'''\n",
    "\n",
    "    "
   ]
  },
  {
   "cell_type": "markdown",
   "metadata": {},
   "source": [
    "### Describe the following events:\n",
    "\n",
    "Case A: Both values are greater than 5.\n",
    "\n"
   ]
  },
  {
   "cell_type": "code",
   "execution_count": null,
   "metadata": {},
   "outputs": [],
   "source": [
    "'''\n",
    "measurable space:{5,6}\n",
    "\n",
    "random variable:{(5,6),(5,5),(6,6),(6,5)}\n",
    "'''\n"
   ]
  },
  {
   "cell_type": "markdown",
   "metadata": {},
   "source": [
    "Case B: The sum of values is even."
   ]
  },
  {
   "cell_type": "code",
   "execution_count": null,
   "metadata": {},
   "outputs": [],
   "source": [
    "'''\n",
    "measurable space:{2,4,6,8,10,12}\n",
    "\n",
    "random variable:{(1,1)\n",
    "                 (1,3),(3,1),(2,2)\n",
    "                 (1,5),(5,1),(2,4),(4,2),(3,3)\n",
    "                 (2,6),(3,5),(4,4),(5,3),(6,2)\n",
    "                 (4,6),(5,5),(6,4)\n",
    "                 (6,6)\n",
    "                    }\n",
    "'''"
   ]
  },
  {
   "cell_type": "markdown",
   "metadata": {},
   "source": [
    "Case C: The maximum is the value of both rolls."
   ]
  },
  {
   "cell_type": "code",
   "execution_count": null,
   "metadata": {},
   "outputs": [],
   "source": [
    "'''\n",
    "measurable space:{12}\n",
    "\n",
    "random variable:{(6,6)}\n",
    "'''"
   ]
  },
  {
   "cell_type": "markdown",
   "metadata": {},
   "source": [
    "# Challenge 2\n"
   ]
  },
  {
   "cell_type": "markdown",
   "metadata": {},
   "source": [
    "One player picks two cards from a poker deck. Describe the measurable space and the random variable for:\n",
    "\n",
    "A. The number of figures he picks.\n",
    "\n"
   ]
  },
  {
   "cell_type": "code",
   "execution_count": null,
   "metadata": {},
   "outputs": [],
   "source": [
    "'''\n",
    "measurable space:{Jack, Queen, King}\n",
    "\n",
    "random variable:{(Jack,Jack),(Jack,Queen),(Jack,King)\n",
    "                 (Queen,Queen),(Queen,Jack),(Queen,King)\n",
    "                 (King,King),(King,Jack),(King,Queen )\n",
    "                 \n",
    "'''"
   ]
  },
  {
   "cell_type": "markdown",
   "metadata": {},
   "source": [
    "B. The sum of card values. Consider that the value of figures is 10 and the value of aces is 15.\n",
    "\n",
    "poke card:{Ace, 2, 3, 4, 5, 6, 7, 8, 9, 10, Jack, Queen, King}\n",
    "\n",
    "Ace=15\n",
    "\n",
    "figures=10\n",
    "\n"
   ]
  },
  {
   "cell_type": "code",
   "execution_count": 4,
   "metadata": {},
   "outputs": [
    {
     "data": {
      "text/plain": [
       "'\\npoke card:{Ace, 2, 3, 4, 5, 6, 7, 8, 9, 10, Jack, Queen, King}\\nAce=15\\nfigures=10\\n\\n\\npoke card:{2, 3, 4, 5, 6, 7, 8, 9, 10, 10, 10, 10, 15}\\n    \\nmeasurable space:{(2,3),(3,2)\\n                  (2,4),(4,2)\\n                  (3,4),(4,3)\\n                  (4,4)\\n                  (5,4),(4,5)\\n                  (5,5),(2,8),(8,2)\\n                  (6,5),(5,6)(2,9),(9,2),(7,4),(4,7)\\n                  (7,5),(5,7),(4,8),(8,4),(3,9),(9,3),(2,10),(10,2)\\n                  (3,10),(10,3)\\n                  (4,10),(10,4)\\n                  (5,10),(10,5)\\n                  (6,10),(10,6)\\n                  (7,10),\\n                  \\n                  \\n                  \\n    \\n    \\n}   \\n\\n\\n\\n'"
      ]
     },
     "execution_count": 4,
     "metadata": {},
     "output_type": "execute_result"
    }
   ],
   "source": [
    "'''\n",
    "\n",
    "measurable space:{5,6,7,8,9,10,11,12,13,14,15,16,17,18,19,20,21,22,23,24,25,30}\n",
    "    \n",
    "random variable:{(2,3),(3,2)    #5\n",
    "                  (2,4),(4,2)    #6\n",
    "                  (3,4),(4,3)    #7\n",
    "                  (4,4)          #8\n",
    "                  (5,4),(4,5)    #9\n",
    "                  (5,5),(2,8),(8,2)    #10\n",
    "                  (6,5),(5,6)(2,9),(9,2),(7,4),(4,7)   #11\n",
    "                  (7,5),(5,7),(4,8),(8,4),(3,9),(9,3),(2,10),(10,2)    #12\n",
    "                  (3,10),(10,3)  #13\n",
    "                  (4,10),(10,4)  #14\n",
    "                  (5,10),(10,5)  #15\n",
    "                  (6,10),(10,6)  #16\n",
    "                  (7,10),(10,7),(2,15),(15,2)    #17\n",
    "                  (8,10),(10,8),(3,15),(15,3)    #18\n",
    "                  (9,10),(10,9),(4,15),(15,4)    #19\n",
    "                  (10,10),(5,15),(15,5)          #20\n",
    "                  (6,15),(15,6)                  #21\n",
    "                  (7,15),(15,7)                  #22\n",
    "                  (8,15),(15,8)                  #23\n",
    "                  (9,15),(15,9)                  #24\n",
    "                  (10,15),(15,10)                #25\n",
    "                  (15,15)                        #30\n",
    "                }   \n",
    "\n",
    "\n",
    "\n",
    "'''\n",
    "\n",
    "\n",
    "    \n"
   ]
  },
  {
   "cell_type": "markdown",
   "metadata": {},
   "source": [
    "C. The number of hearts or spades he picks."
   ]
  },
  {
   "cell_type": "code",
   "execution_count": null,
   "metadata": {},
   "outputs": [],
   "source": [
    "'''\n",
    "measurable space:{(h2,s2),(h2,s3),(h2,s4),(h2,s5),(h2,s6),(h2,s7),(h2,s8),(h2,s9),(h2,s10)\n",
    "                 (h3,s2),(h3,s3),(h3,s4),(h3,s5),(h3,s6),(h3,s7),(h3,s8),(h3,s9),(h3,s10)\n",
    "                 (h4,s2),(h4,s3),(h4,s4),(h4,s5),(h4,s6),(h4,s7),(h4,s8),(h4,s9),(h4,s10)\n",
    "                 (h5,s2),(h5,s3),(h5,s4),(h5,s5),(h5,s6),(h5,s7),(h5,s8),(h5,s9),(h5,s10)\n",
    "                 (h6,s2),(h6,s3),(h6,s4),(h6,s5),(h6,s6),(h6,s7),(h6,s8),(h6,s9),(h6,s10)\n",
    "                 (h7,s2),(h7,s3),(h7,s4),(h7,s5),(h7,s6),(h7,s7),(h7,s8),(h7,s9),(h7,s10)\n",
    "                 (h8,s2),(h8,s3),(h8,s4),(h8,s5),(h8,s6),(h8,s7),(h8,s8),(h8,s9),(h8,s10)\n",
    "                 (h9,s2),(h9,s3),(h9,s4),(h9,s5),(h9,s6),(h9,s7),(h9,s8),(h9,s9),(h9,s10)\n",
    "                 (h10,s2),(h10,s3),(h10,s4),(h10,s5),(h10,s6),(h10,s7),(h10,s8),(h10,s9),(h10,s10)\n",
    "                }\n",
    "\n",
    "\n",
    "random variable:{(h2,s2),(h2,s3),(h2,s4),(h2,s5),(h2,s6),(h2,s7),(h2,s8),(h2,s9),(h2,s10)\n",
    "                 (h3,s2),(h3,s3),(h3,s4),(h3,s5),(h3,s6),(h3,s7),(h3,s8),(h3,s9),(h3,s10)\n",
    "                 (h4,s2),(h4,s3),(h4,s4),(h4,s5),(h4,s6),(h4,s7),(h4,s8),(h4,s9),(h4,s10)\n",
    "                 (h5,s2),(h5,s3),(h5,s4),(h5,s5),(h5,s6),(h5,s7),(h5,s8),(h5,s9),(h5,s10)\n",
    "                 (h6,s2),(h6,s3),(h6,s4),(h6,s5),(h6,s6),(h6,s7),(h6,s8),(h6,s9),(h6,s10)\n",
    "                 (h7,s2),(h7,s3),(h7,s4),(h7,s5),(h7,s6),(h7,s7),(h7,s8),(h7,s9),(h7,s10)\n",
    "                 (h8,s2),(h8,s3),(h8,s4),(h8,s5),(h8,s6),(h8,s7),(h8,s8),(h8,s9),(h8,s10)\n",
    "                 (h9,s2),(h9,s3),(h9,s4),(h9,s5),(h9,s6),(h9,s7),(h9,s8),(h9,s9),(h9,s10)\n",
    "                 (h10,s2),(h10,s3),(h10,s4),(h10,s5),(h10,s6),(h10,s7),(h10,s8),(h10,s9),(h10,s10)\n",
    "                }\n",
    "\n",
    "'''\n",
    "    "
   ]
  },
  {
   "cell_type": "markdown",
   "metadata": {},
   "source": [
    "Describe the following events:\n",
    "\n",
    "Case A: The number of figures in the cards the player picked is two.\n"
   ]
  },
  {
   "cell_type": "code",
   "execution_count": null,
   "metadata": {},
   "outputs": [],
   "source": [
    "\n",
    "'''\n",
    "measurable space:{(Jack,Jack),(Jack,Queen),(Jack,King),(Queen,Queen), (King,King)}\n",
    "\n",
    "random variable:{(Jack,Jack),(Jack,Queen),(Jack,King)\n",
    "                 (Queen,Queen),(Queen,Jack),(Queen,King)\n",
    "                 (King,King),(King,Jack),(King,Queen )\n",
    "                 }\n",
    "'''"
   ]
  },
  {
   "cell_type": "markdown",
   "metadata": {},
   "source": [
    "Case B: The sum of card values is 17.\n"
   ]
  },
  {
   "cell_type": "code",
   "execution_count": null,
   "metadata": {},
   "outputs": [],
   "source": [
    "'''\n",
    "measurable space:{17}\n",
    "random variable:{(7,10),(10,7),(2,15),(15,2)}\n",
    "'''\n",
    "\n"
   ]
  },
  {
   "cell_type": "markdown",
   "metadata": {},
   "source": [
    "Case C: The value of both cards is less than 8."
   ]
  },
  {
   "cell_type": "code",
   "execution_count": null,
   "metadata": {},
   "outputs": [],
   "source": [
    "'''\n",
    "measurable space:{(2,2),(2,3),(2,4),(2,5),(2,6),(2,7)\n",
    "                        (3,3),(3,4),(3,5),(3,6),(3,7)\n",
    "                              (4,4),(4,5),(4,6),(4,7)\n",
    "                                    (5,5),(5,6),(5,7)\n",
    "                                          (6,6),(6,7)\n",
    "                                                (7,7)\n",
    "                  }\n",
    "\n",
    "random variable:{(2,2),(2,3),(2,4),(2,5),(2,6),(2,7)\n",
    "                  (3,2),(3,3),(3,4),(3,5),(3,6),(3,7)\n",
    "                  (4,2),(4,3),(4,4),(4,5),(4,6),(4,7)\n",
    "                  (5,2),(5,3),(5,4),(5,5),(5,6),(5,7)\n",
    "                  (6,2),(6,3),(6,4),(6,5),(6,6),(6,7)\n",
    "                  (7,2),(7,3),(7,4),(7,5),(7,6),(7,7)\n",
    "\n",
    "                  }\n",
    "\n",
    "'''"
   ]
  },
  {
   "cell_type": "markdown",
   "metadata": {},
   "source": [
    "# Challenge 3\n",
    "Two players roll a dice. Describe the measurable space and the random variable for:\n",
    "\n",
    "A. The score of player A.\n"
   ]
  },
  {
   "cell_type": "code",
   "execution_count": null,
   "metadata": {},
   "outputs": [],
   "source": [
    "'''\n",
    "measurable space:{1,2,3,4,5,6}\n",
    "\n",
    "\n",
    "random variable:{1,2,3,4,5,6}\n",
    "\n",
    "'''"
   ]
  },
  {
   "cell_type": "markdown",
   "metadata": {},
   "source": [
    "B. The greatest score.\n"
   ]
  },
  {
   "cell_type": "code",
   "execution_count": null,
   "metadata": {},
   "outputs": [],
   "source": [
    "'''\n",
    "measurable space:{6}\n",
    "\n",
    "\n",
    "random variable:{6,6}\n",
    "\n",
    "'''"
   ]
  },
  {
   "cell_type": "markdown",
   "metadata": {},
   "source": [
    "C. The earnings of player A if the game rules state that:\n",
    "\"The player with the greatest score gets a coin from the other player.\".\n"
   ]
  },
  {
   "cell_type": "code",
   "execution_count": null,
   "metadata": {},
   "outputs": [],
   "source": [
    "'''\n",
    "measurable space:{1}\n",
    "    \n",
    "random variable:{(6,5),(6,4),(6,3),(6,2),(6,1)}\n",
    "\n",
    "'''\n",
    "\n"
   ]
  },
  {
   "cell_type": "markdown",
   "metadata": {},
   "source": [
    "D. The earnings of player A if the game rules state that:\n",
    "\"The player with the greatest score gets as many coins as the difference between the score of player A and player B.\".\n"
   ]
  },
  {
   "cell_type": "code",
   "execution_count": null,
   "metadata": {},
   "outputs": [],
   "source": [
    "'''\n",
    "\n",
    "measurable space:{1,2,3,4,5}\n",
    "    \n",
    "random variable:{(6,5),(6,4),(6,3),(6,2),(6,1)}\n",
    "\n",
    "'''\n",
    "\n",
    "\n",
    "\n",
    "'''"
   ]
  },
  {
   "cell_type": "markdown",
   "metadata": {},
   "source": [
    "Describe the following events:\n",
    "\n",
    "Case A: The score of player A is 2.\n"
   ]
  },
  {
   "cell_type": "code",
   "execution_count": null,
   "metadata": {},
   "outputs": [],
   "source": [
    "'''\n",
    "measurable space:{2}\n",
    "    \n",
    "random variable:{2}\n",
    "\n",
    "\n",
    "'''"
   ]
  },
  {
   "cell_type": "markdown",
   "metadata": {},
   "source": [
    "Case B: The greatest score is lower or equal than 2.\n"
   ]
  },
  {
   "cell_type": "code",
   "execution_count": null,
   "metadata": {},
   "outputs": [],
   "source": [
    "'''\n",
    "measurable space:{(1,1),(1,2),(2,2)}\n",
    "    \n",
    "random variable:{(1,1),(1,2),(2,1),(2,2)}\n",
    "              \n",
    "\n",
    "\n",
    "'''"
   ]
  },
  {
   "cell_type": "markdown",
   "metadata": {},
   "source": [
    "Case C: Considering the case where the winner gets as many coins as the difference between scores (D), describe:\n",
    "Player A wins at least 4 coins.\n",
    "Player A loses more than 2 coins.\n",
    "Player A neither wins nor loses coins."
   ]
  },
  {
   "cell_type": "code",
   "execution_count": null,
   "metadata": {},
   "outputs": [],
   "source": [
    "\n",
    "\n",
    "\n",
    "'''\n",
    "\n",
    "Player A wins at least 4 coins:\n",
    "\n",
    "measurable space:{4}\n",
    "random variable:{(6,1),(6,2),(5,1)}\n",
    "              \n",
    "\n",
    "\n",
    "------------------------------------\n",
    "\n",
    "\n",
    "\n",
    "Player A loses more than 2 coins: \n",
    "\n",
    "measurable space:{4}\n",
    "random variable:{(1,3),(1,4),(1,5),(1,6)\n",
    "                 (2,4),(2,5),(2,6)\n",
    "                 (3,5),(3,6)\n",
    "                 (4,6)      \n",
    "                }\n",
    "\n",
    "------------------------------------\n",
    "\n",
    "\n",
    "\n",
    "Player A neither wins nor loses coins:\n",
    "measurable space:{0}\n",
    "random variable:{(1,1),(2,2),(3,3),(4,4)(5,5)(6,6)}\n",
    "\n",
    "\n",
    "\n",
    "'''"
   ]
  }
 ],
 "metadata": {
  "kernelspec": {
   "display_name": "Python 3",
   "language": "python",
   "name": "python3"
  },
  "language_info": {
   "codemirror_mode": {
    "name": "ipython",
    "version": 3
   },
   "file_extension": ".py",
   "mimetype": "text/x-python",
   "name": "python",
   "nbconvert_exporter": "python",
   "pygments_lexer": "ipython3",
   "version": "3.6.5"
  }
 },
 "nbformat": 4,
 "nbformat_minor": 4
}
