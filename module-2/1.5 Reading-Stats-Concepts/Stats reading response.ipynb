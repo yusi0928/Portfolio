{
 "cells": [
  {
   "cell_type": "markdown",
   "metadata": {},
   "source": [
    "# Challenge 1: What is the difference between expected value and mean?"
   ]
  },
  {
   "cell_type": "markdown",
   "metadata": {},
   "source": [
    "\n",
    "\n",
    "List=[ 5，2，6，2，2，1，2，3，6，1]\n",
    "\n",
    "Mean= (5+2+6+2+2+1+2+3+6+1)/10=30/10=3.0\n",
    "\n",
    "\n",
    "If it is outcome list of a fair six-sided dice for 10 rolls, each roll has the probability of occurrence of 1/6\n",
    "\n",
    "\n",
    "Expected value=1*f(1)+2*f(2)+3*f(3)+5*f(5)+6*f(6)= 30/10=3.0\n"
   ]
  },
  {
   "cell_type": "code",
   "execution_count": 4,
   "metadata": {},
   "outputs": [
    {
     "data": {
      "text/html": [
       "<div>\n",
       "<style scoped>\n",
       "    .dataframe tbody tr th:only-of-type {\n",
       "        vertical-align: middle;\n",
       "    }\n",
       "\n",
       "    .dataframe tbody tr th {\n",
       "        vertical-align: top;\n",
       "    }\n",
       "\n",
       "    .dataframe thead th {\n",
       "        text-align: right;\n",
       "    }\n",
       "</style>\n",
       "<table border=\"1\" class=\"dataframe\">\n",
       "  <thead>\n",
       "    <tr style=\"text-align: right;\">\n",
       "      <th></th>\n",
       "      <th>Value</th>\n",
       "      <th>Frequency</th>\n",
       "    </tr>\n",
       "  </thead>\n",
       "  <tbody>\n",
       "    <tr>\n",
       "      <th>0</th>\n",
       "      <td>1</td>\n",
       "      <td>f(1)=2* 1/10</td>\n",
       "    </tr>\n",
       "    <tr>\n",
       "      <th>1</th>\n",
       "      <td>2</td>\n",
       "      <td>f(2)=4 * 1/10</td>\n",
       "    </tr>\n",
       "    <tr>\n",
       "      <th>2</th>\n",
       "      <td>3</td>\n",
       "      <td>f(3)=1 * 1/10</td>\n",
       "    </tr>\n",
       "    <tr>\n",
       "      <th>3</th>\n",
       "      <td>5</td>\n",
       "      <td>f(5)=1 * 1/10</td>\n",
       "    </tr>\n",
       "    <tr>\n",
       "      <th>4</th>\n",
       "      <td>6</td>\n",
       "      <td>f(6)=2 * 1/10</td>\n",
       "    </tr>\n",
       "  </tbody>\n",
       "</table>\n",
       "</div>"
      ],
      "text/plain": [
       "   Value      Frequency\n",
       "0      1   f(1)=2* 1/10\n",
       "1      2  f(2)=4 * 1/10\n",
       "2      3  f(3)=1 * 1/10\n",
       "3      5  f(5)=1 * 1/10\n",
       "4      6  f(6)=2 * 1/10"
      ]
     },
     "execution_count": 4,
     "metadata": {},
     "output_type": "execute_result"
    }
   ],
   "source": [
    "import pandas as pd\n",
    "\n",
    "data = {'Value':  [1,2,3,5,6],\n",
    "        'Frequency': ['f(1)=2* 1/10', 'f(2)=4 * 1/10','f(3)=1 * 1/10','f(5)=1 * 1/10','f(6)=2 * 1/10']}\n",
    "\n",
    "table = pd.DataFrame(data)\n",
    "table\n"
   ]
  },
  {
   "cell_type": "markdown",
   "metadata": {},
   "source": [
    "Although\n",
    "The output of Mean== The output of Expected value\n",
    "\n",
    "They are different concepts\n",
    "\n",
    "When N is very large each possible value of X (i.e. 1 to 6) will occur with equal probability of 1/6, turning the average to the expectation value.\n",
    "\n",
    "1.\tThe average value is a statistical generalization of multiple occurrences of an event.\n",
    "2.\tThe expected value refers to a single event that will happen in the future. The expected value is numerically the same as the average value, but it is a prediction for a specific future occurrence rather than a generalization across multiple occurrences.\n"
   ]
  },
  {
   "cell_type": "markdown",
   "metadata": {},
   "source": [
    "# Challenge 2: What is the \"problem\" in science with p-values?"
   ]
  },
  {
   "cell_type": "markdown",
   "metadata": {},
   "source": [
    "First of all, some basic concepts before diving into p-values"
   ]
  },
  {
   "cell_type": "markdown",
   "metadata": {},
   "source": [
    "## What Is a Null Hypothesis?\n",
    "A null hypothesis is a type of hypothesis used in statistics that proposes that there is no difference between certain characteristics of a population (or data-generating process).\n",
    "For example, a gambler may be interested in whether a game of chance is fair. If it is fair, then the expected earnings per play is 0 for both players. If the game is not fair, then the expected earnings is positive for one player and negative for the other. To test whether the game is fair, the gambler collects earnings data from many repetitions of the game, calculates the average earnings from these data, then tests the null hypothesis that the expected earnings is not different from zero.\n",
    "If the average earnings from the sample data is sufficiently far from zero, then the gambler will reject the null hypothesis and conclude the alternative hypothesis; namely, that the expected earnings per play is different from zero. If the average earnings from the sample data is close to zero, then the gambler will not reject the null hypothesis, concluding instead that the difference between the average from the data and 0 is explainable by chance alone.\n",
    "\n",
    "\n",
    "KEY TAKEAWAYS\n",
    "\n",
    "•\tA null hypothesis is a type of conjecture used in statistics that proposes that there is no difference between certain characteristics of a population or data-generating process.\n",
    "\n",
    "•\tThe alternative hypothesis proposes that there is a difference.\n",
    "\n",
    "•\tHypothesis testing provides a method to reject a null hypothesis within a certain confidence level. (Null hypotheses cannot be proven, though.)\n"
   ]
  },
  {
   "cell_type": "markdown",
   "metadata": {},
   "source": [
    "## What Is Hypothesis Testing?\n",
    "\n",
    "Hypothesis testing is an act in statistics whereby an analyst tests an assumption regarding a population parameter. The methodology employed by the analyst depends on the nature of the data used and the reason for the analysis.\n",
    "\n",
    "KEY TAKEAWAYS\n",
    "\n",
    "•\tHypothesis testing is used to assess the plausibility of a hypothesis by using sample data.\n",
    "\n",
    "•\tThe test provides evidence concerning the plausibility of the hypothesis, given the data.\n",
    "\n",
    "•\tStatistical analysts test a hypothesis by measuring and examining a random sample of the population being analyzed.\n"
   ]
  },
  {
   "cell_type": "markdown",
   "metadata": {},
   "source": [
    "## What Is P-Value?\n",
    "\n",
    "In statistics, the p-value is the probability of obtaining results as extreme as the observed results of a statistical hypothesis test, assuming that the null hypothesis is correct. The p-value is used as an alternative to rejection points to provide the smallest level of significance at which the null hypothesis would be rejected. A smaller p-value means that there is stronger evidence in favor of the alternative hypothesis.\n",
    "\n",
    "The p-values tells us how likely it is to get a result like this if the Null Hypothesis is true.\n"
   ]
  },
  {
   "attachments": {},
   "cell_type": "markdown",
   "metadata": {},
   "source": [
    "## P-value is one of the most frequently misused and misunderstood in science world.\n",
    "\n",
    "\n",
    "A little over a decade ago, a neuroscientist stopped by a grocery store on his way to his lab to buy a large Atlantic salmon. The fish was placed in an MRI machine, and then it completed what was called an \"open-ended mentalizing task\" where it was asked to determine the emotions that were being experienced by different people in photos.\n",
    "\n",
    "Yes, the salmon was asked to do that. The dead one from the grocery store. But that’s not the weird part. The weird part is that researchers found that so-called significant activation  occurred in neural tissue in a couple places in the dead fish. Turns out, this was a little bit of a stunt. The researchers weren’t studying the mental abilities of dead fish; they wanted to make a point about statistics, and how scientists use them.Which is to say, stats can be done wrong,\n",
    "so wrong that they can make a dead fish seem alive.\n",
    "\n",
    "A lot of the issues surrounding scientific statistics come from a little something called a p-value. The p stands for probability, and it refers to the probability that you would have gotten the results you did just by chance. There are lots of other ways to provide statistical\n",
    "support for your conclusion in science, but p-value is by far the most common, and it’s literally what scientists mean when they report that their findings are “significant”. But it’s also one of the most frequently misused and misunderstood parts of scientific research. And some think it’s time to get rid of it altogether.\n",
    "\n",
    "\n",
    "## Track back to how P-value was invented by Ronald Fisher in 1925  - the milk tea story\n",
    "The p-value was first proposed by a statistician named Ronald Fisher in 1925. Fisher spent a lot of time thinking about how to determine if the results of a study were really meaningful. And, at least according to some accounts, his big breakthrough came after a party in the early 1920s. At this party there was a fellow scientist named Muriel Bristol, and reportedly,  she refused a cup of tea from Fisher because he had added milk after the tea was poured. She only liked her tea when the milk was added first. Fisher didn’t believe she could really taste\n",
    "the difference, so he and a colleague designed an experiment to test her assertion.\n",
    "\n",
    "They made eight cups of tea, half of which were milk first, and half of which were tea first. The order of the cups was random, and, most importantly, unknown to Bristol, though she was told there would be four of each cup. Then, Fisher had her taste each tea one by\n",
    "one and say whether it that cup was milk or tea first. And to Fisher’s great surprise, she went\n",
    "8 for 8. She guessed correctly every time which cup was tea-first and which was milk-first!\n",
    "And that got him to thinking, what are the odds that she got them all right just by guessing?\n",
    "In other words, if she really couldn’t taste the difference, how likely would it be that she got them all right? \n",
    "\n",
    "He calculated that are 70 possible orders for the 8 cups if there are four of each mix. Therefore, the probability that she’d guess the right one by luck alone is 1 in 70. Written mathematically, the value of P is about 0.014. That, in a nutshell, is a p-value, the probability that you’d get that result if chance is the only factor. In other words, there’s really no relationship between the two things you’re testing, in this case, how tea is mixed versus how it tastes, but you could still wind up with data that suggest there is a relationship. Of course, the definition of “chance” varies depending on the experiment, which is why p-values depend a lot on experimental design.\n",
    "\n",
    "Say Fisher had only made 6 cups, 3 of each tea mix. Then, there are only 20 possible orders for the cups, so the odds of getting them all correct is 1 in 20, a p-value of 0.05. Fisher went on to describe an entire field of statistics based on this idea, hich we now call Null Hypothesis Significance Testing. The “null hypothesis” refers to the experiment’s\n",
    "assumption of what “by chance” looks like. Basically, researchers calculate how likely\n",
    "it is that they’ve gotten the data that they did, even if the effect they’re testing for doesn’t exist. Then, if the results are extremely unlikely to occur if the null hypothesis is true, then they can infer that it isn’t. So, in statistical speak, with a low enough p-value, they can reject the null hypothesis, leaving them with whatever alternate hypothesis they had as the explanation for the results.\n",
    "\n",
    "## The 0.05 threshold as the gold standard in scientific research is out of personal preference or convenience. But a result with a p-value of 0.049 isn’t more true than one with a p-value of 0.051.\n",
    "The question becomes, how low does a p-value have to be before you can reject that null hypothesis. Well, the standard answer used in science is less than 1 in 20 odds, or a p-value below 0.05. The problem is, that’s an arbitrary choice. It also traces back to Fisher’s 1925 book, where he said 1 in 20 was quote “convenient”. A year later, he admitted the cutoff was somewhat subjective, but that 0.05 was generally his personal preference. Since then, the 0.05 threshold has become the gold standard in scientific research.\n",
    "\n",
    "A p of less than 0.05, and your results are quote “significant”. It’s often talked about as determining whether or not an effect is real. But the thing is, a result with a p-value of 0.049 isn’t more true than one with a p-value of 0.051. It’s just ever so slightly less likely to be explained by chance or sampling error. This is really key to understand. You’re not more right if you get a lower p-value, because a p-value says nothing about how correct\n",
    "your alternate hypothesis is.\n",
    "\n",
    "Let’s bring it back to tea for a moment. Bristol aced Fisher’s 8-cup study by getting them all correct, which as we noted, has a p-value of 0.014, solidly below the 0.05 threshold. But it being unlikely that she randomly guessed doesn’t prove she could taste the difference. See, it tells us nothing about other possible explanations for her correctness. Like, if the teas had different colors rather than tastes. Or she secretly saw Fisher pouring each cup! Also, it still could have been a one-in-seventy fluke. And sometimes, one might even argue often, 1 in 20 is not a good enough threshold to really rule out that a result is a fluke. \n",
    "\n",
    "Which brings us back to that seemingly undead fish. The spark of life detected in the salmon was actually an artifact of how MRI data is collected and analyzed. See, when researchers analyze MRI data, they look at small units about a cubic millimeter or two in volume. So for the fish, they took each of these units and compared the data before and after the pictures were shown to the fish. That means even though they were just looking at one dead fish’s brain before and after, they were actually making multiple comparisons, potentially, thousands of them.\n",
    "\n",
    "The same issue crops up in all sorts of big studies with lots of data, like nutritional studies where people provide detailed diet information about hundreds of foods, or behavioral studies where participants fill out surveys with dozens of questions. In all cases, even though each individual comparison is unlikely, with enough comparisons, you're bound to find some false positives.\n",
    "\n",
    "\n",
    "## Multiple comparison corrections as a solution- p-hacking\n",
    "There are statistical solutions for this problem, of course, which are simply known as multiple comparison corrections. Though they can get fancy, they usually amount to lowering the threshold for p-value significance. And to their credit, the researchers who looked\n",
    "at the dead salmon also ran their data with multiple comparison corrections, when they\n",
    "did, their data was no longer significant. But not everyone uses these corrections. And though individual studies might give various reasons for skipping them, one thing that's hard to ignore is that researchers are under a lot of pressure to publish their work, and significant results are more likely to get published. This can lead to p-hacking: the practice of\n",
    "analyzing or collecting data, until you get significant p-values. This doesn't have to be intentional, because researchers make many small choices that lead to different results, like we saw with 6 versus 8 cups of tea.\n",
    "\n",
    "This has become such a big issue because, unlike when these statistics were invented, people can now run tests lots of different ways fairly quickly and cheaply, and just go with what's most likely to get their work published. \n",
    "\n",
    "Because of all of these issues surrounding p-values, some are arguing that we should get rid of them altogether. And one journal has totally banned them. And many that say we should ditch the p-value are pushing for an alternate statistical system called Bayesian statistics. P-values, by definition, only examine null hypotheses. The result is then used to infer if the alternative is likely. Bayesian statistics actually look at the probability of both the null and alternative hypotheses. What you wind up with is an exact ratio of how likely one explanation is compared to another. This is called a Bayes factor. And this is a much better answer if you want o know how likely you are to be wrong.\n",
    "\n",
    "This system was around when Fisher came up with p-values. But, depending on the dataset, calculating Bayes factors can require some serious computing power, power that wasn’t available at the time, since, it was before computers. Nowadays, you can have a huge network of computers thousands of miles from you to run calculations while you throw a tea party. But the truth is, replacing p-values with Bayes factors probably won't fix everything.\n",
    "\n",
    "## The factor of human nature behind the P-value and what is defined as 'significant' result in scientific research. Completely separate a study’s publishability from its results is the best solution (maybe)\n",
    "\n",
    "A loftier solution is to completely separate a study’s publishability from its results. This is the goal of two-step manuscript submission, where you submit an introduction to your study and a description of your method, and the journal decides whether to publish before seeing your results.That way, in theory at least, studies would get published based on whether they represent good science, not whether they worked out the way researchers hoped, or whether a p-value or Bayes factor was more or less than some arbitrary threshold. This sort of idea isn’t widely used yet, but it may become more popular as statistical significance meets more sharp criticism.\n",
    "\n",
    "In the end, hopefully, all this controversy surrounding p-values means that academic culture is shifting toward a clearer portrayal of what research results do and don’t really show. And that will make things more accessible for all of us who want to read and understand science, and keep any more zombie fish from showing up.\n"
   ]
  },
  {
   "cell_type": "markdown",
   "metadata": {},
   "source": [
    "# Challenge 3: Applying testing to a specific case: A/B testing."
   ]
  },
  {
   "attachments": {},
   "cell_type": "markdown",
   "metadata": {},
   "source": [
    "we will add a bottom specific for that kind of games inviting the users to click on it:\n",
    "\n",
    "Click here to discover cool games!\n",
    "\n",
    "We think it will work but can we be sure? So instead of implementing this new bottom for all users, we implement it for 10% and we compare the results with the users that didn't have it. Is there a significant difference? Is our bottom working?\n",
    "\n"
   ]
  },
  {
   "cell_type": "markdown",
   "metadata": {},
   "source": [
    "## My assumption and calculation"
   ]
  },
  {
   "cell_type": "markdown",
   "metadata": {},
   "source": [
    "Assuming there are 10,000 visitors on the website, then the players will be\n",
    "\n",
    "Version A: no bottom \n",
    "\n",
    "Version B: with a bottom"
   ]
  },
  {
   "cell_type": "code",
   "execution_count": 6,
   "metadata": {},
   "outputs": [
    {
     "data": {
      "text/html": [
       "<div>\n",
       "<style scoped>\n",
       "    .dataframe tbody tr th:only-of-type {\n",
       "        vertical-align: middle;\n",
       "    }\n",
       "\n",
       "    .dataframe tbody tr th {\n",
       "        vertical-align: top;\n",
       "    }\n",
       "\n",
       "    .dataframe thead th {\n",
       "        text-align: right;\n",
       "    }\n",
       "</style>\n",
       "<table border=\"1\" class=\"dataframe\">\n",
       "  <thead>\n",
       "    <tr style=\"text-align: right;\">\n",
       "      <th></th>\n",
       "      <th>Version</th>\n",
       "      <th>Traffic split</th>\n",
       "      <th>Game play rate</th>\n",
       "    </tr>\n",
       "  </thead>\n",
       "  <tbody>\n",
       "    <tr>\n",
       "      <th>0</th>\n",
       "      <td>A</td>\n",
       "      <td>0.9</td>\n",
       "      <td>0.015</td>\n",
       "    </tr>\n",
       "    <tr>\n",
       "      <th>1</th>\n",
       "      <td>B</td>\n",
       "      <td>0.1</td>\n",
       "      <td>0.020</td>\n",
       "    </tr>\n",
       "  </tbody>\n",
       "</table>\n",
       "</div>"
      ],
      "text/plain": [
       "  Version  Traffic split  Game play rate\n",
       "0       A            0.9           0.015\n",
       "1       B            0.1           0.020"
      ]
     },
     "execution_count": 6,
     "metadata": {},
     "output_type": "execute_result"
    }
   ],
   "source": [
    "import pandas as pd\n",
    "\n",
    "data1 = {'Version':  ['A','B'],\n",
    "        'Traffic split': [0.9,0.1],\n",
    "        'Game play rate': [0.015,0.02]}\n",
    "\n",
    "table = pd.DataFrame(data1)\n",
    "table"
   ]
  },
  {
   "cell_type": "markdown",
   "metadata": {},
   "source": [
    "## Method1 : χ² test for conversion rate"
   ]
  },
  {
   "cell_type": "markdown",
   "metadata": {},
   "source": [
    "The hypothesis to test are:\n",
    "    \n",
    "H₀: “the playing rate is the same for the two versions”\n",
    "    \n",
    "H₁: “the playing rate is higher for version B”"
   ]
  },
  {
   "cell_type": "markdown",
   "metadata": {},
   "source": [
    "### The summary of the observed outcomes is the following"
   ]
  },
  {
   "cell_type": "code",
   "execution_count": 11,
   "metadata": {},
   "outputs": [
    {
     "data": {
      "text/html": [
       "<div>\n",
       "<style scoped>\n",
       "    .dataframe tbody tr th:only-of-type {\n",
       "        vertical-align: middle;\n",
       "    }\n",
       "\n",
       "    .dataframe tbody tr th {\n",
       "        vertical-align: top;\n",
       "    }\n",
       "\n",
       "    .dataframe thead th {\n",
       "        text-align: right;\n",
       "    }\n",
       "</style>\n",
       "<table border=\"1\" class=\"dataframe\">\n",
       "  <thead>\n",
       "    <tr style=\"text-align: right;\">\n",
       "      <th></th>\n",
       "      <th>Version</th>\n",
       "      <th>Visitors</th>\n",
       "      <th>Number of players</th>\n",
       "      <th>Number of non-players</th>\n",
       "    </tr>\n",
       "  </thead>\n",
       "  <tbody>\n",
       "    <tr>\n",
       "      <th>0</th>\n",
       "      <td>A</td>\n",
       "      <td>9000</td>\n",
       "      <td>135</td>\n",
       "      <td>8865</td>\n",
       "    </tr>\n",
       "    <tr>\n",
       "      <th>1</th>\n",
       "      <td>B</td>\n",
       "      <td>1000</td>\n",
       "      <td>20</td>\n",
       "      <td>980</td>\n",
       "    </tr>\n",
       "  </tbody>\n",
       "</table>\n",
       "</div>"
      ],
      "text/plain": [
       "  Version  Visitors  Number of players  Number of non-players\n",
       "0       A      9000                135                   8865\n",
       "1       B      1000                 20                    980"
      ]
     },
     "execution_count": 11,
     "metadata": {},
     "output_type": "execute_result"
    }
   ],
   "source": [
    "data2 = {'Version':  ['A','B'],\n",
    "        'Visitors': [9000,1000],\n",
    "        'Number of players': [135,20],\n",
    "        'Number of non-players': [8865,980]\n",
    "        }\n",
    "\n",
    "observation = pd.DataFrame(data2)\n",
    "observation"
   ]
  },
  {
   "cell_type": "markdown",
   "metadata": {},
   "source": [
    "### Under H₀, the theoretical outcome table is"
   ]
  },
  {
   "cell_type": "code",
   "execution_count": 12,
   "metadata": {},
   "outputs": [
    {
     "data": {
      "text/html": [
       "<div>\n",
       "<style scoped>\n",
       "    .dataframe tbody tr th:only-of-type {\n",
       "        vertical-align: middle;\n",
       "    }\n",
       "\n",
       "    .dataframe tbody tr th {\n",
       "        vertical-align: top;\n",
       "    }\n",
       "\n",
       "    .dataframe thead th {\n",
       "        text-align: right;\n",
       "    }\n",
       "</style>\n",
       "<table border=\"1\" class=\"dataframe\">\n",
       "  <thead>\n",
       "    <tr style=\"text-align: right;\">\n",
       "      <th></th>\n",
       "      <th>Version</th>\n",
       "      <th>Visitors</th>\n",
       "      <th>Number of players H0</th>\n",
       "      <th>Number of non-players H0</th>\n",
       "    </tr>\n",
       "  </thead>\n",
       "  <tbody>\n",
       "    <tr>\n",
       "      <th>0</th>\n",
       "      <td>A</td>\n",
       "      <td>9000</td>\n",
       "      <td>153</td>\n",
       "      <td>8847</td>\n",
       "    </tr>\n",
       "    <tr>\n",
       "      <th>1</th>\n",
       "      <td>B</td>\n",
       "      <td>1000</td>\n",
       "      <td>17</td>\n",
       "      <td>983</td>\n",
       "    </tr>\n",
       "  </tbody>\n",
       "</table>\n",
       "</div>"
      ],
      "text/plain": [
       "  Version  Visitors  Number of players H0  Number of non-players H0\n",
       "0       A      9000                   153                      8847\n",
       "1       B      1000                    17                       983"
      ]
     },
     "execution_count": 12,
     "metadata": {},
     "output_type": "execute_result"
    }
   ],
   "source": [
    "data3 = {'Version':  ['A','B'],\n",
    "        'Visitors': [9000,1000],\n",
    "        'Number of players H0': [153,17],\n",
    "        'Number of non-players H0': [8847,983]\n",
    "        }\n",
    "\n",
    "H0 = pd.DataFrame(data3)\n",
    "H0"
   ]
  },
  {
   "cell_type": "code",
   "execution_count": 14,
   "metadata": {},
   "outputs": [
    {
     "name": "stdout",
     "output_type": "stream",
     "text": [
      "distance d: 2.6928370534378554\n",
      "p-value: 0.10080019478848627\n"
     ]
    }
   ],
   "source": [
    "from scipy.stats import chi2\n",
    "import numpy as np\n",
    "\n",
    "T = np.array([153, 17, 8847, 983])\n",
    "O = np.array([135, 20, 8865, 980])\n",
    "\n",
    "distanceD = np.sum(np.square(T-O)/T)\n",
    "\n",
    "pvalue = chi2.sf(distanceD, df=1)\n",
    "\n",
    "print(\"distance d: {0}\\np-value: {1}\".format(D,pvalue))"
   ]
  },
  {
   "cell_type": "code",
   "execution_count": 18,
   "metadata": {},
   "outputs": [
    {
     "data": {
      "image/png": "[encoded data removed]",
      "text/plain": [
       "<Figure size 432x288 with 1 Axes>"
      ]
     },
     "metadata": {
      "needs_background": "light"
     },
     "output_type": "display_data"
    }
   ],
   "source": [
    "import matplotlib.pyplot as plt\n",
    "\n",
    "d = np.arange(0, 5, 0.1)\n",
    "plt.plot(d, chi2.pdf(d, df=1))\n",
    "plt.fill_between(d[d>distanceD], chi2.pdf(d[d>distanceD], df=1))\n",
    "plt.show()"
   ]
  },
  {
   "cell_type": "markdown",
   "metadata": {},
   "source": [
    "There is a P-value chance that a result at least as distant from the theoretical distribution as the observation \n",
    "would have happened under H₀. With a common go-to α criterion of 5%, we have P-value>α and H₀ can be rejected.\n",
    "\n",
    "\n"
   ]
  },
  {
   "cell_type": "markdown",
   "metadata": {},
   "source": [
    "## Method 2 :  Z-test for conversion rate"
   ]
  },
  {
   "cell_type": "code",
   "execution_count": 19,
   "metadata": {},
   "outputs": [
    {
     "name": "stdout",
     "output_type": "stream",
     "text": [
      "Z-score: 1.084865028585195\n",
      "p-value: 0.1389907194639578\n"
     ]
    }
   ],
   "source": [
    "import numpy as np\n",
    "from scipy.stats import norm\n",
    "\n",
    "mu_B = 0.02\n",
    "mu_A = 0.015\n",
    "\n",
    "var_B = mu_B * (1-mu_B)\n",
    "var_A = mu_A * (1-mu_A)\n",
    "\n",
    "n_B = 1000\n",
    "n_A = 9000\n",
    "\n",
    "Z = (mu_B - mu_A)/np.sqrt(var_B/n_B + var_A/n_A)\n",
    "pvalue = norm.sf(Z)\n",
    "\n",
    "print(\"Z-score: {0}\\np-value: {1}\".format(Z,pvalue))"
   ]
  },
  {
   "cell_type": "code",
   "execution_count": 20,
   "metadata": {},
   "outputs": [
    {
     "data": {
      "image/png": "[encoded data removed]",
      "text/plain": [
       "<Figure size 432x288 with 1 Axes>"
      ]
     },
     "metadata": {
      "needs_background": "light"
     },
     "output_type": "display_data"
    }
   ],
   "source": [
    "import matplotlib.pyplot as plt\n",
    "\n",
    "z = np.arange(-3, 3, 0.1)\n",
    "plt.plot(z, norm.pdf(z))\n",
    "plt.fill_between(z[z>Z], norm.pdf(z[z>Z]))\n",
    "plt.show()"
   ]
  },
  {
   "cell_type": "markdown",
   "metadata": {},
   "source": [
    "## Conclusion"
   ]
  },
  {
   "cell_type": "markdown",
   "metadata": {},
   "source": [
    "With Z-test modelling, the p-value output (0.139) is slightly higher than with the χ² test (0.101). \n",
    "With the same α=0.05 criterion, I would have rejected the null hypothesis."
   ]
  }
 ],
 "metadata": {
  "kernelspec": {
   "display_name": "Python 3",
   "language": "python",
   "name": "python3"
  },
  "language_info": {
   "codemirror_mode": {
    "name": "ipython",
    "version": 3
   },
   "file_extension": ".py",
   "mimetype": "text/x-python",
   "name": "python",
   "nbconvert_exporter": "python",
   "pygments_lexer": "ipython3",
   "version": "3.6.5"
  }
 },
 "nbformat": 4,
 "nbformat_minor": 4
}
