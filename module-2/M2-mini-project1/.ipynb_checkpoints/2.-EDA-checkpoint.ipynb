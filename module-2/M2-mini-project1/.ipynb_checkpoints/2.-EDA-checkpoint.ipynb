{
 "cells": [
  {
   "cell_type": "markdown",
   "metadata": {},
   "source": [
    "# Descriptive Statistics Review\n",
    "\n",
    "In this second part of the lab, we are going to continue working with the data that we cleaned in the last part. \n",
    "Be sure to continue to write clean code and comment your work well!\n",
    "\n",
    "First, lets import our libraries and the data we saved. "
   ]
  },
  {
   "cell_type": "code",
   "execution_count": 1,
   "metadata": {},
   "outputs": [],
   "source": [
    "import pandas as pd\n",
    "import matplotlib.pyplot as plt"
   ]
  },
  {
   "cell_type": "code",
   "execution_count": 2,
   "metadata": {},
   "outputs": [],
   "source": [
    "diamonds = pd.read_csv('diamonds_clean.csv')"
   ]
  },
  {
   "cell_type": "markdown",
   "metadata": {},
   "source": [
    "Now that we cleaned our data, we can proceed with some exploratory analysis. We will analyze the features that affect price the most.\n",
    "\n",
    "Let's start by looking at how the charateristics of a diamond (especially the price, since that's our focus) change based on its color. Remember that you can use the `groupby()` method in pandas. \n",
    "\n",
    "**Using the `describe()` method, take a look on the dataset paying special attention to the variability. Comment what you see.**"
   ]
  },
  {
   "cell_type": "code",
   "execution_count": 3,
   "metadata": {},
   "outputs": [
    {
     "data": {
      "text/html": [
       "<div>\n",
       "<style scoped>\n",
       "    .dataframe tbody tr th:only-of-type {\n",
       "        vertical-align: middle;\n",
       "    }\n",
       "\n",
       "    .dataframe tbody tr th {\n",
       "        vertical-align: top;\n",
       "    }\n",
       "\n",
       "    .dataframe thead th {\n",
       "        text-align: right;\n",
       "    }\n",
       "</style>\n",
       "<table border=\"1\" class=\"dataframe\">\n",
       "  <thead>\n",
       "    <tr style=\"text-align: right;\">\n",
       "      <th></th>\n",
       "      <th>count</th>\n",
       "      <th>mean</th>\n",
       "      <th>std</th>\n",
       "      <th>min</th>\n",
       "      <th>25%</th>\n",
       "      <th>50%</th>\n",
       "      <th>75%</th>\n",
       "      <th>max</th>\n",
       "    </tr>\n",
       "  </thead>\n",
       "  <tbody>\n",
       "    <tr>\n",
       "      <th>carat</th>\n",
       "      <td>53940.0</td>\n",
       "      <td>0.797940</td>\n",
       "      <td>0.474011</td>\n",
       "      <td>0.20</td>\n",
       "      <td>0.40</td>\n",
       "      <td>0.70</td>\n",
       "      <td>1.04</td>\n",
       "      <td>5.010000</td>\n",
       "    </tr>\n",
       "    <tr>\n",
       "      <th>color</th>\n",
       "      <td>53940.0</td>\n",
       "      <td>3.405803</td>\n",
       "      <td>1.701105</td>\n",
       "      <td>0.00</td>\n",
       "      <td>2.00</td>\n",
       "      <td>3.00</td>\n",
       "      <td>5.00</td>\n",
       "      <td>6.000000</td>\n",
       "    </tr>\n",
       "    <tr>\n",
       "      <th>clarity</th>\n",
       "      <td>53940.0</td>\n",
       "      <td>3.051020</td>\n",
       "      <td>1.647136</td>\n",
       "      <td>0.00</td>\n",
       "      <td>2.00</td>\n",
       "      <td>3.00</td>\n",
       "      <td>4.00</td>\n",
       "      <td>7.000000</td>\n",
       "    </tr>\n",
       "    <tr>\n",
       "      <th>depth</th>\n",
       "      <td>53940.0</td>\n",
       "      <td>61.749405</td>\n",
       "      <td>1.432621</td>\n",
       "      <td>43.00</td>\n",
       "      <td>61.00</td>\n",
       "      <td>61.80</td>\n",
       "      <td>62.50</td>\n",
       "      <td>79.000000</td>\n",
       "    </tr>\n",
       "    <tr>\n",
       "      <th>table</th>\n",
       "      <td>53940.0</td>\n",
       "      <td>57.457184</td>\n",
       "      <td>2.234491</td>\n",
       "      <td>43.00</td>\n",
       "      <td>56.00</td>\n",
       "      <td>57.00</td>\n",
       "      <td>59.00</td>\n",
       "      <td>95.000000</td>\n",
       "    </tr>\n",
       "    <tr>\n",
       "      <th>price</th>\n",
       "      <td>53940.0</td>\n",
       "      <td>3932.799722</td>\n",
       "      <td>3989.439738</td>\n",
       "      <td>326.00</td>\n",
       "      <td>950.00</td>\n",
       "      <td>2401.00</td>\n",
       "      <td>5324.25</td>\n",
       "      <td>18823.000000</td>\n",
       "    </tr>\n",
       "    <tr>\n",
       "      <th>x</th>\n",
       "      <td>53932.0</td>\n",
       "      <td>5.732007</td>\n",
       "      <td>1.119670</td>\n",
       "      <td>3.73</td>\n",
       "      <td>4.71</td>\n",
       "      <td>5.70</td>\n",
       "      <td>6.54</td>\n",
       "      <td>10.740000</td>\n",
       "    </tr>\n",
       "    <tr>\n",
       "      <th>y</th>\n",
       "      <td>53933.0</td>\n",
       "      <td>5.734159</td>\n",
       "      <td>1.113273</td>\n",
       "      <td>3.68</td>\n",
       "      <td>4.72</td>\n",
       "      <td>5.71</td>\n",
       "      <td>6.54</td>\n",
       "      <td>19.278421</td>\n",
       "    </tr>\n",
       "    <tr>\n",
       "      <th>z</th>\n",
       "      <td>53932.0</td>\n",
       "      <td>3.539735</td>\n",
       "      <td>0.692051</td>\n",
       "      <td>1.07</td>\n",
       "      <td>2.91</td>\n",
       "      <td>3.53</td>\n",
       "      <td>4.04</td>\n",
       "      <td>8.060000</td>\n",
       "    </tr>\n",
       "  </tbody>\n",
       "</table>\n",
       "</div>"
      ],
      "text/plain": [
       "           count         mean          std     min     25%      50%      75%  \\\n",
       "carat    53940.0     0.797940     0.474011    0.20    0.40     0.70     1.04   \n",
       "color    53940.0     3.405803     1.701105    0.00    2.00     3.00     5.00   \n",
       "clarity  53940.0     3.051020     1.647136    0.00    2.00     3.00     4.00   \n",
       "depth    53940.0    61.749405     1.432621   43.00   61.00    61.80    62.50   \n",
       "table    53940.0    57.457184     2.234491   43.00   56.00    57.00    59.00   \n",
       "price    53940.0  3932.799722  3989.439738  326.00  950.00  2401.00  5324.25   \n",
       "x        53932.0     5.732007     1.119670    3.73    4.71     5.70     6.54   \n",
       "y        53933.0     5.734159     1.113273    3.68    4.72     5.71     6.54   \n",
       "z        53932.0     3.539735     0.692051    1.07    2.91     3.53     4.04   \n",
       "\n",
       "                  max  \n",
       "carat        5.010000  \n",
       "color        6.000000  \n",
       "clarity      7.000000  \n",
       "depth       79.000000  \n",
       "table       95.000000  \n",
       "price    18823.000000  \n",
       "x           10.740000  \n",
       "y           19.278421  \n",
       "z            8.060000  "
      ]
     },
     "execution_count": 3,
     "metadata": {},
     "output_type": "execute_result"
    }
   ],
   "source": [
    "diamonds.describe().transpose()"
   ]
  },
  {
   "cell_type": "code",
   "execution_count": 4,
   "metadata": {},
   "outputs": [
    {
     "data": {
      "text/plain": [
       "'\\nprice=(326-18823)   75 percentile=5324\\n\\nLooks like the price of some diamonds are extrodinary high. Are those prices reasonable?\\n'"
      ]
     },
     "execution_count": 4,
     "metadata": {},
     "output_type": "execute_result"
    }
   ],
   "source": [
    "'''\n",
    "price=(326-18823)   75 percentile=5324\n",
    "\n",
    "Looks like the price of some diamonds are extrodinary high. Are those prices reasonable?\n",
    "'''"
   ]
  },
  {
   "cell_type": "markdown",
   "metadata": {},
   "source": [
    "Let's proceed to check each feature separately. \n",
    "\n",
    "**Before starting, which features do you think that will affect the price most and why? You will contrast your hypotheses with your results.**"
   ]
  },
  {
   "cell_type": "code",
   "execution_count": 5,
   "metadata": {},
   "outputs": [
    {
     "data": {
      "text/plain": [
       "'\\ncarat (weight)\\nsize (x,y,z)\\ncolor\\nclarity\\n\\n'"
      ]
     },
     "execution_count": 5,
     "metadata": {},
     "output_type": "execute_result"
    }
   ],
   "source": [
    "'''\n",
    "carat (weight)\n",
    "size (x,y,z)\n",
    "color\n",
    "clarity\n",
    "\n",
    "'''"
   ]
  },
  {
   "cell_type": "markdown",
   "metadata": {},
   "source": [
    "## 1. The `color` column\n",
    "First, let's look at the color column.\n",
    "\n",
    "**For each different color, find the mean of each column. You should have a matrix with every color as rows and the columns `carat`, `clarity`, etc as columns.**"
   ]
  },
  {
   "cell_type": "code",
   "execution_count": 6,
   "metadata": {},
   "outputs": [
    {
     "name": "stderr",
     "output_type": "stream",
     "text": [
      "/Library/Frameworks/Python.framework/Versions/3.6/lib/python3.6/site-packages/ipykernel_launcher.py:1: FutureWarning: Indexing with multiple keys (implicitly converted to a tuple of keys) will be deprecated, use a list instead.\n",
      "  \"\"\"Entry point for launching an IPython kernel.\n"
     ]
    },
    {
     "data": {
      "text/html": [
       "<div>\n",
       "<style scoped>\n",
       "    .dataframe tbody tr th:only-of-type {\n",
       "        vertical-align: middle;\n",
       "    }\n",
       "\n",
       "    .dataframe tbody tr th {\n",
       "        vertical-align: top;\n",
       "    }\n",
       "\n",
       "    .dataframe thead th {\n",
       "        text-align: right;\n",
       "    }\n",
       "</style>\n",
       "<table border=\"1\" class=\"dataframe\">\n",
       "  <thead>\n",
       "    <tr style=\"text-align: right;\">\n",
       "      <th></th>\n",
       "      <th>color</th>\n",
       "      <th>carat</th>\n",
       "      <th>clarity</th>\n",
       "      <th>price</th>\n",
       "    </tr>\n",
       "  </thead>\n",
       "  <tbody>\n",
       "    <tr>\n",
       "      <th>0</th>\n",
       "      <td>0</td>\n",
       "      <td>1.162137</td>\n",
       "      <td>2.776353</td>\n",
       "      <td>5323.818020</td>\n",
       "    </tr>\n",
       "    <tr>\n",
       "      <th>1</th>\n",
       "      <td>1</td>\n",
       "      <td>1.026927</td>\n",
       "      <td>2.964035</td>\n",
       "      <td>5091.874954</td>\n",
       "    </tr>\n",
       "    <tr>\n",
       "      <th>2</th>\n",
       "      <td>2</td>\n",
       "      <td>0.911799</td>\n",
       "      <td>2.933646</td>\n",
       "      <td>4486.669196</td>\n",
       "    </tr>\n",
       "    <tr>\n",
       "      <th>3</th>\n",
       "      <td>3</td>\n",
       "      <td>0.771190</td>\n",
       "      <td>3.463425</td>\n",
       "      <td>3999.135671</td>\n",
       "    </tr>\n",
       "    <tr>\n",
       "      <th>4</th>\n",
       "      <td>4</td>\n",
       "      <td>0.736538</td>\n",
       "      <td>3.133934</td>\n",
       "      <td>3724.886397</td>\n",
       "    </tr>\n",
       "    <tr>\n",
       "      <th>5</th>\n",
       "      <td>5</td>\n",
       "      <td>0.657867</td>\n",
       "      <td>2.969889</td>\n",
       "      <td>3076.752475</td>\n",
       "    </tr>\n",
       "    <tr>\n",
       "      <th>6</th>\n",
       "      <td>6</td>\n",
       "      <td>0.657795</td>\n",
       "      <td>2.691513</td>\n",
       "      <td>3169.954096</td>\n",
       "    </tr>\n",
       "  </tbody>\n",
       "</table>\n",
       "</div>"
      ],
      "text/plain": [
       "   color     carat   clarity        price\n",
       "0      0  1.162137  2.776353  5323.818020\n",
       "1      1  1.026927  2.964035  5091.874954\n",
       "2      2  0.911799  2.933646  4486.669196\n",
       "3      3  0.771190  3.463425  3999.135671\n",
       "4      4  0.736538  3.133934  3724.886397\n",
       "5      5  0.657867  2.969889  3076.752475\n",
       "6      6  0.657795  2.691513  3169.954096"
      ]
     },
     "execution_count": 6,
     "metadata": {},
     "output_type": "execute_result"
    }
   ],
   "source": [
    "diamonds.groupby('color', as_index=False)['carat','clarity','price'].mean()"
   ]
  },
  {
   "cell_type": "markdown",
   "metadata": {},
   "source": [
    "**What do you see? Pay special attention to the relationship between price and color.**"
   ]
  },
  {
   "cell_type": "code",
   "execution_count": 7,
   "metadata": {},
   "outputs": [
    {
     "data": {
      "text/plain": [
       "'\\nthe better the color, the less the carat. \\n'"
      ]
     },
     "execution_count": 7,
     "metadata": {},
     "output_type": "execute_result"
    }
   ],
   "source": [
    "'''\n",
    "the better the color, the less the carat. \n",
    "'''"
   ]
  },
  {
   "cell_type": "code",
   "execution_count": null,
   "metadata": {},
   "outputs": [
    {
     "data": {
      "text/plain": [
       "<matplotlib.axes._subplots.AxesSubplot at 0x1175bad30>"
      ]
     },
     "execution_count": 8,
     "metadata": {},
     "output_type": "execute_result"
    }
   ],
   "source": [
    "diamonds['color'].plot(kind='bar')"
   ]
  },
  {
   "cell_type": "markdown",
   "metadata": {},
   "source": [
    "Let's go further into the color feature. We will plot the frequency distribution of the diamonds color in our dataset. \n",
    "\n",
    "**Plot the distribution and analyze it. Remember that you can use the pandas `plot()` method.**"
   ]
  },
  {
   "cell_type": "code",
   "execution_count": null,
   "metadata": {},
   "outputs": [],
   "source": [
    "diamonds.boxplot(column='color')\n",
    "# diamonds['color'].hist()\n",
    "\n",
    "import plotly.express as px\n",
    "# px.box(diamonds,y='color')\n",
    "\n",
    "\n",
    "import seaborn as sns\n",
    "\n",
    "Color=sns.boxplot(x='color',y='price',data=diamonds)\n",
    "Color.set_xticklabels(Color.get_xticklabels(),rotation=90)\n",
    "\n",
    "\n",
    "'''\n",
    "color: IQR is between 2-5\n",
    "it dosen't show the color alone affects the price\n",
    "'''"
   ]
  },
  {
   "cell_type": "markdown",
   "metadata": {},
   "source": [
    "## 2.The `carat` column "
   ]
  },
  {
   "cell_type": "markdown",
   "metadata": {},
   "source": [
    "Let's check the `carat` (weight), since this could also be a potential factor for price change.\n",
    "\n",
    "**Find the mean of each column for each value of `carat` using the `groupby` method. Then comment your results.**"
   ]
  },
  {
   "cell_type": "code",
   "execution_count": null,
   "metadata": {},
   "outputs": [],
   "source": [
    "diamonds.groupby('carat',as_index=False)['price'].mean()"
   ]
  },
  {
   "cell_type": "code",
   "execution_count": null,
   "metadata": {},
   "outputs": [],
   "source": [
    "# diamonds.boxplot(column='carat')\n",
    "px.box(diamonds,y='carat')"
   ]
  },
  {
   "cell_type": "markdown",
   "metadata": {},
   "source": [
    "\n",
    "**Plot a histogram of the `carat` column by using the `plot` method (see the docs to find an easy way to do so). What is happening?**"
   ]
  },
  {
   "cell_type": "code",
   "execution_count": null,
   "metadata": {},
   "outputs": [],
   "source": [
    "diamonds['carat'].hist()"
   ]
  },
  {
   "cell_type": "markdown",
   "metadata": {},
   "source": [
    "# 3. The `table` and `clarity` column\n",
    "Finally, let's check the `table`.\n",
    "\n",
    "**Find the mean of each column for each value of `table` using the `groupby` method. Then comment your results.**"
   ]
  },
  {
   "cell_type": "code",
   "execution_count": null,
   "metadata": {},
   "outputs": [],
   "source": [
    "'''\n",
    "Looks like the relationship between table and price is random, table and color, table and clarity are random too.\n",
    "\n",
    "'''\n",
    "\n",
    "diamonds.groupby('table',as_index=False)['price','color','clarity'].mean()\n",
    "\n"
   ]
  },
  {
   "cell_type": "markdown",
   "metadata": {},
   "source": [
    "**Finally, do the same with the `clarity` column.**"
   ]
  },
  {
   "cell_type": "code",
   "execution_count": null,
   "metadata": {},
   "outputs": [],
   "source": [
    "diamonds.groupby('clarity',as_index=False)['price','color','table'].mean()"
   ]
  },
  {
   "cell_type": "markdown",
   "metadata": {},
   "source": [
    "**After looking at your results, which features do you think will affect price the most now? Regarding your hypotheses, do they match your final results? Provide a small overview.**"
   ]
  },
  {
   "cell_type": "code",
   "execution_count": null,
   "metadata": {},
   "outputs": [],
   "source": [
    "'''\n",
    "Looks like the carat will affect the price most. \n",
    "'''"
   ]
  },
  {
   "cell_type": "markdown",
   "metadata": {},
   "source": [
    "# Bonus: taking a deeper look with plots and correlations\n",
    "\n",
    "To take deeper look, we will use the `pairplot` method of `seaborn` library. This method plots a scatterplot for each pair of features and in the diagonal the distribution of the feature.\n",
    "\n",
    "So if you have many features it will take a while, be careful!\n"
   ]
  },
  {
   "cell_type": "code",
   "execution_count": null,
   "metadata": {},
   "outputs": [],
   "source": [
    "#Run this code\n",
    "import seaborn as sns\n",
    "sns.pairplot(diamonds, diag_kind = 'kde', plot_kws = {'alpha': 0.6, 's': 80, 'edgecolor': 'k'})"
   ]
  },
  {
   "cell_type": "code",
   "execution_count": null,
   "metadata": {},
   "outputs": [],
   "source": [
    "sns.pairplot(diamonds[['color','clarity','price','carat']])"
   ]
  },
  {
   "cell_type": "markdown",
   "metadata": {},
   "source": [
    "**What do you see here? What relationships between variables are the most interesting?**"
   ]
  },
  {
   "cell_type": "code",
   "execution_count": null,
   "metadata": {},
   "outputs": [],
   "source": [
    "'''\n",
    "Price vs Carat==> positive correction\n",
    "'''"
   ]
  },
  {
   "cell_type": "markdown",
   "metadata": {},
   "source": [
    "Now we will see a correlation matrix with a plot. As you know a higher correlation means that the feature could be an effect (**but is not for sure**) for the changes on the price.\n",
    "\n",
    "We will see this with a matrix with colors. A lighter color means greater correlation. \n",
    "\n",
    "This is done with the `seaborn` library as well."
   ]
  },
  {
   "cell_type": "code",
   "execution_count": null,
   "metadata": {
    "scrolled": true
   },
   "outputs": [],
   "source": [
    "#Run this code\n",
    "plt.figure(figsize=(20, 20))\n",
    "p = sns.heatmap(diamonds.corr(), annot=True, square=True, cmap='RdBu')"
   ]
  },
  {
   "cell_type": "markdown",
   "metadata": {},
   "source": [
    "**What do you see here? Regarding the results before, does it fit with them?**"
   ]
  },
  {
   "cell_type": "code",
   "execution_count": null,
   "metadata": {},
   "outputs": [],
   "source": [
    "'''\n",
    "correction coefficient between CARAT and Price =0.98.    \n",
    "\n",
    "==> Almost perfectly positively correlated\n",
    "==> The heavier the diamonds, the more costly would be.\n",
    "\n",
    "\n",
    "\n",
    "\n",
    "\n",
    "correction coefficient between CARAT and X,Y,Z =0.98.    \n",
    "\n",
    "==> Almost perfectly positively correlated.\n",
    "==> The heavier the diamonds, the larger the diamonds are.\n",
    "\n",
    "\n",
    "\n",
    "\n",
    "correction coefficient between CLARITY and X,Y,Z/table =(-0.37, -0.38)\n",
    "\n",
    "==> The higher the clarity, the lower the value of length, width, and depth.\n",
    "==> \n",
    "\n",
    "\n",
    "'''"
   ]
  },
  {
   "cell_type": "markdown",
   "metadata": {},
   "source": [
    "Finally, we will calculate the linear regression between the price and the weight. This will be done first by plotting it with the `seaborn` library and then calculating the error with the `scipy` library."
   ]
  },
  {
   "cell_type": "code",
   "execution_count": null,
   "metadata": {
    "scrolled": false
   },
   "outputs": [],
   "source": [
    "#Run this code\n",
    "plt.figure(figsize=(10, 10))\n",
    "sns.regplot(diamonds.carat, diamonds.price, scatter=True)\n"
   ]
  },
  {
   "cell_type": "code",
   "execution_count": null,
   "metadata": {},
   "outputs": [],
   "source": [
    "from scipy import stats\n",
    "from sklearn.linear_model import LinearRegression\n",
    "\n",
    "\n",
    "# use stastical linear regression function to calcuate slope and intercept\n",
    "\n",
    "# Method 1: the output is strange.\n",
    "# slope, intercept, r_value, p_value, std_err = stats.linregress(diamonds.carat, diamonds.price)\n",
    "# print('The slope is: '+ str(slope))\n",
    "# print('The intercept is:' +str(intercept))\n",
    "\n",
    "\n",
    "\n",
    "# Method 2\n",
    "model=LinearRegression()\n",
    "model.fit(diamonds['price'].values.reshape(-1,1),diamonds['carat'])\n",
    "slope=model.coef_\n",
    "intercept=model.intercept_\n",
    "print('The slope is: '+ str(slope))     # Isn't the slop 0.00001 too low, the line is almost flate!!! Can I trust this number?\n",
    "print('The intercept is:' +str(intercept))\n",
    "\n",
    "\n"
   ]
  },
  {
   "cell_type": "code",
   "execution_count": null,
   "metadata": {},
   "outputs": [],
   "source": [
    "import numpy as np\n",
    "from scipy import stats\n",
    "\n",
    "# Calculate the price which is dependent on carat\n",
    "price_calculation=[intercept+slope*x for x in diamonds['carat']]  # output=price\n",
    "\n",
    "# Calculate how far the calculated price from the real price\n",
    "variance_price=[ x-y for x,y in zip(diamonds['price'],price_calculation)]  # variance=real price-caculated price\n",
    "# print(variance_price)\n",
    "\n",
    "\n",
    "\n",
    "\n",
    "\n",
    "# Calculate error%\n",
    "\n",
    "price_cal_avg=np.sqrt((np.mean([a**2 for a in variance_price ])))  # Remove negatives\n",
    "price_actual_avg=diamonds['price'].mean()  # Mean of Price\n",
    "\n",
    "(np.mean([price_cal_avg/price_actual_avg]))*100   # error %\n"
   ]
  },
  {
   "cell_type": "markdown",
   "metadata": {},
   "source": [
    "**What do you think?**"
   ]
  },
  {
   "cell_type": "code",
   "execution_count": null,
   "metadata": {},
   "outputs": [],
   "source": [
    "'''\n",
    "I am not sure which pair of outputs is correct?\n",
    "\n",
    "The error percentate is toooooo high\n",
    "'''"
   ]
  },
  {
   "cell_type": "markdown",
   "metadata": {},
   "source": [
    "**Would you do any other checks on other features? Do you have any comments regarding `carat`?**"
   ]
  },
  {
   "cell_type": "code",
   "execution_count": null,
   "metadata": {},
   "outputs": [],
   "source": [
    "#your thoughts here"
   ]
  },
  {
   "cell_type": "markdown",
   "metadata": {},
   "source": [
    "**Conlcusion**"
   ]
  },
  {
   "cell_type": "markdown",
   "metadata": {},
   "source": [
    "**From our dataset** we can conclude that although `color` and `clarity` have a classification, and thus an assigned importance or weight, they do not influence the monetary value of a diamond in determining way. While it is true that different colors or clarities may have different prices, upon closer examination those variations in price seem to be linked to `carat` (weight) and its `dimensions`. In our analysis, the key factor to determining a diamond's value was placed solely in the aforementioned features, since we can see in our correlation coefficients and in the coefficient of determination that these features are closely related."
   ]
  }
 ],
 "metadata": {
  "kernelspec": {
   "display_name": "Python 3",
   "language": "python",
   "name": "python3"
  },
  "language_info": {
   "codemirror_mode": {
    "name": "ipython",
    "version": 3
   },
   "file_extension": ".py",
   "mimetype": "text/x-python",
   "name": "python",
   "nbconvert_exporter": "python",
   "pygments_lexer": "ipython3",
   "version": "3.6.5"
  }
 },
 "nbformat": 4,
 "nbformat_minor": 2
}
