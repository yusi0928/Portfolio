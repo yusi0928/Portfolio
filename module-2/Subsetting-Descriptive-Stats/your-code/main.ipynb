{
 "cells": [
  {
   "cell_type": "markdown",
   "metadata": {},
   "source": [
    "# Subsetting and Descriptive Stats\n",
    "\n",
    "## Before your start:\n",
    "   - Remember that you just need to do one of the challenges.\n",
    "   - Keep in mind that you need to use some of the functions you learned in the previous lessons.\n",
    "   - All datasets are provided in IronHack's database.\n",
    "   - Elaborate your codes and outputs as much as you can.\n",
    "   - Try your best to answer the questions and complete the tasks and most importantly: enjoy the process!\n",
    "   \n",
    "#### Import all the necessary libraries here:"
   ]
  },
  {
   "cell_type": "code",
   "execution_count": 98,
   "metadata": {},
   "outputs": [],
   "source": [
    "import pandas as pd\n",
    "import numpy as np"
   ]
  },
  {
   "cell_type": "markdown",
   "metadata": {},
   "source": [
    "# [ONLY ONE MANDATORY] Challenge 1\n",
    "#### In this challenge we will use the `Temp_States`  dataset. \n",
    "\n",
    "#### First import it into a dataframe called `temp`."
   ]
  },
  {
   "cell_type": "code",
   "execution_count": 99,
   "metadata": {},
   "outputs": [
    {
     "data": {
      "text/html": [
       "<div>\n",
       "<style scoped>\n",
       "    .dataframe tbody tr th:only-of-type {\n",
       "        vertical-align: middle;\n",
       "    }\n",
       "\n",
       "    .dataframe tbody tr th {\n",
       "        vertical-align: top;\n",
       "    }\n",
       "\n",
       "    .dataframe thead th {\n",
       "        text-align: right;\n",
       "    }\n",
       "</style>\n",
       "<table border=\"1\" class=\"dataframe\">\n",
       "  <thead>\n",
       "    <tr style=\"text-align: right;\">\n",
       "      <th></th>\n",
       "      <th>City</th>\n",
       "      <th>State</th>\n",
       "      <th>Temperature</th>\n",
       "    </tr>\n",
       "  </thead>\n",
       "  <tbody>\n",
       "    <tr>\n",
       "      <th>0</th>\n",
       "      <td>NYC</td>\n",
       "      <td>New York</td>\n",
       "      <td>19.444444</td>\n",
       "    </tr>\n",
       "    <tr>\n",
       "      <th>1</th>\n",
       "      <td>Albany</td>\n",
       "      <td>New York</td>\n",
       "      <td>9.444444</td>\n",
       "    </tr>\n",
       "    <tr>\n",
       "      <th>2</th>\n",
       "      <td>Buffalo</td>\n",
       "      <td>New York</td>\n",
       "      <td>3.333333</td>\n",
       "    </tr>\n",
       "    <tr>\n",
       "      <th>3</th>\n",
       "      <td>Hartford</td>\n",
       "      <td>Connecticut</td>\n",
       "      <td>17.222222</td>\n",
       "    </tr>\n",
       "    <tr>\n",
       "      <th>4</th>\n",
       "      <td>Bridgeport</td>\n",
       "      <td>Connecticut</td>\n",
       "      <td>14.444444</td>\n",
       "    </tr>\n",
       "    <tr>\n",
       "      <th>5</th>\n",
       "      <td>Treton</td>\n",
       "      <td>New Jersey</td>\n",
       "      <td>22.222222</td>\n",
       "    </tr>\n",
       "    <tr>\n",
       "      <th>6</th>\n",
       "      <td>Newark</td>\n",
       "      <td>New Jersey</td>\n",
       "      <td>20.000000</td>\n",
       "    </tr>\n",
       "  </tbody>\n",
       "</table>\n",
       "</div>"
      ],
      "text/plain": [
       "         City        State  Temperature\n",
       "0         NYC     New York    19.444444\n",
       "1      Albany     New York     9.444444\n",
       "2     Buffalo     New York     3.333333\n",
       "3    Hartford  Connecticut    17.222222\n",
       "4  Bridgeport  Connecticut    14.444444\n",
       "5      Treton   New Jersey    22.222222\n",
       "6      Newark   New Jersey    20.000000"
      ]
     },
     "execution_count": 99,
     "metadata": {},
     "output_type": "execute_result"
    }
   ],
   "source": [
    "temp=pd.read_csv('../Temp_states.csv')\n",
    "\n",
    "temp.head(10)\n"
   ]
  },
  {
   "cell_type": "markdown",
   "metadata": {},
   "source": [
    "#### Print `temp`."
   ]
  },
  {
   "cell_type": "code",
   "execution_count": 100,
   "metadata": {},
   "outputs": [
    {
     "name": "stdout",
     "output_type": "stream",
     "text": [
      "         City        State  Temperature\n",
      "0         NYC     New York    19.444444\n",
      "1      Albany     New York     9.444444\n",
      "2     Buffalo     New York     3.333333\n",
      "3    Hartford  Connecticut    17.222222\n",
      "4  Bridgeport  Connecticut    14.444444\n",
      "5      Treton   New Jersey    22.222222\n",
      "6      Newark   New Jersey    20.000000\n"
     ]
    }
   ],
   "source": [
    "print(temp)"
   ]
  },
  {
   "cell_type": "markdown",
   "metadata": {},
   "source": [
    "#### Explore the data types of the *temp* dataframe. What types of data do we have? Comment your result."
   ]
  },
  {
   "cell_type": "code",
   "execution_count": 101,
   "metadata": {},
   "outputs": [
    {
     "data": {
      "text/plain": [
       "City            object\n",
       "State           object\n",
       "Temperature    float64\n",
       "dtype: object"
      ]
     },
     "execution_count": 101,
     "metadata": {},
     "output_type": "execute_result"
    }
   ],
   "source": [
    "temp.dtypes"
   ]
  },
  {
   "cell_type": "code",
   "execution_count": 102,
   "metadata": {},
   "outputs": [
    {
     "data": {
      "text/plain": [
       "'\\nOut of 3 columns, 2 are objects and Temperatures are float\\n'"
      ]
     },
     "execution_count": 102,
     "metadata": {},
     "output_type": "execute_result"
    }
   ],
   "source": [
    "\"\"\"\n",
    "Out of 3 columns, 2 are objects and Temperatures are float\n",
    "\"\"\""
   ]
  },
  {
   "cell_type": "markdown",
   "metadata": {},
   "source": [
    "#### Select the rows where state is New York."
   ]
  },
  {
   "cell_type": "code",
   "execution_count": 103,
   "metadata": {},
   "outputs": [
    {
     "data": {
      "text/html": [
       "<div>\n",
       "<style scoped>\n",
       "    .dataframe tbody tr th:only-of-type {\n",
       "        vertical-align: middle;\n",
       "    }\n",
       "\n",
       "    .dataframe tbody tr th {\n",
       "        vertical-align: top;\n",
       "    }\n",
       "\n",
       "    .dataframe thead th {\n",
       "        text-align: right;\n",
       "    }\n",
       "</style>\n",
       "<table border=\"1\" class=\"dataframe\">\n",
       "  <thead>\n",
       "    <tr style=\"text-align: right;\">\n",
       "      <th></th>\n",
       "      <th>City</th>\n",
       "      <th>State</th>\n",
       "      <th>Temperature</th>\n",
       "    </tr>\n",
       "  </thead>\n",
       "  <tbody>\n",
       "    <tr>\n",
       "      <th>0</th>\n",
       "      <td>NYC</td>\n",
       "      <td>New York</td>\n",
       "      <td>19.444444</td>\n",
       "    </tr>\n",
       "    <tr>\n",
       "      <th>1</th>\n",
       "      <td>Albany</td>\n",
       "      <td>New York</td>\n",
       "      <td>9.444444</td>\n",
       "    </tr>\n",
       "    <tr>\n",
       "      <th>2</th>\n",
       "      <td>Buffalo</td>\n",
       "      <td>New York</td>\n",
       "      <td>3.333333</td>\n",
       "    </tr>\n",
       "  </tbody>\n",
       "</table>\n",
       "</div>"
      ],
      "text/plain": [
       "      City     State  Temperature\n",
       "0      NYC  New York    19.444444\n",
       "1   Albany  New York     9.444444\n",
       "2  Buffalo  New York     3.333333"
      ]
     },
     "execution_count": 103,
     "metadata": {},
     "output_type": "execute_result"
    }
   ],
   "source": [
    "NY=temp[temp.State.isin(['New York'])]\n",
    "NY"
   ]
  },
  {
   "cell_type": "markdown",
   "metadata": {},
   "source": [
    "#### What is the average temperature of cities in New York?"
   ]
  },
  {
   "cell_type": "code",
   "execution_count": 104,
   "metadata": {},
   "outputs": [
    {
     "data": {
      "text/plain": [
       "10.74074074074074"
      ]
     },
     "execution_count": 104,
     "metadata": {},
     "output_type": "execute_result"
    }
   ],
   "source": [
    "NY['Temperature'].mean()"
   ]
  },
  {
   "cell_type": "markdown",
   "metadata": {},
   "source": [
    "#### Which states and cities have a temperature above 15 degrees Celsius?"
   ]
  },
  {
   "cell_type": "code",
   "execution_count": 105,
   "metadata": {},
   "outputs": [
    {
     "data": {
      "text/html": [
       "<div>\n",
       "<style scoped>\n",
       "    .dataframe tbody tr th:only-of-type {\n",
       "        vertical-align: middle;\n",
       "    }\n",
       "\n",
       "    .dataframe tbody tr th {\n",
       "        vertical-align: top;\n",
       "    }\n",
       "\n",
       "    .dataframe thead th {\n",
       "        text-align: right;\n",
       "    }\n",
       "</style>\n",
       "<table border=\"1\" class=\"dataframe\">\n",
       "  <thead>\n",
       "    <tr style=\"text-align: right;\">\n",
       "      <th></th>\n",
       "      <th>City</th>\n",
       "      <th>State</th>\n",
       "      <th>Temperature</th>\n",
       "    </tr>\n",
       "  </thead>\n",
       "  <tbody>\n",
       "    <tr>\n",
       "      <th>0</th>\n",
       "      <td>NYC</td>\n",
       "      <td>New York</td>\n",
       "      <td>19.444444</td>\n",
       "    </tr>\n",
       "    <tr>\n",
       "      <th>3</th>\n",
       "      <td>Hartford</td>\n",
       "      <td>Connecticut</td>\n",
       "      <td>17.222222</td>\n",
       "    </tr>\n",
       "    <tr>\n",
       "      <th>5</th>\n",
       "      <td>Treton</td>\n",
       "      <td>New Jersey</td>\n",
       "      <td>22.222222</td>\n",
       "    </tr>\n",
       "    <tr>\n",
       "      <th>6</th>\n",
       "      <td>Newark</td>\n",
       "      <td>New Jersey</td>\n",
       "      <td>20.000000</td>\n",
       "    </tr>\n",
       "  </tbody>\n",
       "</table>\n",
       "</div>"
      ],
      "text/plain": [
       "       City        State  Temperature\n",
       "0       NYC     New York    19.444444\n",
       "3  Hartford  Connecticut    17.222222\n",
       "5    Treton   New Jersey    22.222222\n",
       "6    Newark   New Jersey    20.000000"
      ]
     },
     "execution_count": 105,
     "metadata": {},
     "output_type": "execute_result"
    }
   ],
   "source": [
    "temp15=temp[temp['Temperature']>15]\n",
    "temp15"
   ]
  },
  {
   "cell_type": "markdown",
   "metadata": {},
   "source": [
    "#### Now, return only the cities that have a temperature above 15 degrees Celsius."
   ]
  },
  {
   "cell_type": "code",
   "execution_count": 106,
   "metadata": {},
   "outputs": [
    {
     "data": {
      "text/html": [
       "<div>\n",
       "<style scoped>\n",
       "    .dataframe tbody tr th:only-of-type {\n",
       "        vertical-align: middle;\n",
       "    }\n",
       "\n",
       "    .dataframe tbody tr th {\n",
       "        vertical-align: top;\n",
       "    }\n",
       "\n",
       "    .dataframe thead th {\n",
       "        text-align: right;\n",
       "    }\n",
       "</style>\n",
       "<table border=\"1\" class=\"dataframe\">\n",
       "  <thead>\n",
       "    <tr style=\"text-align: right;\">\n",
       "      <th></th>\n",
       "      <th>City</th>\n",
       "    </tr>\n",
       "  </thead>\n",
       "  <tbody>\n",
       "    <tr>\n",
       "      <th>0</th>\n",
       "      <td>NYC</td>\n",
       "    </tr>\n",
       "    <tr>\n",
       "      <th>3</th>\n",
       "      <td>Hartford</td>\n",
       "    </tr>\n",
       "    <tr>\n",
       "      <th>5</th>\n",
       "      <td>Treton</td>\n",
       "    </tr>\n",
       "    <tr>\n",
       "      <th>6</th>\n",
       "      <td>Newark</td>\n",
       "    </tr>\n",
       "  </tbody>\n",
       "</table>\n",
       "</div>"
      ],
      "text/plain": [
       "       City\n",
       "0       NYC\n",
       "3  Hartford\n",
       "5    Treton\n",
       "6    Newark"
      ]
     },
     "execution_count": 106,
     "metadata": {},
     "output_type": "execute_result"
    }
   ],
   "source": [
    "temp15['City'].to_frame()"
   ]
  },
  {
   "cell_type": "markdown",
   "metadata": {},
   "source": [
    "#### Which cities have a temperature above 15 degrees Celcius and below 20 degrees Celsius?\n",
    "\n",
    "**Hint**: First, write the condition. Then, select the rows."
   ]
  },
  {
   "cell_type": "code",
   "execution_count": 107,
   "metadata": {},
   "outputs": [
    {
     "data": {
      "text/html": [
       "<div>\n",
       "<style scoped>\n",
       "    .dataframe tbody tr th:only-of-type {\n",
       "        vertical-align: middle;\n",
       "    }\n",
       "\n",
       "    .dataframe tbody tr th {\n",
       "        vertical-align: top;\n",
       "    }\n",
       "\n",
       "    .dataframe thead th {\n",
       "        text-align: right;\n",
       "    }\n",
       "</style>\n",
       "<table border=\"1\" class=\"dataframe\">\n",
       "  <thead>\n",
       "    <tr style=\"text-align: right;\">\n",
       "      <th></th>\n",
       "      <th>City</th>\n",
       "      <th>State</th>\n",
       "      <th>Temperature</th>\n",
       "    </tr>\n",
       "  </thead>\n",
       "  <tbody>\n",
       "    <tr>\n",
       "      <th>0</th>\n",
       "      <td>NYC</td>\n",
       "      <td>New York</td>\n",
       "      <td>19.444444</td>\n",
       "    </tr>\n",
       "    <tr>\n",
       "      <th>3</th>\n",
       "      <td>Hartford</td>\n",
       "      <td>Connecticut</td>\n",
       "      <td>17.222222</td>\n",
       "    </tr>\n",
       "  </tbody>\n",
       "</table>\n",
       "</div>"
      ],
      "text/plain": [
       "       City        State  Temperature\n",
       "0       NYC     New York    19.444444\n",
       "3  Hartford  Connecticut    17.222222"
      ]
     },
     "execution_count": 107,
     "metadata": {},
     "output_type": "execute_result"
    }
   ],
   "source": [
    "temp15_20=temp[(temp['Temperature']<20)&(temp['Temperature']>15)]\n",
    "temp15_20\n"
   ]
  },
  {
   "cell_type": "markdown",
   "metadata": {},
   "source": [
    "#### Find the mean and standard deviation of the temperature of each state."
   ]
  },
  {
   "cell_type": "code",
   "execution_count": 108,
   "metadata": {},
   "outputs": [
    {
     "data": {
      "text/html": [
       "<div>\n",
       "<style scoped>\n",
       "    .dataframe tbody tr th:only-of-type {\n",
       "        vertical-align: middle;\n",
       "    }\n",
       "\n",
       "    .dataframe tbody tr th {\n",
       "        vertical-align: top;\n",
       "    }\n",
       "\n",
       "    .dataframe thead th {\n",
       "        text-align: right;\n",
       "    }\n",
       "</style>\n",
       "<table border=\"1\" class=\"dataframe\">\n",
       "  <thead>\n",
       "    <tr style=\"text-align: right;\">\n",
       "      <th></th>\n",
       "      <th>State</th>\n",
       "      <th>Temperature</th>\n",
       "    </tr>\n",
       "  </thead>\n",
       "  <tbody>\n",
       "    <tr>\n",
       "      <th>0</th>\n",
       "      <td>Connecticut</td>\n",
       "      <td>15.833333</td>\n",
       "    </tr>\n",
       "    <tr>\n",
       "      <th>1</th>\n",
       "      <td>New Jersey</td>\n",
       "      <td>21.111111</td>\n",
       "    </tr>\n",
       "    <tr>\n",
       "      <th>2</th>\n",
       "      <td>New York</td>\n",
       "      <td>10.740741</td>\n",
       "    </tr>\n",
       "  </tbody>\n",
       "</table>\n",
       "</div>"
      ],
      "text/plain": [
       "         State  Temperature\n",
       "0  Connecticut    15.833333\n",
       "1   New Jersey    21.111111\n",
       "2     New York    10.740741"
      ]
     },
     "execution_count": 108,
     "metadata": {},
     "output_type": "execute_result"
    }
   ],
   "source": [
    "temp.groupby('State', as_index=False)['Temperature'].mean()\n",
    "# temp.groupby('State', as_index=False)['Temperature'].std()\n",
    "\n"
   ]
  },
  {
   "cell_type": "markdown",
   "metadata": {
    "collapsed": true
   },
   "source": [
    "# [ONLY ONE MANDATORY]  Challenge 2"
   ]
  },
  {
   "cell_type": "markdown",
   "metadata": {},
   "source": [
    "#### Load the `employees` dataset into a dataframe. Call the dataframe `employees`."
   ]
  },
  {
   "cell_type": "code",
   "execution_count": 109,
   "metadata": {},
   "outputs": [
    {
     "data": {
      "text/html": [
       "<div>\n",
       "<style scoped>\n",
       "    .dataframe tbody tr th:only-of-type {\n",
       "        vertical-align: middle;\n",
       "    }\n",
       "\n",
       "    .dataframe tbody tr th {\n",
       "        vertical-align: top;\n",
       "    }\n",
       "\n",
       "    .dataframe thead th {\n",
       "        text-align: right;\n",
       "    }\n",
       "</style>\n",
       "<table border=\"1\" class=\"dataframe\">\n",
       "  <thead>\n",
       "    <tr style=\"text-align: right;\">\n",
       "      <th></th>\n",
       "      <th>Department</th>\n",
       "      <th>Education</th>\n",
       "      <th>Title</th>\n",
       "      <th>Name</th>\n",
       "      <th>Years</th>\n",
       "      <th>Salary</th>\n",
       "    </tr>\n",
       "  </thead>\n",
       "  <tbody>\n",
       "    <tr>\n",
       "      <th>0</th>\n",
       "      <td>Admin</td>\n",
       "      <td>Master</td>\n",
       "      <td>associate</td>\n",
       "      <td>David</td>\n",
       "      <td>4</td>\n",
       "      <td>58</td>\n",
       "    </tr>\n",
       "    <tr>\n",
       "      <th>1</th>\n",
       "      <td>IT</td>\n",
       "      <td>Master</td>\n",
       "      <td>associate</td>\n",
       "      <td>Thomas</td>\n",
       "      <td>7</td>\n",
       "      <td>45</td>\n",
       "    </tr>\n",
       "    <tr>\n",
       "      <th>2</th>\n",
       "      <td>Admin</td>\n",
       "      <td>Master</td>\n",
       "      <td>associate</td>\n",
       "      <td>Diana</td>\n",
       "      <td>10</td>\n",
       "      <td>52</td>\n",
       "    </tr>\n",
       "    <tr>\n",
       "      <th>3</th>\n",
       "      <td>Admin</td>\n",
       "      <td>Master</td>\n",
       "      <td>VP</td>\n",
       "      <td>Manuella</td>\n",
       "      <td>15</td>\n",
       "      <td>33</td>\n",
       "    </tr>\n",
       "    <tr>\n",
       "      <th>4</th>\n",
       "      <td>Sales</td>\n",
       "      <td>Master</td>\n",
       "      <td>Analyst</td>\n",
       "      <td>Carla</td>\n",
       "      <td>6</td>\n",
       "      <td>38</td>\n",
       "    </tr>\n",
       "    <tr>\n",
       "      <th>...</th>\n",
       "      <td>...</td>\n",
       "      <td>...</td>\n",
       "      <td>...</td>\n",
       "      <td>...</td>\n",
       "      <td>...</td>\n",
       "      <td>...</td>\n",
       "    </tr>\n",
       "    <tr>\n",
       "      <th>495</th>\n",
       "      <td>Sales</td>\n",
       "      <td>PhD</td>\n",
       "      <td>VP</td>\n",
       "      <td>Calvin</td>\n",
       "      <td>2</td>\n",
       "      <td>119</td>\n",
       "    </tr>\n",
       "    <tr>\n",
       "      <th>496</th>\n",
       "      <td>HR</td>\n",
       "      <td>Master</td>\n",
       "      <td>Analyst</td>\n",
       "      <td>Dustin</td>\n",
       "      <td>6</td>\n",
       "      <td>67</td>\n",
       "    </tr>\n",
       "    <tr>\n",
       "      <th>497</th>\n",
       "      <td>Sales</td>\n",
       "      <td>PhD</td>\n",
       "      <td>VP</td>\n",
       "      <td>Winston</td>\n",
       "      <td>13</td>\n",
       "      <td>93</td>\n",
       "    </tr>\n",
       "    <tr>\n",
       "      <th>498</th>\n",
       "      <td>IT</td>\n",
       "      <td>PhD</td>\n",
       "      <td>Analyst</td>\n",
       "      <td>Earl</td>\n",
       "      <td>12</td>\n",
       "      <td>108</td>\n",
       "    </tr>\n",
       "    <tr>\n",
       "      <th>499</th>\n",
       "      <td>Sales</td>\n",
       "      <td>Master</td>\n",
       "      <td>Analyst</td>\n",
       "      <td>Alvin</td>\n",
       "      <td>13</td>\n",
       "      <td>48</td>\n",
       "    </tr>\n",
       "  </tbody>\n",
       "</table>\n",
       "<p>500 rows × 6 columns</p>\n",
       "</div>"
      ],
      "text/plain": [
       "    Department Education      Title      Name  Years  Salary\n",
       "0        Admin    Master  associate     David      4      58\n",
       "1           IT    Master  associate    Thomas      7      45\n",
       "2        Admin    Master  associate     Diana     10      52\n",
       "3        Admin    Master         VP  Manuella     15      33\n",
       "4        Sales    Master    Analyst     Carla      6      38\n",
       "..         ...       ...        ...       ...    ...     ...\n",
       "495      Sales       PhD         VP    Calvin      2     119\n",
       "496         HR    Master    Analyst    Dustin      6      67\n",
       "497      Sales       PhD         VP   Winston     13      93\n",
       "498         IT       PhD    Analyst      Earl     12     108\n",
       "499      Sales    Master    Analyst     Alvin     13      48\n",
       "\n",
       "[500 rows x 6 columns]"
      ]
     },
     "execution_count": 109,
     "metadata": {},
     "output_type": "execute_result"
    }
   ],
   "source": [
    "employees=pd.read_csv('../employees.csv')\n",
    "employees"
   ]
  },
  {
   "cell_type": "markdown",
   "metadata": {},
   "source": [
    "#### Explore the data types of the `employees` dataframe. Comment your results."
   ]
  },
  {
   "cell_type": "code",
   "execution_count": 110,
   "metadata": {},
   "outputs": [
    {
     "data": {
      "text/plain": [
       "Department    object\n",
       "Education     object\n",
       "Title         object\n",
       "Name          object\n",
       "Years          int64\n",
       "Salary         int64\n",
       "dtype: object"
      ]
     },
     "execution_count": 110,
     "metadata": {},
     "output_type": "execute_result"
    }
   ],
   "source": [
    "employees.dtypes"
   ]
  },
  {
   "cell_type": "code",
   "execution_count": 111,
   "metadata": {},
   "outputs": [
    {
     "data": {
      "text/plain": [
       "\"\\nExcept for 'Years' and 'Salary', rest are objects.\\n\""
      ]
     },
     "execution_count": 111,
     "metadata": {},
     "output_type": "execute_result"
    }
   ],
   "source": [
    "\"\"\"\n",
    "Except for 'Years' and 'Salary', rest are objects.\n",
    "\"\"\""
   ]
  },
  {
   "cell_type": "code",
   "execution_count": 112,
   "metadata": {},
   "outputs": [
    {
     "data": {
      "text/plain": [
       "<matplotlib.axes._subplots.AxesSubplot at 0x129bb39e8>"
      ]
     },
     "execution_count": 112,
     "metadata": {},
     "output_type": "execute_result"
    },
    {
     "data": {
      "image/png": "[encoded data removed]",
      "text/plain": [
       "<Figure size 432x288 with 1 Axes>"
      ]
     },
     "metadata": {
      "needs_background": "light"
     },
     "output_type": "display_data"
    }
   ],
   "source": [
    "import matplotlib.pyplot as plt\n",
    "%matplotlib inline\n",
    "\n",
    "employees.boxplot(column='Salary')"
   ]
  },
  {
   "cell_type": "code",
   "execution_count": 113,
   "metadata": {},
   "outputs": [
    {
     "data": {
      "application/vnd.plotly.v1+json": {
       "config": {
        "plotlyServerURL": "https://plot.ly"
       },
       "data": [
        {
         "alignmentgroup": "True",
         "hovertemplate": "Salary=%{y}<extra></extra>",
         "legendgroup": "",
         "marker": {
          "color": "#636efa"
         },
         "name": "",
         "notched": false,
         "offsetgroup": "",
         "orientation": "v",
         "showlegend": false,
         "type": "box",
         "x0": " ",
         "xaxis": "x",
         "y": [
          58,
          45,
          52,
          33,
          38,
          71,
          33,
          53,
          50,
          104,
          114,
          85,
          46,
          102,
          51,
          44,
          99,
          102,
          79,
          111,
          56,
          37,
          71,
          94,
          82,
          44,
          87,
          30,
          85,
          52,
          50,
          38,
          60,
          64,
          103,
          97,
          96,
          61,
          101,
          104,
          114,
          76,
          71,
          38,
          53,
          98,
          87,
          31,
          69,
          91,
          82,
          80,
          90,
          33,
          107,
          97,
          98,
          92,
          75,
          59,
          85,
          85,
          68,
          51,
          95,
          84,
          109,
          33,
          32,
          119,
          111,
          120,
          97,
          111,
          55,
          61,
          70,
          42,
          93,
          45,
          113,
          75,
          62,
          118,
          117,
          69,
          74,
          117,
          40,
          105,
          94,
          42,
          70,
          57,
          115,
          114,
          47,
          68,
          71,
          109,
          87,
          72,
          78,
          66,
          33,
          51,
          30,
          61,
          96,
          55,
          114,
          106,
          59,
          111,
          35,
          32,
          75,
          49,
          113,
          99,
          88,
          72,
          36,
          105,
          31,
          94,
          50,
          81,
          30,
          81,
          78,
          69,
          111,
          108,
          65,
          101,
          99,
          57,
          51,
          30,
          120,
          78,
          74,
          101,
          65,
          98,
          70,
          47,
          66,
          37,
          67,
          61,
          53,
          34,
          68,
          116,
          89,
          38,
          96,
          110,
          109,
          48,
          86,
          79,
          51,
          101,
          88,
          47,
          74,
          92,
          36,
          35,
          73,
          71,
          120,
          118,
          34,
          105,
          58,
          87,
          89,
          43,
          49,
          101,
          43,
          108,
          79,
          50,
          33,
          82,
          43,
          95,
          41,
          41,
          68,
          50,
          100,
          106,
          78,
          92,
          32,
          94,
          34,
          79,
          70,
          73,
          38,
          41,
          106,
          102,
          41,
          35,
          64,
          71,
          30,
          100,
          71,
          110,
          84,
          93,
          58,
          39,
          46,
          83,
          75,
          33,
          61,
          41,
          57,
          73,
          53,
          36,
          118,
          81,
          117,
          98,
          95,
          74,
          109,
          64,
          74,
          77,
          33,
          31,
          38,
          96,
          35,
          114,
          66,
          37,
          110,
          48,
          95,
          44,
          39,
          69,
          86,
          32,
          49,
          92,
          77,
          97,
          70,
          63,
          53,
          61,
          30,
          72,
          56,
          71,
          116,
          102,
          108,
          99,
          114,
          50,
          54,
          45,
          56,
          69,
          96,
          42,
          104,
          93,
          51,
          109,
          83,
          94,
          112,
          68,
          66,
          120,
          56,
          63,
          47,
          46,
          95,
          110,
          58,
          113,
          94,
          79,
          62,
          76,
          117,
          72,
          91,
          94,
          105,
          38,
          59,
          75,
          68,
          80,
          47,
          57,
          72,
          103,
          101,
          81,
          56,
          78,
          70,
          56,
          48,
          32,
          46,
          94,
          72,
          54,
          50,
          35,
          119,
          31,
          84,
          109,
          48,
          108,
          108,
          43,
          68,
          79,
          60,
          114,
          96,
          46,
          53,
          91,
          75,
          93,
          116,
          50,
          120,
          45,
          63,
          51,
          49,
          37,
          50,
          96,
          102,
          49,
          86,
          57,
          106,
          115,
          111,
          119,
          86,
          41,
          45,
          42,
          81,
          112,
          31,
          106,
          114,
          36,
          87,
          90,
          52,
          52,
          64,
          72,
          105,
          88,
          107,
          70,
          46,
          58,
          45,
          47,
          115,
          38,
          70,
          40,
          54,
          88,
          83,
          57,
          54,
          100,
          59,
          82,
          49,
          43,
          79,
          86,
          84,
          107,
          113,
          58,
          86,
          72,
          97,
          38,
          103,
          116,
          53,
          40,
          33,
          43,
          119,
          40,
          59,
          83,
          61,
          53,
          43,
          72,
          62,
          120,
          45,
          88,
          49,
          71,
          51,
          118,
          67,
          79,
          100,
          88,
          42,
          100,
          35,
          111,
          90,
          45,
          56,
          119,
          81,
          78,
          30,
          117,
          75,
          41,
          96,
          49,
          31,
          67,
          118,
          112,
          32,
          119,
          107,
          61,
          34,
          32,
          79,
          115,
          59,
          54,
          44,
          61,
          47,
          117,
          93,
          113,
          99,
          66,
          107,
          48,
          96,
          94,
          100,
          84,
          58,
          110,
          67,
          58,
          32,
          37,
          47,
          105,
          118,
          119,
          67,
          93,
          108,
          48
         ],
         "y0": " ",
         "yaxis": "y"
        }
       ],
       "layout": {
        "boxmode": "group",
        "legend": {
         "tracegroupgap": 0
        },
        "margin": {
         "t": 60
        },
        "template": {
         "data": {
          "bar": [
           {
            "error_x": {
             "color": "#2a3f5f"
            },
            "error_y": {
             "color": "#2a3f5f"
            },
            "marker": {
             "line": {
              "color": "#E5ECF6",
              "width": 0.5
             }
            },
            "type": "bar"
           }
          ],
          "barpolar": [
           {
            "marker": {
             "line": {
              "color": "#E5ECF6",
              "width": 0.5
             }
            },
            "type": "barpolar"
           }
          ],
          "carpet": [
           {
            "aaxis": {
             "endlinecolor": "#2a3f5f",
             "gridcolor": "white",
             "linecolor": "white",
             "minorgridcolor": "white",
             "startlinecolor": "#2a3f5f"
            },
            "baxis": {
             "endlinecolor": "#2a3f5f",
             "gridcolor": "white",
             "linecolor": "white",
             "minorgridcolor": "white",
             "startlinecolor": "#2a3f5f"
            },
            "type": "carpet"
           }
          ],
          "choropleth": [
           {
            "colorbar": {
             "outlinewidth": 0,
             "ticks": ""
            },
            "type": "choropleth"
           }
          ],
          "contour": [
           {
            "colorbar": {
             "outlinewidth": 0,
             "ticks": ""
            },
            "colorscale": [
             [
              0,
              "#0d0887"
             ],
             [
              0.1111111111111111,
              "#46039f"
             ],
             [
              0.2222222222222222,
              "#7201a8"
             ],
             [
              0.3333333333333333,
              "#9c179e"
             ],
             [
              0.4444444444444444,
              "#bd3786"
             ],
             [
              0.5555555555555556,
              "#d8576b"
             ],
             [
              0.6666666666666666,
              "#ed7953"
             ],
             [
              0.7777777777777778,
              "#fb9f3a"
             ],
             [
              0.8888888888888888,
              "#fdca26"
             ],
             [
              1,
              "#f0f921"
             ]
            ],
            "type": "contour"
           }
          ],
          "contourcarpet": [
           {
            "colorbar": {
             "outlinewidth": 0,
             "ticks": ""
            },
            "type": "contourcarpet"
           }
          ],
          "heatmap": [
           {
            "colorbar": {
             "outlinewidth": 0,
             "ticks": ""
            },
            "colorscale": [
             [
              0,
              "#0d0887"
             ],
             [
              0.1111111111111111,
              "#46039f"
             ],
             [
              0.2222222222222222,
              "#7201a8"
             ],
             [
              0.3333333333333333,
              "#9c179e"
             ],
             [
              0.4444444444444444,
              "#bd3786"
             ],
             [
              0.5555555555555556,
              "#d8576b"
             ],
             [
              0.6666666666666666,
              "#ed7953"
             ],
             [
              0.7777777777777778,
              "#fb9f3a"
             ],
             [
              0.8888888888888888,
              "#fdca26"
             ],
             [
              1,
              "#f0f921"
             ]
            ],
            "type": "heatmap"
           }
          ],
          "heatmapgl": [
           {
            "colorbar": {
             "outlinewidth": 0,
             "ticks": ""
            },
            "colorscale": [
             [
              0,
              "#0d0887"
             ],
             [
              0.1111111111111111,
              "#46039f"
             ],
             [
              0.2222222222222222,
              "#7201a8"
             ],
             [
              0.3333333333333333,
              "#9c179e"
             ],
             [
              0.4444444444444444,
              "#bd3786"
             ],
             [
              0.5555555555555556,
              "#d8576b"
             ],
             [
              0.6666666666666666,
              "#ed7953"
             ],
             [
              0.7777777777777778,
              "#fb9f3a"
             ],
             [
              0.8888888888888888,
              "#fdca26"
             ],
             [
              1,
              "#f0f921"
             ]
            ],
            "type": "heatmapgl"
           }
          ],
          "histogram": [
           {
            "marker": {
             "colorbar": {
              "outlinewidth": 0,
              "ticks": ""
             }
            },
            "type": "histogram"
           }
          ],
          "histogram2d": [
           {
            "colorbar": {
             "outlinewidth": 0,
             "ticks": ""
            },
            "colorscale": [
             [
              0,
              "#0d0887"
             ],
             [
              0.1111111111111111,
              "#46039f"
             ],
             [
              0.2222222222222222,
              "#7201a8"
             ],
             [
              0.3333333333333333,
              "#9c179e"
             ],
             [
              0.4444444444444444,
              "#bd3786"
             ],
             [
              0.5555555555555556,
              "#d8576b"
             ],
             [
              0.6666666666666666,
              "#ed7953"
             ],
             [
              0.7777777777777778,
              "#fb9f3a"
             ],
             [
              0.8888888888888888,
              "#fdca26"
             ],
             [
              1,
              "#f0f921"
             ]
            ],
            "type": "histogram2d"
           }
          ],
          "histogram2dcontour": [
           {
            "colorbar": {
             "outlinewidth": 0,
             "ticks": ""
            },
            "colorscale": [
             [
              0,
              "#0d0887"
             ],
             [
              0.1111111111111111,
              "#46039f"
             ],
             [
              0.2222222222222222,
              "#7201a8"
             ],
             [
              0.3333333333333333,
              "#9c179e"
             ],
             [
              0.4444444444444444,
              "#bd3786"
             ],
             [
              0.5555555555555556,
              "#d8576b"
             ],
             [
              0.6666666666666666,
              "#ed7953"
             ],
             [
              0.7777777777777778,
              "#fb9f3a"
             ],
             [
              0.8888888888888888,
              "#fdca26"
             ],
             [
              1,
              "#f0f921"
             ]
            ],
            "type": "histogram2dcontour"
           }
          ],
          "mesh3d": [
           {
            "colorbar": {
             "outlinewidth": 0,
             "ticks": ""
            },
            "type": "mesh3d"
           }
          ],
          "parcoords": [
           {
            "line": {
             "colorbar": {
              "outlinewidth": 0,
              "ticks": ""
             }
            },
            "type": "parcoords"
           }
          ],
          "pie": [
           {
            "automargin": true,
            "type": "pie"
           }
          ],
          "scatter": [
           {
            "marker": {
             "colorbar": {
              "outlinewidth": 0,
              "ticks": ""
             }
            },
            "type": "scatter"
           }
          ],
          "scatter3d": [
           {
            "line": {
             "colorbar": {
              "outlinewidth": 0,
              "ticks": ""
             }
            },
            "marker": {
             "colorbar": {
              "outlinewidth": 0,
              "ticks": ""
             }
            },
            "type": "scatter3d"
           }
          ],
          "scattercarpet": [
           {
            "marker": {
             "colorbar": {
              "outlinewidth": 0,
              "ticks": ""
             }
            },
            "type": "scattercarpet"
           }
          ],
          "scattergeo": [
           {
            "marker": {
             "colorbar": {
              "outlinewidth": 0,
              "ticks": ""
             }
            },
            "type": "scattergeo"
           }
          ],
          "scattergl": [
           {
            "marker": {
             "colorbar": {
              "outlinewidth": 0,
              "ticks": ""
             }
            },
            "type": "scattergl"
           }
          ],
          "scattermapbox": [
           {
            "marker": {
             "colorbar": {
              "outlinewidth": 0,
              "ticks": ""
             }
            },
            "type": "scattermapbox"
           }
          ],
          "scatterpolar": [
           {
            "marker": {
             "colorbar": {
              "outlinewidth": 0,
              "ticks": ""
             }
            },
            "type": "scatterpolar"
           }
          ],
          "scatterpolargl": [
           {
            "marker": {
             "colorbar": {
              "outlinewidth": 0,
              "ticks": ""
             }
            },
            "type": "scatterpolargl"
           }
          ],
          "scatterternary": [
           {
            "marker": {
             "colorbar": {
              "outlinewidth": 0,
              "ticks": ""
             }
            },
            "type": "scatterternary"
           }
          ],
          "surface": [
           {
            "colorbar": {
             "outlinewidth": 0,
             "ticks": ""
            },
            "colorscale": [
             [
              0,
              "#0d0887"
             ],
             [
              0.1111111111111111,
              "#46039f"
             ],
             [
              0.2222222222222222,
              "#7201a8"
             ],
             [
              0.3333333333333333,
              "#9c179e"
             ],
             [
              0.4444444444444444,
              "#bd3786"
             ],
             [
              0.5555555555555556,
              "#d8576b"
             ],
             [
              0.6666666666666666,
              "#ed7953"
             ],
             [
              0.7777777777777778,
              "#fb9f3a"
             ],
             [
              0.8888888888888888,
              "#fdca26"
             ],
             [
              1,
              "#f0f921"
             ]
            ],
            "type": "surface"
           }
          ],
          "table": [
           {
            "cells": {
             "fill": {
              "color": "#EBF0F8"
             },
             "line": {
              "color": "white"
             }
            },
            "header": {
             "fill": {
              "color": "#C8D4E3"
             },
             "line": {
              "color": "white"
             }
            },
            "type": "table"
           }
          ]
         },
         "layout": {
          "annotationdefaults": {
           "arrowcolor": "#2a3f5f",
           "arrowhead": 0,
           "arrowwidth": 1
          },
          "coloraxis": {
           "colorbar": {
            "outlinewidth": 0,
            "ticks": ""
           }
          },
          "colorscale": {
           "diverging": [
            [
             0,
             "#8e0152"
            ],
            [
             0.1,
             "#c51b7d"
            ],
            [
             0.2,
             "#de77ae"
            ],
            [
             0.3,
             "#f1b6da"
            ],
            [
             0.4,
             "#fde0ef"
            ],
            [
             0.5,
             "#f7f7f7"
            ],
            [
             0.6,
             "#e6f5d0"
            ],
            [
             0.7,
             "#b8e186"
            ],
            [
             0.8,
             "#7fbc41"
            ],
            [
             0.9,
             "#4d9221"
            ],
            [
             1,
             "#276419"
            ]
           ],
           "sequential": [
            [
             0,
             "#0d0887"
            ],
            [
             0.1111111111111111,
             "#46039f"
            ],
            [
             0.2222222222222222,
             "#7201a8"
            ],
            [
             0.3333333333333333,
             "#9c179e"
            ],
            [
             0.4444444444444444,
             "#bd3786"
            ],
            [
             0.5555555555555556,
             "#d8576b"
            ],
            [
             0.6666666666666666,
             "#ed7953"
            ],
            [
             0.7777777777777778,
             "#fb9f3a"
            ],
            [
             0.8888888888888888,
             "#fdca26"
            ],
            [
             1,
             "#f0f921"
            ]
           ],
           "sequentialminus": [
            [
             0,
             "#0d0887"
            ],
            [
             0.1111111111111111,
             "#46039f"
            ],
            [
             0.2222222222222222,
             "#7201a8"
            ],
            [
             0.3333333333333333,
             "#9c179e"
            ],
            [
             0.4444444444444444,
             "#bd3786"
            ],
            [
             0.5555555555555556,
             "#d8576b"
            ],
            [
             0.6666666666666666,
             "#ed7953"
            ],
            [
             0.7777777777777778,
             "#fb9f3a"
            ],
            [
             0.8888888888888888,
             "#fdca26"
            ],
            [
             1,
             "#f0f921"
            ]
           ]
          },
          "colorway": [
           "#636efa",
           "#EF553B",
           "#00cc96",
           "#ab63fa",
           "#FFA15A",
           "#19d3f3",
           "#FF6692",
           "#B6E880",
           "#FF97FF",
           "#FECB52"
          ],
          "font": {
           "color": "#2a3f5f"
          },
          "geo": {
           "bgcolor": "white",
           "lakecolor": "white",
           "landcolor": "#E5ECF6",
           "showlakes": true,
           "showland": true,
           "subunitcolor": "white"
          },
          "hoverlabel": {
           "align": "left"
          },
          "hovermode": "closest",
          "mapbox": {
           "style": "light"
          },
          "paper_bgcolor": "white",
          "plot_bgcolor": "#E5ECF6",
          "polar": {
           "angularaxis": {
            "gridcolor": "white",
            "linecolor": "white",
            "ticks": ""
           },
           "bgcolor": "#E5ECF6",
           "radialaxis": {
            "gridcolor": "white",
            "linecolor": "white",
            "ticks": ""
           }
          },
          "scene": {
           "xaxis": {
            "backgroundcolor": "#E5ECF6",
            "gridcolor": "white",
            "gridwidth": 2,
            "linecolor": "white",
            "showbackground": true,
            "ticks": "",
            "zerolinecolor": "white"
           },
           "yaxis": {
            "backgroundcolor": "#E5ECF6",
            "gridcolor": "white",
            "gridwidth": 2,
            "linecolor": "white",
            "showbackground": true,
            "ticks": "",
            "zerolinecolor": "white"
           },
           "zaxis": {
            "backgroundcolor": "#E5ECF6",
            "gridcolor": "white",
            "gridwidth": 2,
            "linecolor": "white",
            "showbackground": true,
            "ticks": "",
            "zerolinecolor": "white"
           }
          },
          "shapedefaults": {
           "line": {
            "color": "#2a3f5f"
           }
          },
          "ternary": {
           "aaxis": {
            "gridcolor": "white",
            "linecolor": "white",
            "ticks": ""
           },
           "baxis": {
            "gridcolor": "white",
            "linecolor": "white",
            "ticks": ""
           },
           "bgcolor": "#E5ECF6",
           "caxis": {
            "gridcolor": "white",
            "linecolor": "white",
            "ticks": ""
           }
          },
          "title": {
           "x": 0.05
          },
          "xaxis": {
           "automargin": true,
           "gridcolor": "white",
           "linecolor": "white",
           "ticks": "",
           "title": {
            "standoff": 15
           },
           "zerolinecolor": "white",
           "zerolinewidth": 2
          },
          "yaxis": {
           "automargin": true,
           "gridcolor": "white",
           "linecolor": "white",
           "ticks": "",
           "title": {
            "standoff": 15
           },
           "zerolinecolor": "white",
           "zerolinewidth": 2
          }
         }
        },
        "xaxis": {
         "anchor": "y",
         "domain": [
          0,
          1
         ]
        },
        "yaxis": {
         "anchor": "x",
         "domain": [
          0,
          1
         ],
         "title": {
          "text": "Salary"
         }
        }
       }
      },
      "text/html": [
       "<div>\n",
       "        \n",
       "        \n",
       "            <div id=\"26fe74a4-347e-45ff-be6f-834f1ef437ef\" class=\"plotly-graph-div\" style=\"height:525px; width:100%;\"></div>\n",
       "            <script type=\"text/javascript\">\n",
       "                require([\"plotly\"], function(Plotly) {\n",
       "                    window.PLOTLYENV=window.PLOTLYENV || {};\n",
       "                    \n",
       "                if (document.getElementById(\"26fe74a4-347e-45ff-be6f-834f1ef437ef\")) {\n",
       "                    Plotly.newPlot(\n",
       "                        '26fe74a4-347e-45ff-be6f-834f1ef437ef',\n",
       "                        [{\"alignmentgroup\": \"True\", \"hovertemplate\": \"Salary=%{y}<extra></extra>\", \"legendgroup\": \"\", \"marker\": {\"color\": \"#636efa\"}, \"name\": \"\", \"notched\": false, \"offsetgroup\": \"\", \"orientation\": \"v\", \"showlegend\": false, \"type\": \"box\", \"x0\": \" \", \"xaxis\": \"x\", \"y\": [58, 45, 52, 33, 38, 71, 33, 53, 50, 104, 114, 85, 46, 102, 51, 44, 99, 102, 79, 111, 56, 37, 71, 94, 82, 44, 87, 30, 85, 52, 50, 38, 60, 64, 103, 97, 96, 61, 101, 104, 114, 76, 71, 38, 53, 98, 87, 31, 69, 91, 82, 80, 90, 33, 107, 97, 98, 92, 75, 59, 85, 85, 68, 51, 95, 84, 109, 33, 32, 119, 111, 120, 97, 111, 55, 61, 70, 42, 93, 45, 113, 75, 62, 118, 117, 69, 74, 117, 40, 105, 94, 42, 70, 57, 115, 114, 47, 68, 71, 109, 87, 72, 78, 66, 33, 51, 30, 61, 96, 55, 114, 106, 59, 111, 35, 32, 75, 49, 113, 99, 88, 72, 36, 105, 31, 94, 50, 81, 30, 81, 78, 69, 111, 108, 65, 101, 99, 57, 51, 30, 120, 78, 74, 101, 65, 98, 70, 47, 66, 37, 67, 61, 53, 34, 68, 116, 89, 38, 96, 110, 109, 48, 86, 79, 51, 101, 88, 47, 74, 92, 36, 35, 73, 71, 120, 118, 34, 105, 58, 87, 89, 43, 49, 101, 43, 108, 79, 50, 33, 82, 43, 95, 41, 41, 68, 50, 100, 106, 78, 92, 32, 94, 34, 79, 70, 73, 38, 41, 106, 102, 41, 35, 64, 71, 30, 100, 71, 110, 84, 93, 58, 39, 46, 83, 75, 33, 61, 41, 57, 73, 53, 36, 118, 81, 117, 98, 95, 74, 109, 64, 74, 77, 33, 31, 38, 96, 35, 114, 66, 37, 110, 48, 95, 44, 39, 69, 86, 32, 49, 92, 77, 97, 70, 63, 53, 61, 30, 72, 56, 71, 116, 102, 108, 99, 114, 50, 54, 45, 56, 69, 96, 42, 104, 93, 51, 109, 83, 94, 112, 68, 66, 120, 56, 63, 47, 46, 95, 110, 58, 113, 94, 79, 62, 76, 117, 72, 91, 94, 105, 38, 59, 75, 68, 80, 47, 57, 72, 103, 101, 81, 56, 78, 70, 56, 48, 32, 46, 94, 72, 54, 50, 35, 119, 31, 84, 109, 48, 108, 108, 43, 68, 79, 60, 114, 96, 46, 53, 91, 75, 93, 116, 50, 120, 45, 63, 51, 49, 37, 50, 96, 102, 49, 86, 57, 106, 115, 111, 119, 86, 41, 45, 42, 81, 112, 31, 106, 114, 36, 87, 90, 52, 52, 64, 72, 105, 88, 107, 70, 46, 58, 45, 47, 115, 38, 70, 40, 54, 88, 83, 57, 54, 100, 59, 82, 49, 43, 79, 86, 84, 107, 113, 58, 86, 72, 97, 38, 103, 116, 53, 40, 33, 43, 119, 40, 59, 83, 61, 53, 43, 72, 62, 120, 45, 88, 49, 71, 51, 118, 67, 79, 100, 88, 42, 100, 35, 111, 90, 45, 56, 119, 81, 78, 30, 117, 75, 41, 96, 49, 31, 67, 118, 112, 32, 119, 107, 61, 34, 32, 79, 115, 59, 54, 44, 61, 47, 117, 93, 113, 99, 66, 107, 48, 96, 94, 100, 84, 58, 110, 67, 58, 32, 37, 47, 105, 118, 119, 67, 93, 108, 48], \"y0\": \" \", \"yaxis\": \"y\"}],\n",
       "                        {\"boxmode\": \"group\", \"legend\": {\"tracegroupgap\": 0}, \"margin\": {\"t\": 60}, \"template\": {\"data\": {\"bar\": [{\"error_x\": {\"color\": \"#2a3f5f\"}, \"error_y\": {\"color\": \"#2a3f5f\"}, \"marker\": {\"line\": {\"color\": \"#E5ECF6\", \"width\": 0.5}}, \"type\": \"bar\"}], \"barpolar\": [{\"marker\": {\"line\": {\"color\": \"#E5ECF6\", \"width\": 0.5}}, \"type\": \"barpolar\"}], \"carpet\": [{\"aaxis\": {\"endlinecolor\": \"#2a3f5f\", \"gridcolor\": \"white\", \"linecolor\": \"white\", \"minorgridcolor\": \"white\", \"startlinecolor\": \"#2a3f5f\"}, \"baxis\": {\"endlinecolor\": \"#2a3f5f\", \"gridcolor\": \"white\", \"linecolor\": \"white\", \"minorgridcolor\": \"white\", \"startlinecolor\": \"#2a3f5f\"}, \"type\": \"carpet\"}], \"choropleth\": [{\"colorbar\": {\"outlinewidth\": 0, \"ticks\": \"\"}, \"type\": \"choropleth\"}], \"contour\": [{\"colorbar\": {\"outlinewidth\": 0, \"ticks\": \"\"}, \"colorscale\": [[0.0, \"#0d0887\"], [0.1111111111111111, \"#46039f\"], [0.2222222222222222, \"#7201a8\"], [0.3333333333333333, \"#9c179e\"], [0.4444444444444444, \"#bd3786\"], [0.5555555555555556, \"#d8576b\"], [0.6666666666666666, \"#ed7953\"], [0.7777777777777778, \"#fb9f3a\"], [0.8888888888888888, \"#fdca26\"], [1.0, \"#f0f921\"]], \"type\": \"contour\"}], \"contourcarpet\": [{\"colorbar\": {\"outlinewidth\": 0, \"ticks\": \"\"}, \"type\": \"contourcarpet\"}], \"heatmap\": [{\"colorbar\": {\"outlinewidth\": 0, \"ticks\": \"\"}, \"colorscale\": [[0.0, \"#0d0887\"], [0.1111111111111111, \"#46039f\"], [0.2222222222222222, \"#7201a8\"], [0.3333333333333333, \"#9c179e\"], [0.4444444444444444, \"#bd3786\"], [0.5555555555555556, \"#d8576b\"], [0.6666666666666666, \"#ed7953\"], [0.7777777777777778, \"#fb9f3a\"], [0.8888888888888888, \"#fdca26\"], [1.0, \"#f0f921\"]], \"type\": \"heatmap\"}], \"heatmapgl\": [{\"colorbar\": {\"outlinewidth\": 0, \"ticks\": \"\"}, \"colorscale\": [[0.0, \"#0d0887\"], [0.1111111111111111, \"#46039f\"], [0.2222222222222222, \"#7201a8\"], [0.3333333333333333, \"#9c179e\"], [0.4444444444444444, \"#bd3786\"], [0.5555555555555556, \"#d8576b\"], [0.6666666666666666, \"#ed7953\"], [0.7777777777777778, \"#fb9f3a\"], [0.8888888888888888, \"#fdca26\"], [1.0, \"#f0f921\"]], \"type\": \"heatmapgl\"}], \"histogram\": [{\"marker\": {\"colorbar\": {\"outlinewidth\": 0, \"ticks\": \"\"}}, \"type\": \"histogram\"}], \"histogram2d\": [{\"colorbar\": {\"outlinewidth\": 0, \"ticks\": \"\"}, \"colorscale\": [[0.0, \"#0d0887\"], [0.1111111111111111, \"#46039f\"], [0.2222222222222222, \"#7201a8\"], [0.3333333333333333, \"#9c179e\"], [0.4444444444444444, \"#bd3786\"], [0.5555555555555556, \"#d8576b\"], [0.6666666666666666, \"#ed7953\"], [0.7777777777777778, \"#fb9f3a\"], [0.8888888888888888, \"#fdca26\"], [1.0, \"#f0f921\"]], \"type\": \"histogram2d\"}], \"histogram2dcontour\": [{\"colorbar\": {\"outlinewidth\": 0, \"ticks\": \"\"}, \"colorscale\": [[0.0, \"#0d0887\"], [0.1111111111111111, \"#46039f\"], [0.2222222222222222, \"#7201a8\"], [0.3333333333333333, \"#9c179e\"], [0.4444444444444444, \"#bd3786\"], [0.5555555555555556, \"#d8576b\"], [0.6666666666666666, \"#ed7953\"], [0.7777777777777778, \"#fb9f3a\"], [0.8888888888888888, \"#fdca26\"], [1.0, \"#f0f921\"]], \"type\": \"histogram2dcontour\"}], \"mesh3d\": [{\"colorbar\": {\"outlinewidth\": 0, \"ticks\": \"\"}, \"type\": \"mesh3d\"}], \"parcoords\": [{\"line\": {\"colorbar\": {\"outlinewidth\": 0, \"ticks\": \"\"}}, \"type\": \"parcoords\"}], \"pie\": [{\"automargin\": true, \"type\": \"pie\"}], \"scatter\": [{\"marker\": {\"colorbar\": {\"outlinewidth\": 0, \"ticks\": \"\"}}, \"type\": \"scatter\"}], \"scatter3d\": [{\"line\": {\"colorbar\": {\"outlinewidth\": 0, \"ticks\": \"\"}}, \"marker\": {\"colorbar\": {\"outlinewidth\": 0, \"ticks\": \"\"}}, \"type\": \"scatter3d\"}], \"scattercarpet\": [{\"marker\": {\"colorbar\": {\"outlinewidth\": 0, \"ticks\": \"\"}}, \"type\": \"scattercarpet\"}], \"scattergeo\": [{\"marker\": {\"colorbar\": {\"outlinewidth\": 0, \"ticks\": \"\"}}, \"type\": \"scattergeo\"}], \"scattergl\": [{\"marker\": {\"colorbar\": {\"outlinewidth\": 0, \"ticks\": \"\"}}, \"type\": \"scattergl\"}], \"scattermapbox\": [{\"marker\": {\"colorbar\": {\"outlinewidth\": 0, \"ticks\": \"\"}}, \"type\": \"scattermapbox\"}], \"scatterpolar\": [{\"marker\": {\"colorbar\": {\"outlinewidth\": 0, \"ticks\": \"\"}}, \"type\": \"scatterpolar\"}], \"scatterpolargl\": [{\"marker\": {\"colorbar\": {\"outlinewidth\": 0, \"ticks\": \"\"}}, \"type\": \"scatterpolargl\"}], \"scatterternary\": [{\"marker\": {\"colorbar\": {\"outlinewidth\": 0, \"ticks\": \"\"}}, \"type\": \"scatterternary\"}], \"surface\": [{\"colorbar\": {\"outlinewidth\": 0, \"ticks\": \"\"}, \"colorscale\": [[0.0, \"#0d0887\"], [0.1111111111111111, \"#46039f\"], [0.2222222222222222, \"#7201a8\"], [0.3333333333333333, \"#9c179e\"], [0.4444444444444444, \"#bd3786\"], [0.5555555555555556, \"#d8576b\"], [0.6666666666666666, \"#ed7953\"], [0.7777777777777778, \"#fb9f3a\"], [0.8888888888888888, \"#fdca26\"], [1.0, \"#f0f921\"]], \"type\": \"surface\"}], \"table\": [{\"cells\": {\"fill\": {\"color\": \"#EBF0F8\"}, \"line\": {\"color\": \"white\"}}, \"header\": {\"fill\": {\"color\": \"#C8D4E3\"}, \"line\": {\"color\": \"white\"}}, \"type\": \"table\"}]}, \"layout\": {\"annotationdefaults\": {\"arrowcolor\": \"#2a3f5f\", \"arrowhead\": 0, \"arrowwidth\": 1}, \"coloraxis\": {\"colorbar\": {\"outlinewidth\": 0, \"ticks\": \"\"}}, \"colorscale\": {\"diverging\": [[0, \"#8e0152\"], [0.1, \"#c51b7d\"], [0.2, \"#de77ae\"], [0.3, \"#f1b6da\"], [0.4, \"#fde0ef\"], [0.5, \"#f7f7f7\"], [0.6, \"#e6f5d0\"], [0.7, \"#b8e186\"], [0.8, \"#7fbc41\"], [0.9, \"#4d9221\"], [1, \"#276419\"]], \"sequential\": [[0.0, \"#0d0887\"], [0.1111111111111111, \"#46039f\"], [0.2222222222222222, \"#7201a8\"], [0.3333333333333333, \"#9c179e\"], [0.4444444444444444, \"#bd3786\"], [0.5555555555555556, \"#d8576b\"], [0.6666666666666666, \"#ed7953\"], [0.7777777777777778, \"#fb9f3a\"], [0.8888888888888888, \"#fdca26\"], [1.0, \"#f0f921\"]], \"sequentialminus\": [[0.0, \"#0d0887\"], [0.1111111111111111, \"#46039f\"], [0.2222222222222222, \"#7201a8\"], [0.3333333333333333, \"#9c179e\"], [0.4444444444444444, \"#bd3786\"], [0.5555555555555556, \"#d8576b\"], [0.6666666666666666, \"#ed7953\"], [0.7777777777777778, \"#fb9f3a\"], [0.8888888888888888, \"#fdca26\"], [1.0, \"#f0f921\"]]}, \"colorway\": [\"#636efa\", \"#EF553B\", \"#00cc96\", \"#ab63fa\", \"#FFA15A\", \"#19d3f3\", \"#FF6692\", \"#B6E880\", \"#FF97FF\", \"#FECB52\"], \"font\": {\"color\": \"#2a3f5f\"}, \"geo\": {\"bgcolor\": \"white\", \"lakecolor\": \"white\", \"landcolor\": \"#E5ECF6\", \"showlakes\": true, \"showland\": true, \"subunitcolor\": \"white\"}, \"hoverlabel\": {\"align\": \"left\"}, \"hovermode\": \"closest\", \"mapbox\": {\"style\": \"light\"}, \"paper_bgcolor\": \"white\", \"plot_bgcolor\": \"#E5ECF6\", \"polar\": {\"angularaxis\": {\"gridcolor\": \"white\", \"linecolor\": \"white\", \"ticks\": \"\"}, \"bgcolor\": \"#E5ECF6\", \"radialaxis\": {\"gridcolor\": \"white\", \"linecolor\": \"white\", \"ticks\": \"\"}}, \"scene\": {\"xaxis\": {\"backgroundcolor\": \"#E5ECF6\", \"gridcolor\": \"white\", \"gridwidth\": 2, \"linecolor\": \"white\", \"showbackground\": true, \"ticks\": \"\", \"zerolinecolor\": \"white\"}, \"yaxis\": {\"backgroundcolor\": \"#E5ECF6\", \"gridcolor\": \"white\", \"gridwidth\": 2, \"linecolor\": \"white\", \"showbackground\": true, \"ticks\": \"\", \"zerolinecolor\": \"white\"}, \"zaxis\": {\"backgroundcolor\": \"#E5ECF6\", \"gridcolor\": \"white\", \"gridwidth\": 2, \"linecolor\": \"white\", \"showbackground\": true, \"ticks\": \"\", \"zerolinecolor\": \"white\"}}, \"shapedefaults\": {\"line\": {\"color\": \"#2a3f5f\"}}, \"ternary\": {\"aaxis\": {\"gridcolor\": \"white\", \"linecolor\": \"white\", \"ticks\": \"\"}, \"baxis\": {\"gridcolor\": \"white\", \"linecolor\": \"white\", \"ticks\": \"\"}, \"bgcolor\": \"#E5ECF6\", \"caxis\": {\"gridcolor\": \"white\", \"linecolor\": \"white\", \"ticks\": \"\"}}, \"title\": {\"x\": 0.05}, \"xaxis\": {\"automargin\": true, \"gridcolor\": \"white\", \"linecolor\": \"white\", \"ticks\": \"\", \"title\": {\"standoff\": 15}, \"zerolinecolor\": \"white\", \"zerolinewidth\": 2}, \"yaxis\": {\"automargin\": true, \"gridcolor\": \"white\", \"linecolor\": \"white\", \"ticks\": \"\", \"title\": {\"standoff\": 15}, \"zerolinecolor\": \"white\", \"zerolinewidth\": 2}}}, \"xaxis\": {\"anchor\": \"y\", \"domain\": [0.0, 1.0]}, \"yaxis\": {\"anchor\": \"x\", \"domain\": [0.0, 1.0], \"title\": {\"text\": \"Salary\"}}},\n",
       "                        {\"responsive\": true}\n",
       "                    ).then(function(){\n",
       "                            \n",
       "var gd = document.getElementById('26fe74a4-347e-45ff-be6f-834f1ef437ef');\n",
       "var x = new MutationObserver(function (mutations, observer) {{\n",
       "        var display = window.getComputedStyle(gd).display;\n",
       "        if (!display || display === 'none') {{\n",
       "            console.log([gd, 'removed!']);\n",
       "            Plotly.purge(gd);\n",
       "            observer.disconnect();\n",
       "        }}\n",
       "}});\n",
       "\n",
       "// Listen for the removal of the full notebook cells\n",
       "var notebookContainer = gd.closest('#notebook-container');\n",
       "if (notebookContainer) {{\n",
       "    x.observe(notebookContainer, {childList: true});\n",
       "}}\n",
       "\n",
       "// Listen for the clearing of the current output cell\n",
       "var outputEl = gd.closest('.output');\n",
       "if (outputEl) {{\n",
       "    x.observe(outputEl, {childList: true});\n",
       "}}\n",
       "\n",
       "                        })\n",
       "                };\n",
       "                });\n",
       "            </script>\n",
       "        </div>"
      ]
     },
     "metadata": {},
     "output_type": "display_data"
    }
   ],
   "source": [
    "import plotly.express as px\n",
    "px.box(employees,y='Salary')"
   ]
  },
  {
   "cell_type": "markdown",
   "metadata": {},
   "source": [
    "## Use seaborn boxplot to show the salary distribution across job titles"
   ]
  },
  {
   "cell_type": "code",
   "execution_count": 118,
   "metadata": {},
   "outputs": [
    {
     "data": {
      "text/plain": [
       "[Text(0, 0, 'associate'), Text(0, 0, 'VP'), Text(0, 0, 'Analyst')]"
      ]
     },
     "execution_count": 118,
     "metadata": {},
     "output_type": "execute_result"
    },
    {
     "data": {
      "image/png": "[encoded data removed]",
      "text/plain": [
       "<Figure size 432x288 with 1 Axes>"
      ]
     },
     "metadata": {
      "needs_background": "light"
     },
     "output_type": "display_data"
    }
   ],
   "source": [
    "import seaborn as sns\n",
    "DV=sns.boxplot(x='Title',y='Salary',data=employees)\n",
    "DV.set_xticklabels(DV.get_xticklabels(),rotation=90)"
   ]
  },
  {
   "cell_type": "markdown",
   "metadata": {},
   "source": [
    "## Make the seaborn more interative + plotly express"
   ]
  },
  {
   "cell_type": "code",
   "execution_count": 120,
   "metadata": {},
   "outputs": [
    {
     "data": {
      "application/vnd.plotly.v1+json": {
       "config": {
        "plotlyServerURL": "https://plot.ly"
       },
       "data": [
        {
         "alignmentgroup": "True",
         "hovertemplate": "Title=%{x}<br>Salary=%{y}<extra></extra>",
         "legendgroup": "",
         "marker": {
          "color": "#636efa"
         },
         "name": "",
         "notched": false,
         "offsetgroup": "",
         "orientation": "v",
         "showlegend": false,
         "type": "box",
         "x": [
          "associate",
          "associate",
          "associate",
          "VP",
          "Analyst",
          "Analyst",
          "Analyst",
          "associate",
          "associate",
          "associate",
          "associate",
          "Analyst",
          "associate",
          "VP",
          "Analyst",
          "associate",
          "associate",
          "Analyst",
          "associate",
          "VP",
          "Analyst",
          "VP",
          "associate",
          "associate",
          "Analyst",
          "VP",
          "associate",
          "Analyst",
          "Analyst",
          "associate",
          "VP",
          "VP",
          "VP",
          "Analyst",
          "VP",
          "VP",
          "associate",
          "Analyst",
          "Analyst",
          "VP",
          "VP",
          "associate",
          "Analyst",
          "VP",
          "associate",
          "associate",
          "Analyst",
          "VP",
          "associate",
          "associate",
          "Analyst",
          "VP",
          "VP",
          "associate",
          "VP",
          "associate",
          "Analyst",
          "VP",
          "associate",
          "associate",
          "VP",
          "Analyst",
          "VP",
          "VP",
          "associate",
          "VP",
          "associate",
          "Analyst",
          "associate",
          "Analyst",
          "VP",
          "VP",
          "Analyst",
          "Analyst",
          "Analyst",
          "VP",
          "associate",
          "Analyst",
          "VP",
          "associate",
          "Analyst",
          "Analyst",
          "associate",
          "Analyst",
          "associate",
          "VP",
          "Analyst",
          "associate",
          "Analyst",
          "VP",
          "associate",
          "Analyst",
          "associate",
          "associate",
          "VP",
          "VP",
          "associate",
          "Analyst",
          "VP",
          "associate",
          "associate",
          "VP",
          "Analyst",
          "associate",
          "VP",
          "VP",
          "associate",
          "VP",
          "VP",
          "Analyst",
          "associate",
          "Analyst",
          "associate",
          "Analyst",
          "associate",
          "Analyst",
          "Analyst",
          "VP",
          "VP",
          "associate",
          "Analyst",
          "VP",
          "Analyst",
          "Analyst",
          "VP",
          "associate",
          "Analyst",
          "Analyst",
          "VP",
          "VP",
          "associate",
          "associate",
          "Analyst",
          "Analyst",
          "VP",
          "VP",
          "associate",
          "associate",
          "Analyst",
          "Analyst",
          "associate",
          "associate",
          "VP",
          "associate",
          "Analyst",
          "associate",
          "Analyst",
          "Analyst",
          "VP",
          "Analyst",
          "associate",
          "VP",
          "associate",
          "VP",
          "Analyst",
          "VP",
          "associate",
          "associate",
          "associate",
          "VP",
          "Analyst",
          "associate",
          "VP",
          "Analyst",
          "Analyst",
          "VP",
          "associate",
          "Analyst",
          "Analyst",
          "Analyst",
          "Analyst",
          "VP",
          "associate",
          "Analyst",
          "VP",
          "VP",
          "VP",
          "VP",
          "VP",
          "associate",
          "VP",
          "VP",
          "VP",
          "VP",
          "associate",
          "associate",
          "Analyst",
          "associate",
          "Analyst",
          "associate",
          "Analyst",
          "VP",
          "associate",
          "Analyst",
          "Analyst",
          "associate",
          "associate",
          "VP",
          "VP",
          "VP",
          "VP",
          "VP",
          "Analyst",
          "associate",
          "VP",
          "associate",
          "Analyst",
          "VP",
          "VP",
          "Analyst",
          "VP",
          "VP",
          "associate",
          "Analyst",
          "VP",
          "VP",
          "Analyst",
          "Analyst",
          "VP",
          "Analyst",
          "Analyst",
          "VP",
          "Analyst",
          "Analyst",
          "VP",
          "associate",
          "VP",
          "Analyst",
          "associate",
          "associate",
          "VP",
          "associate",
          "associate",
          "Analyst",
          "associate",
          "VP",
          "Analyst",
          "VP",
          "associate",
          "Analyst",
          "associate",
          "VP",
          "associate",
          "associate",
          "associate",
          "Analyst",
          "VP",
          "Analyst",
          "Analyst",
          "associate",
          "Analyst",
          "associate",
          "Analyst",
          "Analyst",
          "Analyst",
          "VP",
          "associate",
          "Analyst",
          "Analyst",
          "associate",
          "VP",
          "associate",
          "VP",
          "VP",
          "VP",
          "Analyst",
          "associate",
          "associate",
          "VP",
          "VP",
          "associate",
          "Analyst",
          "Analyst",
          "Analyst",
          "Analyst",
          "associate",
          "VP",
          "VP",
          "VP",
          "Analyst",
          "Analyst",
          "Analyst",
          "VP",
          "VP",
          "VP",
          "Analyst",
          "associate",
          "Analyst",
          "associate",
          "VP",
          "associate",
          "Analyst",
          "VP",
          "VP",
          "Analyst",
          "VP",
          "VP",
          "Analyst",
          "Analyst",
          "associate",
          "VP",
          "associate",
          "associate",
          "Analyst",
          "associate",
          "Analyst",
          "associate",
          "associate",
          "Analyst",
          "VP",
          "VP",
          "VP",
          "Analyst",
          "VP",
          "associate",
          "VP",
          "VP",
          "associate",
          "Analyst",
          "associate",
          "Analyst",
          "VP",
          "VP",
          "VP",
          "associate",
          "associate",
          "Analyst",
          "associate",
          "VP",
          "Analyst",
          "VP",
          "associate",
          "VP",
          "Analyst",
          "Analyst",
          "Analyst",
          "Analyst",
          "Analyst",
          "VP",
          "associate",
          "Analyst",
          "associate",
          "VP",
          "associate",
          "associate",
          "associate",
          "Analyst",
          "VP",
          "Analyst",
          "Analyst",
          "Analyst",
          "Analyst",
          "associate",
          "associate",
          "Analyst",
          "Analyst",
          "associate",
          "VP",
          "Analyst",
          "associate",
          "Analyst",
          "VP",
          "VP",
          "Analyst",
          "VP",
          "associate",
          "associate",
          "associate",
          "VP",
          "Analyst",
          "associate",
          "Analyst",
          "VP",
          "Analyst",
          "Analyst",
          "Analyst",
          "VP",
          "Analyst",
          "Analyst",
          "Analyst",
          "VP",
          "VP",
          "Analyst",
          "Analyst",
          "VP",
          "VP",
          "Analyst",
          "Analyst",
          "associate",
          "VP",
          "Analyst",
          "Analyst",
          "Analyst",
          "associate",
          "Analyst",
          "Analyst",
          "associate",
          "VP",
          "associate",
          "Analyst",
          "VP",
          "Analyst",
          "associate",
          "associate",
          "associate",
          "Analyst",
          "Analyst",
          "Analyst",
          "Analyst",
          "associate",
          "Analyst",
          "Analyst",
          "VP",
          "VP",
          "Analyst",
          "associate",
          "VP",
          "Analyst",
          "Analyst",
          "Analyst",
          "VP",
          "associate",
          "associate",
          "associate",
          "Analyst",
          "Analyst",
          "VP",
          "associate",
          "Analyst",
          "Analyst",
          "associate",
          "Analyst",
          "associate",
          "VP",
          "Analyst",
          "Analyst",
          "VP",
          "associate",
          "VP",
          "associate",
          "associate",
          "VP",
          "VP",
          "Analyst",
          "associate",
          "associate",
          "VP",
          "VP",
          "Analyst",
          "Analyst",
          "VP",
          "VP",
          "Analyst",
          "VP",
          "VP",
          "VP",
          "associate",
          "associate",
          "associate",
          "associate",
          "VP",
          "associate",
          "VP",
          "Analyst",
          "associate",
          "VP",
          "associate",
          "VP",
          "associate",
          "Analyst",
          "VP",
          "VP",
          "Analyst",
          "associate",
          "associate",
          "Analyst",
          "associate",
          "associate",
          "Analyst",
          "VP",
          "VP",
          "Analyst",
          "Analyst",
          "VP",
          "Analyst",
          "Analyst",
          "associate",
          "associate",
          "VP",
          "VP",
          "VP",
          "associate",
          "Analyst",
          "Analyst",
          "associate",
          "VP",
          "Analyst",
          "VP",
          "Analyst",
          "Analyst"
         ],
         "x0": " ",
         "xaxis": "x",
         "y": [
          58,
          45,
          52,
          33,
          38,
          71,
          33,
          53,
          50,
          104,
          114,
          85,
          46,
          102,
          51,
          44,
          99,
          102,
          79,
          111,
          56,
          37,
          71,
          94,
          82,
          44,
          87,
          30,
          85,
          52,
          50,
          38,
          60,
          64,
          103,
          97,
          96,
          61,
          101,
          104,
          114,
          76,
          71,
          38,
          53,
          98,
          87,
          31,
          69,
          91,
          82,
          80,
          90,
          33,
          107,
          97,
          98,
          92,
          75,
          59,
          85,
          85,
          68,
          51,
          95,
          84,
          109,
          33,
          32,
          119,
          111,
          120,
          97,
          111,
          55,
          61,
          70,
          42,
          93,
          45,
          113,
          75,
          62,
          118,
          117,
          69,
          74,
          117,
          40,
          105,
          94,
          42,
          70,
          57,
          115,
          114,
          47,
          68,
          71,
          109,
          87,
          72,
          78,
          66,
          33,
          51,
          30,
          61,
          96,
          55,
          114,
          106,
          59,
          111,
          35,
          32,
          75,
          49,
          113,
          99,
          88,
          72,
          36,
          105,
          31,
          94,
          50,
          81,
          30,
          81,
          78,
          69,
          111,
          108,
          65,
          101,
          99,
          57,
          51,
          30,
          120,
          78,
          74,
          101,
          65,
          98,
          70,
          47,
          66,
          37,
          67,
          61,
          53,
          34,
          68,
          116,
          89,
          38,
          96,
          110,
          109,
          48,
          86,
          79,
          51,
          101,
          88,
          47,
          74,
          92,
          36,
          35,
          73,
          71,
          120,
          118,
          34,
          105,
          58,
          87,
          89,
          43,
          49,
          101,
          43,
          108,
          79,
          50,
          33,
          82,
          43,
          95,
          41,
          41,
          68,
          50,
          100,
          106,
          78,
          92,
          32,
          94,
          34,
          79,
          70,
          73,
          38,
          41,
          106,
          102,
          41,
          35,
          64,
          71,
          30,
          100,
          71,
          110,
          84,
          93,
          58,
          39,
          46,
          83,
          75,
          33,
          61,
          41,
          57,
          73,
          53,
          36,
          118,
          81,
          117,
          98,
          95,
          74,
          109,
          64,
          74,
          77,
          33,
          31,
          38,
          96,
          35,
          114,
          66,
          37,
          110,
          48,
          95,
          44,
          39,
          69,
          86,
          32,
          49,
          92,
          77,
          97,
          70,
          63,
          53,
          61,
          30,
          72,
          56,
          71,
          116,
          102,
          108,
          99,
          114,
          50,
          54,
          45,
          56,
          69,
          96,
          42,
          104,
          93,
          51,
          109,
          83,
          94,
          112,
          68,
          66,
          120,
          56,
          63,
          47,
          46,
          95,
          110,
          58,
          113,
          94,
          79,
          62,
          76,
          117,
          72,
          91,
          94,
          105,
          38,
          59,
          75,
          68,
          80,
          47,
          57,
          72,
          103,
          101,
          81,
          56,
          78,
          70,
          56,
          48,
          32,
          46,
          94,
          72,
          54,
          50,
          35,
          119,
          31,
          84,
          109,
          48,
          108,
          108,
          43,
          68,
          79,
          60,
          114,
          96,
          46,
          53,
          91,
          75,
          93,
          116,
          50,
          120,
          45,
          63,
          51,
          49,
          37,
          50,
          96,
          102,
          49,
          86,
          57,
          106,
          115,
          111,
          119,
          86,
          41,
          45,
          42,
          81,
          112,
          31,
          106,
          114,
          36,
          87,
          90,
          52,
          52,
          64,
          72,
          105,
          88,
          107,
          70,
          46,
          58,
          45,
          47,
          115,
          38,
          70,
          40,
          54,
          88,
          83,
          57,
          54,
          100,
          59,
          82,
          49,
          43,
          79,
          86,
          84,
          107,
          113,
          58,
          86,
          72,
          97,
          38,
          103,
          116,
          53,
          40,
          33,
          43,
          119,
          40,
          59,
          83,
          61,
          53,
          43,
          72,
          62,
          120,
          45,
          88,
          49,
          71,
          51,
          118,
          67,
          79,
          100,
          88,
          42,
          100,
          35,
          111,
          90,
          45,
          56,
          119,
          81,
          78,
          30,
          117,
          75,
          41,
          96,
          49,
          31,
          67,
          118,
          112,
          32,
          119,
          107,
          61,
          34,
          32,
          79,
          115,
          59,
          54,
          44,
          61,
          47,
          117,
          93,
          113,
          99,
          66,
          107,
          48,
          96,
          94,
          100,
          84,
          58,
          110,
          67,
          58,
          32,
          37,
          47,
          105,
          118,
          119,
          67,
          93,
          108,
          48
         ],
         "y0": " ",
         "yaxis": "y"
        }
       ],
       "layout": {
        "boxmode": "group",
        "legend": {
         "tracegroupgap": 0
        },
        "margin": {
         "t": 60
        },
        "template": {
         "data": {
          "bar": [
           {
            "error_x": {
             "color": "#2a3f5f"
            },
            "error_y": {
             "color": "#2a3f5f"
            },
            "marker": {
             "line": {
              "color": "#E5ECF6",
              "width": 0.5
             }
            },
            "type": "bar"
           }
          ],
          "barpolar": [
           {
            "marker": {
             "line": {
              "color": "#E5ECF6",
              "width": 0.5
             }
            },
            "type": "barpolar"
           }
          ],
          "carpet": [
           {
            "aaxis": {
             "endlinecolor": "#2a3f5f",
             "gridcolor": "white",
             "linecolor": "white",
             "minorgridcolor": "white",
             "startlinecolor": "#2a3f5f"
            },
            "baxis": {
             "endlinecolor": "#2a3f5f",
             "gridcolor": "white",
             "linecolor": "white",
             "minorgridcolor": "white",
             "startlinecolor": "#2a3f5f"
            },
            "type": "carpet"
           }
          ],
          "choropleth": [
           {
            "colorbar": {
             "outlinewidth": 0,
             "ticks": ""
            },
            "type": "choropleth"
           }
          ],
          "contour": [
           {
            "colorbar": {
             "outlinewidth": 0,
             "ticks": ""
            },
            "colorscale": [
             [
              0,
              "#0d0887"
             ],
             [
              0.1111111111111111,
              "#46039f"
             ],
             [
              0.2222222222222222,
              "#7201a8"
             ],
             [
              0.3333333333333333,
              "#9c179e"
             ],
             [
              0.4444444444444444,
              "#bd3786"
             ],
             [
              0.5555555555555556,
              "#d8576b"
             ],
             [
              0.6666666666666666,
              "#ed7953"
             ],
             [
              0.7777777777777778,
              "#fb9f3a"
             ],
             [
              0.8888888888888888,
              "#fdca26"
             ],
             [
              1,
              "#f0f921"
             ]
            ],
            "type": "contour"
           }
          ],
          "contourcarpet": [
           {
            "colorbar": {
             "outlinewidth": 0,
             "ticks": ""
            },
            "type": "contourcarpet"
           }
          ],
          "heatmap": [
           {
            "colorbar": {
             "outlinewidth": 0,
             "ticks": ""
            },
            "colorscale": [
             [
              0,
              "#0d0887"
             ],
             [
              0.1111111111111111,
              "#46039f"
             ],
             [
              0.2222222222222222,
              "#7201a8"
             ],
             [
              0.3333333333333333,
              "#9c179e"
             ],
             [
              0.4444444444444444,
              "#bd3786"
             ],
             [
              0.5555555555555556,
              "#d8576b"
             ],
             [
              0.6666666666666666,
              "#ed7953"
             ],
             [
              0.7777777777777778,
              "#fb9f3a"
             ],
             [
              0.8888888888888888,
              "#fdca26"
             ],
             [
              1,
              "#f0f921"
             ]
            ],
            "type": "heatmap"
           }
          ],
          "heatmapgl": [
           {
            "colorbar": {
             "outlinewidth": 0,
             "ticks": ""
            },
            "colorscale": [
             [
              0,
              "#0d0887"
             ],
             [
              0.1111111111111111,
              "#46039f"
             ],
             [
              0.2222222222222222,
              "#7201a8"
             ],
             [
              0.3333333333333333,
              "#9c179e"
             ],
             [
              0.4444444444444444,
              "#bd3786"
             ],
             [
              0.5555555555555556,
              "#d8576b"
             ],
             [
              0.6666666666666666,
              "#ed7953"
             ],
             [
              0.7777777777777778,
              "#fb9f3a"
             ],
             [
              0.8888888888888888,
              "#fdca26"
             ],
             [
              1,
              "#f0f921"
             ]
            ],
            "type": "heatmapgl"
           }
          ],
          "histogram": [
           {
            "marker": {
             "colorbar": {
              "outlinewidth": 0,
              "ticks": ""
             }
            },
            "type": "histogram"
           }
          ],
          "histogram2d": [
           {
            "colorbar": {
             "outlinewidth": 0,
             "ticks": ""
            },
            "colorscale": [
             [
              0,
              "#0d0887"
             ],
             [
              0.1111111111111111,
              "#46039f"
             ],
             [
              0.2222222222222222,
              "#7201a8"
             ],
             [
              0.3333333333333333,
              "#9c179e"
             ],
             [
              0.4444444444444444,
              "#bd3786"
             ],
             [
              0.5555555555555556,
              "#d8576b"
             ],
             [
              0.6666666666666666,
              "#ed7953"
             ],
             [
              0.7777777777777778,
              "#fb9f3a"
             ],
             [
              0.8888888888888888,
              "#fdca26"
             ],
             [
              1,
              "#f0f921"
             ]
            ],
            "type": "histogram2d"
           }
          ],
          "histogram2dcontour": [
           {
            "colorbar": {
             "outlinewidth": 0,
             "ticks": ""
            },
            "colorscale": [
             [
              0,
              "#0d0887"
             ],
             [
              0.1111111111111111,
              "#46039f"
             ],
             [
              0.2222222222222222,
              "#7201a8"
             ],
             [
              0.3333333333333333,
              "#9c179e"
             ],
             [
              0.4444444444444444,
              "#bd3786"
             ],
             [
              0.5555555555555556,
              "#d8576b"
             ],
             [
              0.6666666666666666,
              "#ed7953"
             ],
             [
              0.7777777777777778,
              "#fb9f3a"
             ],
             [
              0.8888888888888888,
              "#fdca26"
             ],
             [
              1,
              "#f0f921"
             ]
            ],
            "type": "histogram2dcontour"
           }
          ],
          "mesh3d": [
           {
            "colorbar": {
             "outlinewidth": 0,
             "ticks": ""
            },
            "type": "mesh3d"
           }
          ],
          "parcoords": [
           {
            "line": {
             "colorbar": {
              "outlinewidth": 0,
              "ticks": ""
             }
            },
            "type": "parcoords"
           }
          ],
          "pie": [
           {
            "automargin": true,
            "type": "pie"
           }
          ],
          "scatter": [
           {
            "marker": {
             "colorbar": {
              "outlinewidth": 0,
              "ticks": ""
             }
            },
            "type": "scatter"
           }
          ],
          "scatter3d": [
           {
            "line": {
             "colorbar": {
              "outlinewidth": 0,
              "ticks": ""
             }
            },
            "marker": {
             "colorbar": {
              "outlinewidth": 0,
              "ticks": ""
             }
            },
            "type": "scatter3d"
           }
          ],
          "scattercarpet": [
           {
            "marker": {
             "colorbar": {
              "outlinewidth": 0,
              "ticks": ""
             }
            },
            "type": "scattercarpet"
           }
          ],
          "scattergeo": [
           {
            "marker": {
             "colorbar": {
              "outlinewidth": 0,
              "ticks": ""
             }
            },
            "type": "scattergeo"
           }
          ],
          "scattergl": [
           {
            "marker": {
             "colorbar": {
              "outlinewidth": 0,
              "ticks": ""
             }
            },
            "type": "scattergl"
           }
          ],
          "scattermapbox": [
           {
            "marker": {
             "colorbar": {
              "outlinewidth": 0,
              "ticks": ""
             }
            },
            "type": "scattermapbox"
           }
          ],
          "scatterpolar": [
           {
            "marker": {
             "colorbar": {
              "outlinewidth": 0,
              "ticks": ""
             }
            },
            "type": "scatterpolar"
           }
          ],
          "scatterpolargl": [
           {
            "marker": {
             "colorbar": {
              "outlinewidth": 0,
              "ticks": ""
             }
            },
            "type": "scatterpolargl"
           }
          ],
          "scatterternary": [
           {
            "marker": {
             "colorbar": {
              "outlinewidth": 0,
              "ticks": ""
             }
            },
            "type": "scatterternary"
           }
          ],
          "surface": [
           {
            "colorbar": {
             "outlinewidth": 0,
             "ticks": ""
            },
            "colorscale": [
             [
              0,
              "#0d0887"
             ],
             [
              0.1111111111111111,
              "#46039f"
             ],
             [
              0.2222222222222222,
              "#7201a8"
             ],
             [
              0.3333333333333333,
              "#9c179e"
             ],
             [
              0.4444444444444444,
              "#bd3786"
             ],
             [
              0.5555555555555556,
              "#d8576b"
             ],
             [
              0.6666666666666666,
              "#ed7953"
             ],
             [
              0.7777777777777778,
              "#fb9f3a"
             ],
             [
              0.8888888888888888,
              "#fdca26"
             ],
             [
              1,
              "#f0f921"
             ]
            ],
            "type": "surface"
           }
          ],
          "table": [
           {
            "cells": {
             "fill": {
              "color": "#EBF0F8"
             },
             "line": {
              "color": "white"
             }
            },
            "header": {
             "fill": {
              "color": "#C8D4E3"
             },
             "line": {
              "color": "white"
             }
            },
            "type": "table"
           }
          ]
         },
         "layout": {
          "annotationdefaults": {
           "arrowcolor": "#2a3f5f",
           "arrowhead": 0,
           "arrowwidth": 1
          },
          "coloraxis": {
           "colorbar": {
            "outlinewidth": 0,
            "ticks": ""
           }
          },
          "colorscale": {
           "diverging": [
            [
             0,
             "#8e0152"
            ],
            [
             0.1,
             "#c51b7d"
            ],
            [
             0.2,
             "#de77ae"
            ],
            [
             0.3,
             "#f1b6da"
            ],
            [
             0.4,
             "#fde0ef"
            ],
            [
             0.5,
             "#f7f7f7"
            ],
            [
             0.6,
             "#e6f5d0"
            ],
            [
             0.7,
             "#b8e186"
            ],
            [
             0.8,
             "#7fbc41"
            ],
            [
             0.9,
             "#4d9221"
            ],
            [
             1,
             "#276419"
            ]
           ],
           "sequential": [
            [
             0,
             "#0d0887"
            ],
            [
             0.1111111111111111,
             "#46039f"
            ],
            [
             0.2222222222222222,
             "#7201a8"
            ],
            [
             0.3333333333333333,
             "#9c179e"
            ],
            [
             0.4444444444444444,
             "#bd3786"
            ],
            [
             0.5555555555555556,
             "#d8576b"
            ],
            [
             0.6666666666666666,
             "#ed7953"
            ],
            [
             0.7777777777777778,
             "#fb9f3a"
            ],
            [
             0.8888888888888888,
             "#fdca26"
            ],
            [
             1,
             "#f0f921"
            ]
           ],
           "sequentialminus": [
            [
             0,
             "#0d0887"
            ],
            [
             0.1111111111111111,
             "#46039f"
            ],
            [
             0.2222222222222222,
             "#7201a8"
            ],
            [
             0.3333333333333333,
             "#9c179e"
            ],
            [
             0.4444444444444444,
             "#bd3786"
            ],
            [
             0.5555555555555556,
             "#d8576b"
            ],
            [
             0.6666666666666666,
             "#ed7953"
            ],
            [
             0.7777777777777778,
             "#fb9f3a"
            ],
            [
             0.8888888888888888,
             "#fdca26"
            ],
            [
             1,
             "#f0f921"
            ]
           ]
          },
          "colorway": [
           "#636efa",
           "#EF553B",
           "#00cc96",
           "#ab63fa",
           "#FFA15A",
           "#19d3f3",
           "#FF6692",
           "#B6E880",
           "#FF97FF",
           "#FECB52"
          ],
          "font": {
           "color": "#2a3f5f"
          },
          "geo": {
           "bgcolor": "white",
           "lakecolor": "white",
           "landcolor": "#E5ECF6",
           "showlakes": true,
           "showland": true,
           "subunitcolor": "white"
          },
          "hoverlabel": {
           "align": "left"
          },
          "hovermode": "closest",
          "mapbox": {
           "style": "light"
          },
          "paper_bgcolor": "white",
          "plot_bgcolor": "#E5ECF6",
          "polar": {
           "angularaxis": {
            "gridcolor": "white",
            "linecolor": "white",
            "ticks": ""
           },
           "bgcolor": "#E5ECF6",
           "radialaxis": {
            "gridcolor": "white",
            "linecolor": "white",
            "ticks": ""
           }
          },
          "scene": {
           "xaxis": {
            "backgroundcolor": "#E5ECF6",
            "gridcolor": "white",
            "gridwidth": 2,
            "linecolor": "white",
            "showbackground": true,
            "ticks": "",
            "zerolinecolor": "white"
           },
           "yaxis": {
            "backgroundcolor": "#E5ECF6",
            "gridcolor": "white",
            "gridwidth": 2,
            "linecolor": "white",
            "showbackground": true,
            "ticks": "",
            "zerolinecolor": "white"
           },
           "zaxis": {
            "backgroundcolor": "#E5ECF6",
            "gridcolor": "white",
            "gridwidth": 2,
            "linecolor": "white",
            "showbackground": true,
            "ticks": "",
            "zerolinecolor": "white"
           }
          },
          "shapedefaults": {
           "line": {
            "color": "#2a3f5f"
           }
          },
          "ternary": {
           "aaxis": {
            "gridcolor": "white",
            "linecolor": "white",
            "ticks": ""
           },
           "baxis": {
            "gridcolor": "white",
            "linecolor": "white",
            "ticks": ""
           },
           "bgcolor": "#E5ECF6",
           "caxis": {
            "gridcolor": "white",
            "linecolor": "white",
            "ticks": ""
           }
          },
          "title": {
           "x": 0.05
          },
          "xaxis": {
           "automargin": true,
           "gridcolor": "white",
           "linecolor": "white",
           "ticks": "",
           "title": {
            "standoff": 15
           },
           "zerolinecolor": "white",
           "zerolinewidth": 2
          },
          "yaxis": {
           "automargin": true,
           "gridcolor": "white",
           "linecolor": "white",
           "ticks": "",
           "title": {
            "standoff": 15
           },
           "zerolinecolor": "white",
           "zerolinewidth": 2
          }
         }
        },
        "xaxis": {
         "anchor": "y",
         "domain": [
          0,
          1
         ],
         "title": {
          "text": "Title"
         }
        },
        "yaxis": {
         "anchor": "x",
         "domain": [
          0,
          1
         ],
         "title": {
          "text": "Salary"
         }
        }
       }
      },
      "text/html": [
       "<div>\n",
       "        \n",
       "        \n",
       "            <div id=\"ac0da215-596f-44b8-b5da-60369ac9f270\" class=\"plotly-graph-div\" style=\"height:525px; width:100%;\"></div>\n",
       "            <script type=\"text/javascript\">\n",
       "                require([\"plotly\"], function(Plotly) {\n",
       "                    window.PLOTLYENV=window.PLOTLYENV || {};\n",
       "                    \n",
       "                if (document.getElementById(\"ac0da215-596f-44b8-b5da-60369ac9f270\")) {\n",
       "                    Plotly.newPlot(\n",
       "                        'ac0da215-596f-44b8-b5da-60369ac9f270',\n",
       "                        [{\"alignmentgroup\": \"True\", \"hovertemplate\": \"Title=%{x}<br>Salary=%{y}<extra></extra>\", \"legendgroup\": \"\", \"marker\": {\"color\": \"#636efa\"}, \"name\": \"\", \"notched\": false, \"offsetgroup\": \"\", \"orientation\": \"v\", \"showlegend\": false, \"type\": \"box\", \"x\": [\"associate\", \"associate\", \"associate\", \"VP\", \"Analyst\", \"Analyst\", \"Analyst\", \"associate\", \"associate\", \"associate\", \"associate\", \"Analyst\", \"associate\", \"VP\", \"Analyst\", \"associate\", \"associate\", \"Analyst\", \"associate\", \"VP\", \"Analyst\", \"VP\", \"associate\", \"associate\", \"Analyst\", \"VP\", \"associate\", \"Analyst\", \"Analyst\", \"associate\", \"VP\", \"VP\", \"VP\", \"Analyst\", \"VP\", \"VP\", \"associate\", \"Analyst\", \"Analyst\", \"VP\", \"VP\", \"associate\", \"Analyst\", \"VP\", \"associate\", \"associate\", \"Analyst\", \"VP\", \"associate\", \"associate\", \"Analyst\", \"VP\", \"VP\", \"associate\", \"VP\", \"associate\", \"Analyst\", \"VP\", \"associate\", \"associate\", \"VP\", \"Analyst\", \"VP\", \"VP\", \"associate\", \"VP\", \"associate\", \"Analyst\", \"associate\", \"Analyst\", \"VP\", \"VP\", \"Analyst\", \"Analyst\", \"Analyst\", \"VP\", \"associate\", \"Analyst\", \"VP\", \"associate\", \"Analyst\", \"Analyst\", \"associate\", \"Analyst\", \"associate\", \"VP\", \"Analyst\", \"associate\", \"Analyst\", \"VP\", \"associate\", \"Analyst\", \"associate\", \"associate\", \"VP\", \"VP\", \"associate\", \"Analyst\", \"VP\", \"associate\", \"associate\", \"VP\", \"Analyst\", \"associate\", \"VP\", \"VP\", \"associate\", \"VP\", \"VP\", \"Analyst\", \"associate\", \"Analyst\", \"associate\", \"Analyst\", \"associate\", \"Analyst\", \"Analyst\", \"VP\", \"VP\", \"associate\", \"Analyst\", \"VP\", \"Analyst\", \"Analyst\", \"VP\", \"associate\", \"Analyst\", \"Analyst\", \"VP\", \"VP\", \"associate\", \"associate\", \"Analyst\", \"Analyst\", \"VP\", \"VP\", \"associate\", \"associate\", \"Analyst\", \"Analyst\", \"associate\", \"associate\", \"VP\", \"associate\", \"Analyst\", \"associate\", \"Analyst\", \"Analyst\", \"VP\", \"Analyst\", \"associate\", \"VP\", \"associate\", \"VP\", \"Analyst\", \"VP\", \"associate\", \"associate\", \"associate\", \"VP\", \"Analyst\", \"associate\", \"VP\", \"Analyst\", \"Analyst\", \"VP\", \"associate\", \"Analyst\", \"Analyst\", \"Analyst\", \"Analyst\", \"VP\", \"associate\", \"Analyst\", \"VP\", \"VP\", \"VP\", \"VP\", \"VP\", \"associate\", \"VP\", \"VP\", \"VP\", \"VP\", \"associate\", \"associate\", \"Analyst\", \"associate\", \"Analyst\", \"associate\", \"Analyst\", \"VP\", \"associate\", \"Analyst\", \"Analyst\", \"associate\", \"associate\", \"VP\", \"VP\", \"VP\", \"VP\", \"VP\", \"Analyst\", \"associate\", \"VP\", \"associate\", \"Analyst\", \"VP\", \"VP\", \"Analyst\", \"VP\", \"VP\", \"associate\", \"Analyst\", \"VP\", \"VP\", \"Analyst\", \"Analyst\", \"VP\", \"Analyst\", \"Analyst\", \"VP\", \"Analyst\", \"Analyst\", \"VP\", \"associate\", \"VP\", \"Analyst\", \"associate\", \"associate\", \"VP\", \"associate\", \"associate\", \"Analyst\", \"associate\", \"VP\", \"Analyst\", \"VP\", \"associate\", \"Analyst\", \"associate\", \"VP\", \"associate\", \"associate\", \"associate\", \"Analyst\", \"VP\", \"Analyst\", \"Analyst\", \"associate\", \"Analyst\", \"associate\", \"Analyst\", \"Analyst\", \"Analyst\", \"VP\", \"associate\", \"Analyst\", \"Analyst\", \"associate\", \"VP\", \"associate\", \"VP\", \"VP\", \"VP\", \"Analyst\", \"associate\", \"associate\", \"VP\", \"VP\", \"associate\", \"Analyst\", \"Analyst\", \"Analyst\", \"Analyst\", \"associate\", \"VP\", \"VP\", \"VP\", \"Analyst\", \"Analyst\", \"Analyst\", \"VP\", \"VP\", \"VP\", \"Analyst\", \"associate\", \"Analyst\", \"associate\", \"VP\", \"associate\", \"Analyst\", \"VP\", \"VP\", \"Analyst\", \"VP\", \"VP\", \"Analyst\", \"Analyst\", \"associate\", \"VP\", \"associate\", \"associate\", \"Analyst\", \"associate\", \"Analyst\", \"associate\", \"associate\", \"Analyst\", \"VP\", \"VP\", \"VP\", \"Analyst\", \"VP\", \"associate\", \"VP\", \"VP\", \"associate\", \"Analyst\", \"associate\", \"Analyst\", \"VP\", \"VP\", \"VP\", \"associate\", \"associate\", \"Analyst\", \"associate\", \"VP\", \"Analyst\", \"VP\", \"associate\", \"VP\", \"Analyst\", \"Analyst\", \"Analyst\", \"Analyst\", \"Analyst\", \"VP\", \"associate\", \"Analyst\", \"associate\", \"VP\", \"associate\", \"associate\", \"associate\", \"Analyst\", \"VP\", \"Analyst\", \"Analyst\", \"Analyst\", \"Analyst\", \"associate\", \"associate\", \"Analyst\", \"Analyst\", \"associate\", \"VP\", \"Analyst\", \"associate\", \"Analyst\", \"VP\", \"VP\", \"Analyst\", \"VP\", \"associate\", \"associate\", \"associate\", \"VP\", \"Analyst\", \"associate\", \"Analyst\", \"VP\", \"Analyst\", \"Analyst\", \"Analyst\", \"VP\", \"Analyst\", \"Analyst\", \"Analyst\", \"VP\", \"VP\", \"Analyst\", \"Analyst\", \"VP\", \"VP\", \"Analyst\", \"Analyst\", \"associate\", \"VP\", \"Analyst\", \"Analyst\", \"Analyst\", \"associate\", \"Analyst\", \"Analyst\", \"associate\", \"VP\", \"associate\", \"Analyst\", \"VP\", \"Analyst\", \"associate\", \"associate\", \"associate\", \"Analyst\", \"Analyst\", \"Analyst\", \"Analyst\", \"associate\", \"Analyst\", \"Analyst\", \"VP\", \"VP\", \"Analyst\", \"associate\", \"VP\", \"Analyst\", \"Analyst\", \"Analyst\", \"VP\", \"associate\", \"associate\", \"associate\", \"Analyst\", \"Analyst\", \"VP\", \"associate\", \"Analyst\", \"Analyst\", \"associate\", \"Analyst\", \"associate\", \"VP\", \"Analyst\", \"Analyst\", \"VP\", \"associate\", \"VP\", \"associate\", \"associate\", \"VP\", \"VP\", \"Analyst\", \"associate\", \"associate\", \"VP\", \"VP\", \"Analyst\", \"Analyst\", \"VP\", \"VP\", \"Analyst\", \"VP\", \"VP\", \"VP\", \"associate\", \"associate\", \"associate\", \"associate\", \"VP\", \"associate\", \"VP\", \"Analyst\", \"associate\", \"VP\", \"associate\", \"VP\", \"associate\", \"Analyst\", \"VP\", \"VP\", \"Analyst\", \"associate\", \"associate\", \"Analyst\", \"associate\", \"associate\", \"Analyst\", \"VP\", \"VP\", \"Analyst\", \"Analyst\", \"VP\", \"Analyst\", \"Analyst\", \"associate\", \"associate\", \"VP\", \"VP\", \"VP\", \"associate\", \"Analyst\", \"Analyst\", \"associate\", \"VP\", \"Analyst\", \"VP\", \"Analyst\", \"Analyst\"], \"x0\": \" \", \"xaxis\": \"x\", \"y\": [58, 45, 52, 33, 38, 71, 33, 53, 50, 104, 114, 85, 46, 102, 51, 44, 99, 102, 79, 111, 56, 37, 71, 94, 82, 44, 87, 30, 85, 52, 50, 38, 60, 64, 103, 97, 96, 61, 101, 104, 114, 76, 71, 38, 53, 98, 87, 31, 69, 91, 82, 80, 90, 33, 107, 97, 98, 92, 75, 59, 85, 85, 68, 51, 95, 84, 109, 33, 32, 119, 111, 120, 97, 111, 55, 61, 70, 42, 93, 45, 113, 75, 62, 118, 117, 69, 74, 117, 40, 105, 94, 42, 70, 57, 115, 114, 47, 68, 71, 109, 87, 72, 78, 66, 33, 51, 30, 61, 96, 55, 114, 106, 59, 111, 35, 32, 75, 49, 113, 99, 88, 72, 36, 105, 31, 94, 50, 81, 30, 81, 78, 69, 111, 108, 65, 101, 99, 57, 51, 30, 120, 78, 74, 101, 65, 98, 70, 47, 66, 37, 67, 61, 53, 34, 68, 116, 89, 38, 96, 110, 109, 48, 86, 79, 51, 101, 88, 47, 74, 92, 36, 35, 73, 71, 120, 118, 34, 105, 58, 87, 89, 43, 49, 101, 43, 108, 79, 50, 33, 82, 43, 95, 41, 41, 68, 50, 100, 106, 78, 92, 32, 94, 34, 79, 70, 73, 38, 41, 106, 102, 41, 35, 64, 71, 30, 100, 71, 110, 84, 93, 58, 39, 46, 83, 75, 33, 61, 41, 57, 73, 53, 36, 118, 81, 117, 98, 95, 74, 109, 64, 74, 77, 33, 31, 38, 96, 35, 114, 66, 37, 110, 48, 95, 44, 39, 69, 86, 32, 49, 92, 77, 97, 70, 63, 53, 61, 30, 72, 56, 71, 116, 102, 108, 99, 114, 50, 54, 45, 56, 69, 96, 42, 104, 93, 51, 109, 83, 94, 112, 68, 66, 120, 56, 63, 47, 46, 95, 110, 58, 113, 94, 79, 62, 76, 117, 72, 91, 94, 105, 38, 59, 75, 68, 80, 47, 57, 72, 103, 101, 81, 56, 78, 70, 56, 48, 32, 46, 94, 72, 54, 50, 35, 119, 31, 84, 109, 48, 108, 108, 43, 68, 79, 60, 114, 96, 46, 53, 91, 75, 93, 116, 50, 120, 45, 63, 51, 49, 37, 50, 96, 102, 49, 86, 57, 106, 115, 111, 119, 86, 41, 45, 42, 81, 112, 31, 106, 114, 36, 87, 90, 52, 52, 64, 72, 105, 88, 107, 70, 46, 58, 45, 47, 115, 38, 70, 40, 54, 88, 83, 57, 54, 100, 59, 82, 49, 43, 79, 86, 84, 107, 113, 58, 86, 72, 97, 38, 103, 116, 53, 40, 33, 43, 119, 40, 59, 83, 61, 53, 43, 72, 62, 120, 45, 88, 49, 71, 51, 118, 67, 79, 100, 88, 42, 100, 35, 111, 90, 45, 56, 119, 81, 78, 30, 117, 75, 41, 96, 49, 31, 67, 118, 112, 32, 119, 107, 61, 34, 32, 79, 115, 59, 54, 44, 61, 47, 117, 93, 113, 99, 66, 107, 48, 96, 94, 100, 84, 58, 110, 67, 58, 32, 37, 47, 105, 118, 119, 67, 93, 108, 48], \"y0\": \" \", \"yaxis\": \"y\"}],\n",
       "                        {\"boxmode\": \"group\", \"legend\": {\"tracegroupgap\": 0}, \"margin\": {\"t\": 60}, \"template\": {\"data\": {\"bar\": [{\"error_x\": {\"color\": \"#2a3f5f\"}, \"error_y\": {\"color\": \"#2a3f5f\"}, \"marker\": {\"line\": {\"color\": \"#E5ECF6\", \"width\": 0.5}}, \"type\": \"bar\"}], \"barpolar\": [{\"marker\": {\"line\": {\"color\": \"#E5ECF6\", \"width\": 0.5}}, \"type\": \"barpolar\"}], \"carpet\": [{\"aaxis\": {\"endlinecolor\": \"#2a3f5f\", \"gridcolor\": \"white\", \"linecolor\": \"white\", \"minorgridcolor\": \"white\", \"startlinecolor\": \"#2a3f5f\"}, \"baxis\": {\"endlinecolor\": \"#2a3f5f\", \"gridcolor\": \"white\", \"linecolor\": \"white\", \"minorgridcolor\": \"white\", \"startlinecolor\": \"#2a3f5f\"}, \"type\": \"carpet\"}], \"choropleth\": [{\"colorbar\": {\"outlinewidth\": 0, \"ticks\": \"\"}, \"type\": \"choropleth\"}], \"contour\": [{\"colorbar\": {\"outlinewidth\": 0, \"ticks\": \"\"}, \"colorscale\": [[0.0, \"#0d0887\"], [0.1111111111111111, \"#46039f\"], [0.2222222222222222, \"#7201a8\"], [0.3333333333333333, \"#9c179e\"], [0.4444444444444444, \"#bd3786\"], [0.5555555555555556, \"#d8576b\"], [0.6666666666666666, \"#ed7953\"], [0.7777777777777778, \"#fb9f3a\"], [0.8888888888888888, \"#fdca26\"], [1.0, \"#f0f921\"]], \"type\": \"contour\"}], \"contourcarpet\": [{\"colorbar\": {\"outlinewidth\": 0, \"ticks\": \"\"}, \"type\": \"contourcarpet\"}], \"heatmap\": [{\"colorbar\": {\"outlinewidth\": 0, \"ticks\": \"\"}, \"colorscale\": [[0.0, \"#0d0887\"], [0.1111111111111111, \"#46039f\"], [0.2222222222222222, \"#7201a8\"], [0.3333333333333333, \"#9c179e\"], [0.4444444444444444, \"#bd3786\"], [0.5555555555555556, \"#d8576b\"], [0.6666666666666666, \"#ed7953\"], [0.7777777777777778, \"#fb9f3a\"], [0.8888888888888888, \"#fdca26\"], [1.0, \"#f0f921\"]], \"type\": \"heatmap\"}], \"heatmapgl\": [{\"colorbar\": {\"outlinewidth\": 0, \"ticks\": \"\"}, \"colorscale\": [[0.0, \"#0d0887\"], [0.1111111111111111, \"#46039f\"], [0.2222222222222222, \"#7201a8\"], [0.3333333333333333, \"#9c179e\"], [0.4444444444444444, \"#bd3786\"], [0.5555555555555556, \"#d8576b\"], [0.6666666666666666, \"#ed7953\"], [0.7777777777777778, \"#fb9f3a\"], [0.8888888888888888, \"#fdca26\"], [1.0, \"#f0f921\"]], \"type\": \"heatmapgl\"}], \"histogram\": [{\"marker\": {\"colorbar\": {\"outlinewidth\": 0, \"ticks\": \"\"}}, \"type\": \"histogram\"}], \"histogram2d\": [{\"colorbar\": {\"outlinewidth\": 0, \"ticks\": \"\"}, \"colorscale\": [[0.0, \"#0d0887\"], [0.1111111111111111, \"#46039f\"], [0.2222222222222222, \"#7201a8\"], [0.3333333333333333, \"#9c179e\"], [0.4444444444444444, \"#bd3786\"], [0.5555555555555556, \"#d8576b\"], [0.6666666666666666, \"#ed7953\"], [0.7777777777777778, \"#fb9f3a\"], [0.8888888888888888, \"#fdca26\"], [1.0, \"#f0f921\"]], \"type\": \"histogram2d\"}], \"histogram2dcontour\": [{\"colorbar\": {\"outlinewidth\": 0, \"ticks\": \"\"}, \"colorscale\": [[0.0, \"#0d0887\"], [0.1111111111111111, \"#46039f\"], [0.2222222222222222, \"#7201a8\"], [0.3333333333333333, \"#9c179e\"], [0.4444444444444444, \"#bd3786\"], [0.5555555555555556, \"#d8576b\"], [0.6666666666666666, \"#ed7953\"], [0.7777777777777778, \"#fb9f3a\"], [0.8888888888888888, \"#fdca26\"], [1.0, \"#f0f921\"]], \"type\": \"histogram2dcontour\"}], \"mesh3d\": [{\"colorbar\": {\"outlinewidth\": 0, \"ticks\": \"\"}, \"type\": \"mesh3d\"}], \"parcoords\": [{\"line\": {\"colorbar\": {\"outlinewidth\": 0, \"ticks\": \"\"}}, \"type\": \"parcoords\"}], \"pie\": [{\"automargin\": true, \"type\": \"pie\"}], \"scatter\": [{\"marker\": {\"colorbar\": {\"outlinewidth\": 0, \"ticks\": \"\"}}, \"type\": \"scatter\"}], \"scatter3d\": [{\"line\": {\"colorbar\": {\"outlinewidth\": 0, \"ticks\": \"\"}}, \"marker\": {\"colorbar\": {\"outlinewidth\": 0, \"ticks\": \"\"}}, \"type\": \"scatter3d\"}], \"scattercarpet\": [{\"marker\": {\"colorbar\": {\"outlinewidth\": 0, \"ticks\": \"\"}}, \"type\": \"scattercarpet\"}], \"scattergeo\": [{\"marker\": {\"colorbar\": {\"outlinewidth\": 0, \"ticks\": \"\"}}, \"type\": \"scattergeo\"}], \"scattergl\": [{\"marker\": {\"colorbar\": {\"outlinewidth\": 0, \"ticks\": \"\"}}, \"type\": \"scattergl\"}], \"scattermapbox\": [{\"marker\": {\"colorbar\": {\"outlinewidth\": 0, \"ticks\": \"\"}}, \"type\": \"scattermapbox\"}], \"scatterpolar\": [{\"marker\": {\"colorbar\": {\"outlinewidth\": 0, \"ticks\": \"\"}}, \"type\": \"scatterpolar\"}], \"scatterpolargl\": [{\"marker\": {\"colorbar\": {\"outlinewidth\": 0, \"ticks\": \"\"}}, \"type\": \"scatterpolargl\"}], \"scatterternary\": [{\"marker\": {\"colorbar\": {\"outlinewidth\": 0, \"ticks\": \"\"}}, \"type\": \"scatterternary\"}], \"surface\": [{\"colorbar\": {\"outlinewidth\": 0, \"ticks\": \"\"}, \"colorscale\": [[0.0, \"#0d0887\"], [0.1111111111111111, \"#46039f\"], [0.2222222222222222, \"#7201a8\"], [0.3333333333333333, \"#9c179e\"], [0.4444444444444444, \"#bd3786\"], [0.5555555555555556, \"#d8576b\"], [0.6666666666666666, \"#ed7953\"], [0.7777777777777778, \"#fb9f3a\"], [0.8888888888888888, \"#fdca26\"], [1.0, \"#f0f921\"]], \"type\": \"surface\"}], \"table\": [{\"cells\": {\"fill\": {\"color\": \"#EBF0F8\"}, \"line\": {\"color\": \"white\"}}, \"header\": {\"fill\": {\"color\": \"#C8D4E3\"}, \"line\": {\"color\": \"white\"}}, \"type\": \"table\"}]}, \"layout\": {\"annotationdefaults\": {\"arrowcolor\": \"#2a3f5f\", \"arrowhead\": 0, \"arrowwidth\": 1}, \"coloraxis\": {\"colorbar\": {\"outlinewidth\": 0, \"ticks\": \"\"}}, \"colorscale\": {\"diverging\": [[0, \"#8e0152\"], [0.1, \"#c51b7d\"], [0.2, \"#de77ae\"], [0.3, \"#f1b6da\"], [0.4, \"#fde0ef\"], [0.5, \"#f7f7f7\"], [0.6, \"#e6f5d0\"], [0.7, \"#b8e186\"], [0.8, \"#7fbc41\"], [0.9, \"#4d9221\"], [1, \"#276419\"]], \"sequential\": [[0.0, \"#0d0887\"], [0.1111111111111111, \"#46039f\"], [0.2222222222222222, \"#7201a8\"], [0.3333333333333333, \"#9c179e\"], [0.4444444444444444, \"#bd3786\"], [0.5555555555555556, \"#d8576b\"], [0.6666666666666666, \"#ed7953\"], [0.7777777777777778, \"#fb9f3a\"], [0.8888888888888888, \"#fdca26\"], [1.0, \"#f0f921\"]], \"sequentialminus\": [[0.0, \"#0d0887\"], [0.1111111111111111, \"#46039f\"], [0.2222222222222222, \"#7201a8\"], [0.3333333333333333, \"#9c179e\"], [0.4444444444444444, \"#bd3786\"], [0.5555555555555556, \"#d8576b\"], [0.6666666666666666, \"#ed7953\"], [0.7777777777777778, \"#fb9f3a\"], [0.8888888888888888, \"#fdca26\"], [1.0, \"#f0f921\"]]}, \"colorway\": [\"#636efa\", \"#EF553B\", \"#00cc96\", \"#ab63fa\", \"#FFA15A\", \"#19d3f3\", \"#FF6692\", \"#B6E880\", \"#FF97FF\", \"#FECB52\"], \"font\": {\"color\": \"#2a3f5f\"}, \"geo\": {\"bgcolor\": \"white\", \"lakecolor\": \"white\", \"landcolor\": \"#E5ECF6\", \"showlakes\": true, \"showland\": true, \"subunitcolor\": \"white\"}, \"hoverlabel\": {\"align\": \"left\"}, \"hovermode\": \"closest\", \"mapbox\": {\"style\": \"light\"}, \"paper_bgcolor\": \"white\", \"plot_bgcolor\": \"#E5ECF6\", \"polar\": {\"angularaxis\": {\"gridcolor\": \"white\", \"linecolor\": \"white\", \"ticks\": \"\"}, \"bgcolor\": \"#E5ECF6\", \"radialaxis\": {\"gridcolor\": \"white\", \"linecolor\": \"white\", \"ticks\": \"\"}}, \"scene\": {\"xaxis\": {\"backgroundcolor\": \"#E5ECF6\", \"gridcolor\": \"white\", \"gridwidth\": 2, \"linecolor\": \"white\", \"showbackground\": true, \"ticks\": \"\", \"zerolinecolor\": \"white\"}, \"yaxis\": {\"backgroundcolor\": \"#E5ECF6\", \"gridcolor\": \"white\", \"gridwidth\": 2, \"linecolor\": \"white\", \"showbackground\": true, \"ticks\": \"\", \"zerolinecolor\": \"white\"}, \"zaxis\": {\"backgroundcolor\": \"#E5ECF6\", \"gridcolor\": \"white\", \"gridwidth\": 2, \"linecolor\": \"white\", \"showbackground\": true, \"ticks\": \"\", \"zerolinecolor\": \"white\"}}, \"shapedefaults\": {\"line\": {\"color\": \"#2a3f5f\"}}, \"ternary\": {\"aaxis\": {\"gridcolor\": \"white\", \"linecolor\": \"white\", \"ticks\": \"\"}, \"baxis\": {\"gridcolor\": \"white\", \"linecolor\": \"white\", \"ticks\": \"\"}, \"bgcolor\": \"#E5ECF6\", \"caxis\": {\"gridcolor\": \"white\", \"linecolor\": \"white\", \"ticks\": \"\"}}, \"title\": {\"x\": 0.05}, \"xaxis\": {\"automargin\": true, \"gridcolor\": \"white\", \"linecolor\": \"white\", \"ticks\": \"\", \"title\": {\"standoff\": 15}, \"zerolinecolor\": \"white\", \"zerolinewidth\": 2}, \"yaxis\": {\"automargin\": true, \"gridcolor\": \"white\", \"linecolor\": \"white\", \"ticks\": \"\", \"title\": {\"standoff\": 15}, \"zerolinecolor\": \"white\", \"zerolinewidth\": 2}}}, \"xaxis\": {\"anchor\": \"y\", \"domain\": [0.0, 1.0], \"title\": {\"text\": \"Title\"}}, \"yaxis\": {\"anchor\": \"x\", \"domain\": [0.0, 1.0], \"title\": {\"text\": \"Salary\"}}},\n",
       "                        {\"responsive\": true}\n",
       "                    ).then(function(){\n",
       "                            \n",
       "var gd = document.getElementById('ac0da215-596f-44b8-b5da-60369ac9f270');\n",
       "var x = new MutationObserver(function (mutations, observer) {{\n",
       "        var display = window.getComputedStyle(gd).display;\n",
       "        if (!display || display === 'none') {{\n",
       "            console.log([gd, 'removed!']);\n",
       "            Plotly.purge(gd);\n",
       "            observer.disconnect();\n",
       "        }}\n",
       "}});\n",
       "\n",
       "// Listen for the removal of the full notebook cells\n",
       "var notebookContainer = gd.closest('#notebook-container');\n",
       "if (notebookContainer) {{\n",
       "    x.observe(notebookContainer, {childList: true});\n",
       "}}\n",
       "\n",
       "// Listen for the clearing of the current output cell\n",
       "var outputEl = gd.closest('.output');\n",
       "if (outputEl) {{\n",
       "    x.observe(outputEl, {childList: true});\n",
       "}}\n",
       "\n",
       "                        })\n",
       "                };\n",
       "                });\n",
       "            </script>\n",
       "        </div>"
      ]
     },
     "metadata": {},
     "output_type": "display_data"
    }
   ],
   "source": [
    "import seaborn as sns\n",
    "import plotly.express as px\n",
    "\n",
    "px.box(employees,x='Title',y='Salary')"
   ]
  },
  {
   "cell_type": "markdown",
   "metadata": {},
   "source": [
    "## px.box to show the relations between 三个因素的比较salary, title and education，另一个用颜色区分"
   ]
  },
  {
   "cell_type": "code",
   "execution_count": 123,
   "metadata": {},
   "outputs": [
    {
     "data": {
      "application/vnd.plotly.v1+json": {
       "config": {
        "plotlyServerURL": "https://plot.ly"
       },
       "data": [
        {
         "alignmentgroup": "True",
         "hovertemplate": "Education=Master<br>Title=%{x}<br>Salary=%{y}<extra></extra>",
         "legendgroup": "Master",
         "marker": {
          "color": "#636efa"
         },
         "name": "Master",
         "notched": false,
         "offsetgroup": "Master",
         "orientation": "v",
         "showlegend": true,
         "type": "box",
         "x": [
          "associate",
          "associate",
          "associate",
          "VP",
          "Analyst",
          "Analyst",
          "Analyst",
          "associate",
          "associate",
          "associate",
          "Analyst",
          "Analyst",
          "associate",
          "VP",
          "associate",
          "VP",
          "Analyst",
          "associate",
          "VP",
          "VP",
          "associate",
          "associate",
          "Analyst",
          "VP",
          "VP",
          "Analyst",
          "associate",
          "Analyst",
          "Analyst",
          "associate",
          "VP",
          "associate",
          "associate",
          "associate",
          "VP",
          "associate",
          "associate",
          "VP",
          "VP",
          "Analyst",
          "Analyst",
          "Analyst",
          "associate",
          "Analyst",
          "associate",
          "associate",
          "Analyst",
          "VP",
          "associate",
          "VP",
          "associate",
          "Analyst",
          "associate",
          "VP",
          "Analyst",
          "VP",
          "VP",
          "VP",
          "VP",
          "associate",
          "Analyst",
          "Analyst",
          "Analyst",
          "associate",
          "VP",
          "VP",
          "VP",
          "VP",
          "Analyst",
          "Analyst",
          "VP",
          "Analyst",
          "VP",
          "VP",
          "VP",
          "Analyst",
          "associate",
          "VP",
          "associate",
          "VP",
          "Analyst",
          "VP",
          "Analyst",
          "Analyst",
          "associate",
          "VP",
          "Analyst",
          "associate",
          "VP",
          "VP",
          "Analyst",
          "Analyst",
          "Analyst",
          "VP",
          "VP",
          "associate",
          "associate",
          "associate",
          "VP",
          "VP",
          "associate",
          "VP",
          "associate",
          "Analyst",
          "VP",
          "VP",
          "associate",
          "associate",
          "Analyst",
          "VP",
          "VP",
          "VP",
          "Analyst",
          "Analyst",
          "associate",
          "Analyst",
          "associate",
          "Analyst",
          "Analyst",
          "Analyst",
          "associate",
          "associate",
          "Analyst",
          "Analyst",
          "VP",
          "VP",
          "VP",
          "Analyst",
          "Analyst",
          "Analyst",
          "Analyst",
          "VP",
          "Analyst",
          "VP",
          "Analyst",
          "Analyst",
          "Analyst",
          "VP",
          "Analyst",
          "Analyst",
          "VP",
          "VP",
          "associate",
          "Analyst",
          "VP",
          "Analyst",
          "associate",
          "associate",
          "VP",
          "associate",
          "associate",
          "VP",
          "associate",
          "associate",
          "Analyst",
          "Analyst",
          "VP",
          "associate",
          "VP",
          "associate",
          "associate",
          "associate",
          "VP",
          "VP",
          "associate",
          "Analyst",
          "Analyst",
          "associate",
          "VP",
          "VP",
          "VP",
          "Analyst",
          "Analyst",
          "Analyst"
         ],
         "x0": " ",
         "xaxis": "x",
         "y": [
          58,
          45,
          52,
          33,
          38,
          71,
          33,
          53,
          104,
          114,
          102,
          56,
          52,
          60,
          96,
          114,
          71,
          69,
          85,
          51,
          109,
          32,
          119,
          111,
          120,
          42,
          45,
          113,
          75,
          117,
          105,
          70,
          87,
          66,
          61,
          59,
          35,
          49,
          72,
          36,
          105,
          81,
          57,
          51,
          78,
          101,
          37,
          61,
          53,
          34,
          96,
          51,
          88,
          35,
          71,
          34,
          105,
          89,
          49,
          43,
          33,
          41,
          68,
          100,
          106,
          78,
          92,
          32,
          34,
          102,
          35,
          71,
          30,
          84,
          39,
          46,
          33,
          53,
          36,
          98,
          95,
          74,
          64,
          44,
          97,
          53,
          61,
          116,
          93,
          51,
          109,
          94,
          47,
          95,
          94,
          117,
          91,
          94,
          59,
          75,
          47,
          57,
          103,
          101,
          78,
          56,
          48,
          32,
          46,
          72,
          50,
          119,
          31,
          109,
          43,
          68,
          46,
          53,
          116,
          50,
          120,
          45,
          51,
          102,
          49,
          106,
          86,
          41,
          112,
          106,
          90,
          52,
          64,
          88,
          47,
          70,
          40,
          88,
          57,
          84,
          86,
          72,
          38,
          116,
          33,
          83,
          53,
          62,
          51,
          79,
          100,
          88,
          35,
          111,
          56,
          119,
          117,
          96,
          118,
          112,
          107,
          79,
          59,
          54,
          47,
          48,
          100,
          110,
          67,
          58,
          32,
          47,
          67,
          48
         ],
         "y0": " ",
         "yaxis": "y"
        },
        {
         "alignmentgroup": "True",
         "hovertemplate": "Education=PhD<br>Title=%{x}<br>Salary=%{y}<extra></extra>",
         "legendgroup": "PhD",
         "marker": {
          "color": "#EF553B"
         },
         "name": "PhD",
         "notched": false,
         "offsetgroup": "PhD",
         "orientation": "v",
         "showlegend": true,
         "type": "box",
         "x": [
          "associate",
          "Analyst",
          "associate",
          "VP",
          "associate",
          "associate",
          "Analyst",
          "VP",
          "VP",
          "Analyst",
          "VP",
          "associate",
          "Analyst",
          "associate",
          "VP",
          "associate",
          "associate",
          "VP",
          "associate",
          "associate",
          "Analyst",
          "VP",
          "associate",
          "VP",
          "Analyst",
          "VP",
          "Analyst",
          "Analyst",
          "associate",
          "Analyst",
          "VP",
          "VP",
          "VP",
          "Analyst",
          "Analyst",
          "VP",
          "associate",
          "associate",
          "VP",
          "associate",
          "associate",
          "VP",
          "associate",
          "Analyst",
          "associate",
          "VP",
          "Analyst",
          "Analyst",
          "Analyst",
          "VP",
          "Analyst",
          "associate",
          "associate",
          "Analyst",
          "Analyst",
          "Analyst",
          "Analyst",
          "Analyst",
          "associate",
          "associate",
          "VP",
          "associate",
          "associate",
          "VP",
          "associate",
          "associate",
          "VP",
          "associate",
          "Analyst",
          "VP",
          "VP",
          "associate",
          "Analyst",
          "Analyst",
          "associate",
          "associate",
          "associate",
          "associate",
          "associate",
          "Analyst",
          "VP",
          "associate",
          "Analyst",
          "VP",
          "Analyst",
          "VP",
          "VP",
          "associate",
          "associate",
          "VP",
          "Analyst",
          "associate",
          "VP",
          "VP",
          "Analyst",
          "Analyst",
          "VP",
          "associate",
          "VP",
          "VP",
          "Analyst",
          "associate",
          "associate",
          "Analyst",
          "Analyst",
          "VP",
          "Analyst",
          "VP",
          "VP",
          "associate",
          "associate",
          "Analyst",
          "Analyst",
          "Analyst",
          "VP",
          "associate",
          "associate",
          "VP",
          "Analyst",
          "Analyst",
          "Analyst",
          "associate",
          "VP",
          "Analyst",
          "VP",
          "VP",
          "Analyst",
          "Analyst",
          "associate",
          "VP",
          "associate",
          "associate",
          "VP",
          "Analyst",
          "Analyst",
          "associate",
          "associate",
          "associate",
          "Analyst",
          "VP",
          "Analyst",
          "Analyst",
          "VP",
          "Analyst",
          "Analyst",
          "VP",
          "VP",
          "VP",
          "VP",
          "associate",
          "associate",
          "associate",
          "Analyst",
          "VP",
          "Analyst",
          "Analyst",
          "associate",
          "associate",
          "Analyst",
          "associate",
          "VP",
          "VP",
          "Analyst"
         ],
         "x0": " ",
         "xaxis": "x",
         "y": [
          50,
          85,
          44,
          111,
          71,
          94,
          85,
          50,
          97,
          61,
          104,
          76,
          87,
          91,
          80,
          33,
          97,
          92,
          75,
          95,
          111,
          61,
          70,
          93,
          118,
          69,
          74,
          40,
          47,
          68,
          72,
          33,
          51,
          55,
          32,
          113,
          99,
          94,
          30,
          78,
          69,
          101,
          99,
          30,
          120,
          74,
          65,
          70,
          47,
          66,
          68,
          89,
          38,
          109,
          79,
          47,
          74,
          92,
          73,
          87,
          43,
          108,
          50,
          95,
          50,
          79,
          70,
          73,
          38,
          41,
          106,
          64,
          110,
          93,
          57,
          73,
          118,
          109,
          31,
          96,
          35,
          48,
          95,
          69,
          49,
          77,
          63,
          30,
          72,
          71,
          108,
          50,
          54,
          45,
          69,
          96,
          104,
          112,
          56,
          63,
          58,
          113,
          62,
          72,
          105,
          38,
          68,
          80,
          72,
          94,
          35,
          84,
          48,
          108,
          60,
          114,
          96,
          91,
          75,
          93,
          57,
          45,
          81,
          31,
          114,
          52,
          72,
          70,
          46,
          58,
          38,
          54,
          54,
          79,
          113,
          43,
          119,
          40,
          59,
          61,
          43,
          120,
          88,
          49,
          71,
          67,
          42,
          45,
          75,
          49,
          31,
          67,
          119,
          61,
          115,
          44,
          93,
          113,
          99,
          37,
          119,
          93,
          108
         ],
         "y0": " ",
         "yaxis": "y"
        },
        {
         "alignmentgroup": "True",
         "hovertemplate": "Education=Bachelor<br>Title=%{x}<br>Salary=%{y}<extra></extra>",
         "legendgroup": "Bachelor",
         "marker": {
          "color": "#00cc96"
         },
         "name": "Bachelor",
         "notched": false,
         "offsetgroup": "Bachelor",
         "orientation": "v",
         "showlegend": true,
         "type": "box",
         "x": [
          "associate",
          "VP",
          "Analyst",
          "associate",
          "associate",
          "VP",
          "Analyst",
          "VP",
          "associate",
          "Analyst",
          "VP",
          "Analyst",
          "VP",
          "Analyst",
          "VP",
          "associate",
          "associate",
          "VP",
          "Analyst",
          "VP",
          "VP",
          "Analyst",
          "associate",
          "Analyst",
          "VP",
          "VP",
          "Analyst",
          "Analyst",
          "Analyst",
          "associate",
          "associate",
          "associate",
          "Analyst",
          "associate",
          "VP",
          "VP",
          "VP",
          "associate",
          "Analyst",
          "associate",
          "VP",
          "associate",
          "Analyst",
          "Analyst",
          "Analyst",
          "Analyst",
          "VP",
          "Analyst",
          "VP",
          "Analyst",
          "Analyst",
          "VP",
          "associate",
          "associate",
          "VP",
          "VP",
          "associate",
          "VP",
          "VP",
          "Analyst",
          "VP",
          "VP",
          "VP",
          "VP",
          "Analyst",
          "associate",
          "Analyst",
          "associate",
          "VP",
          "VP",
          "VP",
          "Analyst",
          "Analyst",
          "Analyst",
          "VP",
          "VP",
          "Analyst",
          "Analyst",
          "associate",
          "associate",
          "VP",
          "associate",
          "associate",
          "Analyst",
          "Analyst",
          "associate",
          "Analyst",
          "Analyst",
          "associate",
          "Analyst",
          "associate",
          "VP",
          "VP",
          "Analyst",
          "Analyst",
          "Analyst",
          "VP",
          "Analyst",
          "associate",
          "VP",
          "associate",
          "Analyst",
          "VP",
          "Analyst",
          "associate",
          "Analyst",
          "associate",
          "Analyst",
          "VP",
          "Analyst",
          "VP",
          "associate",
          "Analyst",
          "associate",
          "VP",
          "Analyst",
          "associate",
          "VP",
          "associate",
          "associate",
          "associate",
          "Analyst",
          "Analyst",
          "Analyst",
          "VP",
          "Analyst",
          "Analyst",
          "Analyst",
          "associate",
          "Analyst",
          "associate",
          "associate",
          "associate",
          "Analyst",
          "Analyst",
          "associate",
          "Analyst",
          "Analyst",
          "VP",
          "Analyst",
          "Analyst",
          "Analyst",
          "associate",
          "associate",
          "Analyst",
          "VP",
          "VP",
          "VP",
          "Analyst",
          "VP",
          "VP",
          "associate",
          "VP",
          "associate",
          "Analyst",
          "VP",
          "VP",
          "Analyst",
          "VP",
          "Analyst",
          "associate",
          "Analyst",
          "associate"
         ],
         "x0": " ",
         "xaxis": "x",
         "y": [
          46,
          102,
          51,
          99,
          79,
          37,
          82,
          44,
          87,
          30,
          38,
          64,
          103,
          101,
          38,
          53,
          98,
          31,
          82,
          90,
          107,
          98,
          59,
          85,
          68,
          84,
          33,
          97,
          55,
          62,
          117,
          94,
          42,
          57,
          115,
          114,
          71,
          109,
          78,
          30,
          96,
          114,
          106,
          111,
          75,
          88,
          31,
          50,
          81,
          111,
          108,
          65,
          98,
          67,
          116,
          110,
          48,
          86,
          101,
          36,
          120,
          118,
          58,
          101,
          79,
          82,
          43,
          41,
          94,
          41,
          100,
          71,
          58,
          83,
          75,
          61,
          41,
          81,
          117,
          74,
          77,
          33,
          38,
          114,
          66,
          37,
          110,
          39,
          86,
          32,
          92,
          70,
          56,
          102,
          99,
          114,
          56,
          42,
          83,
          68,
          66,
          120,
          46,
          110,
          79,
          76,
          81,
          56,
          70,
          54,
          108,
          79,
          63,
          49,
          37,
          50,
          96,
          86,
          115,
          111,
          119,
          42,
          36,
          87,
          105,
          107,
          45,
          115,
          83,
          100,
          59,
          82,
          49,
          43,
          86,
          107,
          58,
          97,
          103,
          53,
          40,
          72,
          45,
          118,
          100,
          90,
          81,
          78,
          30,
          41,
          32,
          34,
          32,
          61,
          117,
          66,
          107,
          96,
          94,
          84,
          58,
          105,
          118
         ],
         "y0": " ",
         "yaxis": "y"
        }
       ],
       "layout": {
        "boxmode": "group",
        "legend": {
         "title": {
          "text": "Education"
         },
         "tracegroupgap": 0
        },
        "margin": {
         "t": 60
        },
        "template": {
         "data": {
          "bar": [
           {
            "error_x": {
             "color": "#2a3f5f"
            },
            "error_y": {
             "color": "#2a3f5f"
            },
            "marker": {
             "line": {
              "color": "#E5ECF6",
              "width": 0.5
             }
            },
            "type": "bar"
           }
          ],
          "barpolar": [
           {
            "marker": {
             "line": {
              "color": "#E5ECF6",
              "width": 0.5
             }
            },
            "type": "barpolar"
           }
          ],
          "carpet": [
           {
            "aaxis": {
             "endlinecolor": "#2a3f5f",
             "gridcolor": "white",
             "linecolor": "white",
             "minorgridcolor": "white",
             "startlinecolor": "#2a3f5f"
            },
            "baxis": {
             "endlinecolor": "#2a3f5f",
             "gridcolor": "white",
             "linecolor": "white",
             "minorgridcolor": "white",
             "startlinecolor": "#2a3f5f"
            },
            "type": "carpet"
           }
          ],
          "choropleth": [
           {
            "colorbar": {
             "outlinewidth": 0,
             "ticks": ""
            },
            "type": "choropleth"
           }
          ],
          "contour": [
           {
            "colorbar": {
             "outlinewidth": 0,
             "ticks": ""
            },
            "colorscale": [
             [
              0,
              "#0d0887"
             ],
             [
              0.1111111111111111,
              "#46039f"
             ],
             [
              0.2222222222222222,
              "#7201a8"
             ],
             [
              0.3333333333333333,
              "#9c179e"
             ],
             [
              0.4444444444444444,
              "#bd3786"
             ],
             [
              0.5555555555555556,
              "#d8576b"
             ],
             [
              0.6666666666666666,
              "#ed7953"
             ],
             [
              0.7777777777777778,
              "#fb9f3a"
             ],
             [
              0.8888888888888888,
              "#fdca26"
             ],
             [
              1,
              "#f0f921"
             ]
            ],
            "type": "contour"
           }
          ],
          "contourcarpet": [
           {
            "colorbar": {
             "outlinewidth": 0,
             "ticks": ""
            },
            "type": "contourcarpet"
           }
          ],
          "heatmap": [
           {
            "colorbar": {
             "outlinewidth": 0,
             "ticks": ""
            },
            "colorscale": [
             [
              0,
              "#0d0887"
             ],
             [
              0.1111111111111111,
              "#46039f"
             ],
             [
              0.2222222222222222,
              "#7201a8"
             ],
             [
              0.3333333333333333,
              "#9c179e"
             ],
             [
              0.4444444444444444,
              "#bd3786"
             ],
             [
              0.5555555555555556,
              "#d8576b"
             ],
             [
              0.6666666666666666,
              "#ed7953"
             ],
             [
              0.7777777777777778,
              "#fb9f3a"
             ],
             [
              0.8888888888888888,
              "#fdca26"
             ],
             [
              1,
              "#f0f921"
             ]
            ],
            "type": "heatmap"
           }
          ],
          "heatmapgl": [
           {
            "colorbar": {
             "outlinewidth": 0,
             "ticks": ""
            },
            "colorscale": [
             [
              0,
              "#0d0887"
             ],
             [
              0.1111111111111111,
              "#46039f"
             ],
             [
              0.2222222222222222,
              "#7201a8"
             ],
             [
              0.3333333333333333,
              "#9c179e"
             ],
             [
              0.4444444444444444,
              "#bd3786"
             ],
             [
              0.5555555555555556,
              "#d8576b"
             ],
             [
              0.6666666666666666,
              "#ed7953"
             ],
             [
              0.7777777777777778,
              "#fb9f3a"
             ],
             [
              0.8888888888888888,
              "#fdca26"
             ],
             [
              1,
              "#f0f921"
             ]
            ],
            "type": "heatmapgl"
           }
          ],
          "histogram": [
           {
            "marker": {
             "colorbar": {
              "outlinewidth": 0,
              "ticks": ""
             }
            },
            "type": "histogram"
           }
          ],
          "histogram2d": [
           {
            "colorbar": {
             "outlinewidth": 0,
             "ticks": ""
            },
            "colorscale": [
             [
              0,
              "#0d0887"
             ],
             [
              0.1111111111111111,
              "#46039f"
             ],
             [
              0.2222222222222222,
              "#7201a8"
             ],
             [
              0.3333333333333333,
              "#9c179e"
             ],
             [
              0.4444444444444444,
              "#bd3786"
             ],
             [
              0.5555555555555556,
              "#d8576b"
             ],
             [
              0.6666666666666666,
              "#ed7953"
             ],
             [
              0.7777777777777778,
              "#fb9f3a"
             ],
             [
              0.8888888888888888,
              "#fdca26"
             ],
             [
              1,
              "#f0f921"
             ]
            ],
            "type": "histogram2d"
           }
          ],
          "histogram2dcontour": [
           {
            "colorbar": {
             "outlinewidth": 0,
             "ticks": ""
            },
            "colorscale": [
             [
              0,
              "#0d0887"
             ],
             [
              0.1111111111111111,
              "#46039f"
             ],
             [
              0.2222222222222222,
              "#7201a8"
             ],
             [
              0.3333333333333333,
              "#9c179e"
             ],
             [
              0.4444444444444444,
              "#bd3786"
             ],
             [
              0.5555555555555556,
              "#d8576b"
             ],
             [
              0.6666666666666666,
              "#ed7953"
             ],
             [
              0.7777777777777778,
              "#fb9f3a"
             ],
             [
              0.8888888888888888,
              "#fdca26"
             ],
             [
              1,
              "#f0f921"
             ]
            ],
            "type": "histogram2dcontour"
           }
          ],
          "mesh3d": [
           {
            "colorbar": {
             "outlinewidth": 0,
             "ticks": ""
            },
            "type": "mesh3d"
           }
          ],
          "parcoords": [
           {
            "line": {
             "colorbar": {
              "outlinewidth": 0,
              "ticks": ""
             }
            },
            "type": "parcoords"
           }
          ],
          "pie": [
           {
            "automargin": true,
            "type": "pie"
           }
          ],
          "scatter": [
           {
            "marker": {
             "colorbar": {
              "outlinewidth": 0,
              "ticks": ""
             }
            },
            "type": "scatter"
           }
          ],
          "scatter3d": [
           {
            "line": {
             "colorbar": {
              "outlinewidth": 0,
              "ticks": ""
             }
            },
            "marker": {
             "colorbar": {
              "outlinewidth": 0,
              "ticks": ""
             }
            },
            "type": "scatter3d"
           }
          ],
          "scattercarpet": [
           {
            "marker": {
             "colorbar": {
              "outlinewidth": 0,
              "ticks": ""
             }
            },
            "type": "scattercarpet"
           }
          ],
          "scattergeo": [
           {
            "marker": {
             "colorbar": {
              "outlinewidth": 0,
              "ticks": ""
             }
            },
            "type": "scattergeo"
           }
          ],
          "scattergl": [
           {
            "marker": {
             "colorbar": {
              "outlinewidth": 0,
              "ticks": ""
             }
            },
            "type": "scattergl"
           }
          ],
          "scattermapbox": [
           {
            "marker": {
             "colorbar": {
              "outlinewidth": 0,
              "ticks": ""
             }
            },
            "type": "scattermapbox"
           }
          ],
          "scatterpolar": [
           {
            "marker": {
             "colorbar": {
              "outlinewidth": 0,
              "ticks": ""
             }
            },
            "type": "scatterpolar"
           }
          ],
          "scatterpolargl": [
           {
            "marker": {
             "colorbar": {
              "outlinewidth": 0,
              "ticks": ""
             }
            },
            "type": "scatterpolargl"
           }
          ],
          "scatterternary": [
           {
            "marker": {
             "colorbar": {
              "outlinewidth": 0,
              "ticks": ""
             }
            },
            "type": "scatterternary"
           }
          ],
          "surface": [
           {
            "colorbar": {
             "outlinewidth": 0,
             "ticks": ""
            },
            "colorscale": [
             [
              0,
              "#0d0887"
             ],
             [
              0.1111111111111111,
              "#46039f"
             ],
             [
              0.2222222222222222,
              "#7201a8"
             ],
             [
              0.3333333333333333,
              "#9c179e"
             ],
             [
              0.4444444444444444,
              "#bd3786"
             ],
             [
              0.5555555555555556,
              "#d8576b"
             ],
             [
              0.6666666666666666,
              "#ed7953"
             ],
             [
              0.7777777777777778,
              "#fb9f3a"
             ],
             [
              0.8888888888888888,
              "#fdca26"
             ],
             [
              1,
              "#f0f921"
             ]
            ],
            "type": "surface"
           }
          ],
          "table": [
           {
            "cells": {
             "fill": {
              "color": "#EBF0F8"
             },
             "line": {
              "color": "white"
             }
            },
            "header": {
             "fill": {
              "color": "#C8D4E3"
             },
             "line": {
              "color": "white"
             }
            },
            "type": "table"
           }
          ]
         },
         "layout": {
          "annotationdefaults": {
           "arrowcolor": "#2a3f5f",
           "arrowhead": 0,
           "arrowwidth": 1
          },
          "coloraxis": {
           "colorbar": {
            "outlinewidth": 0,
            "ticks": ""
           }
          },
          "colorscale": {
           "diverging": [
            [
             0,
             "#8e0152"
            ],
            [
             0.1,
             "#c51b7d"
            ],
            [
             0.2,
             "#de77ae"
            ],
            [
             0.3,
             "#f1b6da"
            ],
            [
             0.4,
             "#fde0ef"
            ],
            [
             0.5,
             "#f7f7f7"
            ],
            [
             0.6,
             "#e6f5d0"
            ],
            [
             0.7,
             "#b8e186"
            ],
            [
             0.8,
             "#7fbc41"
            ],
            [
             0.9,
             "#4d9221"
            ],
            [
             1,
             "#276419"
            ]
           ],
           "sequential": [
            [
             0,
             "#0d0887"
            ],
            [
             0.1111111111111111,
             "#46039f"
            ],
            [
             0.2222222222222222,
             "#7201a8"
            ],
            [
             0.3333333333333333,
             "#9c179e"
            ],
            [
             0.4444444444444444,
             "#bd3786"
            ],
            [
             0.5555555555555556,
             "#d8576b"
            ],
            [
             0.6666666666666666,
             "#ed7953"
            ],
            [
             0.7777777777777778,
             "#fb9f3a"
            ],
            [
             0.8888888888888888,
             "#fdca26"
            ],
            [
             1,
             "#f0f921"
            ]
           ],
           "sequentialminus": [
            [
             0,
             "#0d0887"
            ],
            [
             0.1111111111111111,
             "#46039f"
            ],
            [
             0.2222222222222222,
             "#7201a8"
            ],
            [
             0.3333333333333333,
             "#9c179e"
            ],
            [
             0.4444444444444444,
             "#bd3786"
            ],
            [
             0.5555555555555556,
             "#d8576b"
            ],
            [
             0.6666666666666666,
             "#ed7953"
            ],
            [
             0.7777777777777778,
             "#fb9f3a"
            ],
            [
             0.8888888888888888,
             "#fdca26"
            ],
            [
             1,
             "#f0f921"
            ]
           ]
          },
          "colorway": [
           "#636efa",
           "#EF553B",
           "#00cc96",
           "#ab63fa",
           "#FFA15A",
           "#19d3f3",
           "#FF6692",
           "#B6E880",
           "#FF97FF",
           "#FECB52"
          ],
          "font": {
           "color": "#2a3f5f"
          },
          "geo": {
           "bgcolor": "white",
           "lakecolor": "white",
           "landcolor": "#E5ECF6",
           "showlakes": true,
           "showland": true,
           "subunitcolor": "white"
          },
          "hoverlabel": {
           "align": "left"
          },
          "hovermode": "closest",
          "mapbox": {
           "style": "light"
          },
          "paper_bgcolor": "white",
          "plot_bgcolor": "#E5ECF6",
          "polar": {
           "angularaxis": {
            "gridcolor": "white",
            "linecolor": "white",
            "ticks": ""
           },
           "bgcolor": "#E5ECF6",
           "radialaxis": {
            "gridcolor": "white",
            "linecolor": "white",
            "ticks": ""
           }
          },
          "scene": {
           "xaxis": {
            "backgroundcolor": "#E5ECF6",
            "gridcolor": "white",
            "gridwidth": 2,
            "linecolor": "white",
            "showbackground": true,
            "ticks": "",
            "zerolinecolor": "white"
           },
           "yaxis": {
            "backgroundcolor": "#E5ECF6",
            "gridcolor": "white",
            "gridwidth": 2,
            "linecolor": "white",
            "showbackground": true,
            "ticks": "",
            "zerolinecolor": "white"
           },
           "zaxis": {
            "backgroundcolor": "#E5ECF6",
            "gridcolor": "white",
            "gridwidth": 2,
            "linecolor": "white",
            "showbackground": true,
            "ticks": "",
            "zerolinecolor": "white"
           }
          },
          "shapedefaults": {
           "line": {
            "color": "#2a3f5f"
           }
          },
          "ternary": {
           "aaxis": {
            "gridcolor": "white",
            "linecolor": "white",
            "ticks": ""
           },
           "baxis": {
            "gridcolor": "white",
            "linecolor": "white",
            "ticks": ""
           },
           "bgcolor": "#E5ECF6",
           "caxis": {
            "gridcolor": "white",
            "linecolor": "white",
            "ticks": ""
           }
          },
          "title": {
           "x": 0.05
          },
          "xaxis": {
           "automargin": true,
           "gridcolor": "white",
           "linecolor": "white",
           "ticks": "",
           "title": {
            "standoff": 15
           },
           "zerolinecolor": "white",
           "zerolinewidth": 2
          },
          "yaxis": {
           "automargin": true,
           "gridcolor": "white",
           "linecolor": "white",
           "ticks": "",
           "title": {
            "standoff": 15
           },
           "zerolinecolor": "white",
           "zerolinewidth": 2
          }
         }
        },
        "xaxis": {
         "anchor": "y",
         "domain": [
          0,
          1
         ],
         "title": {
          "text": "Title"
         }
        },
        "yaxis": {
         "anchor": "x",
         "domain": [
          0,
          1
         ],
         "title": {
          "text": "Salary"
         }
        }
       }
      },
      "text/html": [
       "<div>\n",
       "        \n",
       "        \n",
       "            <div id=\"5d0fef37-2b18-4bc6-b0e2-cebf9bd64af7\" class=\"plotly-graph-div\" style=\"height:525px; width:100%;\"></div>\n",
       "            <script type=\"text/javascript\">\n",
       "                require([\"plotly\"], function(Plotly) {\n",
       "                    window.PLOTLYENV=window.PLOTLYENV || {};\n",
       "                    \n",
       "                if (document.getElementById(\"5d0fef37-2b18-4bc6-b0e2-cebf9bd64af7\")) {\n",
       "                    Plotly.newPlot(\n",
       "                        '5d0fef37-2b18-4bc6-b0e2-cebf9bd64af7',\n",
       "                        [{\"alignmentgroup\": \"True\", \"hovertemplate\": \"Education=Master<br>Title=%{x}<br>Salary=%{y}<extra></extra>\", \"legendgroup\": \"Master\", \"marker\": {\"color\": \"#636efa\"}, \"name\": \"Master\", \"notched\": false, \"offsetgroup\": \"Master\", \"orientation\": \"v\", \"showlegend\": true, \"type\": \"box\", \"x\": [\"associate\", \"associate\", \"associate\", \"VP\", \"Analyst\", \"Analyst\", \"Analyst\", \"associate\", \"associate\", \"associate\", \"Analyst\", \"Analyst\", \"associate\", \"VP\", \"associate\", \"VP\", \"Analyst\", \"associate\", \"VP\", \"VP\", \"associate\", \"associate\", \"Analyst\", \"VP\", \"VP\", \"Analyst\", \"associate\", \"Analyst\", \"Analyst\", \"associate\", \"VP\", \"associate\", \"associate\", \"associate\", \"VP\", \"associate\", \"associate\", \"VP\", \"VP\", \"Analyst\", \"Analyst\", \"Analyst\", \"associate\", \"Analyst\", \"associate\", \"associate\", \"Analyst\", \"VP\", \"associate\", \"VP\", \"associate\", \"Analyst\", \"associate\", \"VP\", \"Analyst\", \"VP\", \"VP\", \"VP\", \"VP\", \"associate\", \"Analyst\", \"Analyst\", \"Analyst\", \"associate\", \"VP\", \"VP\", \"VP\", \"VP\", \"Analyst\", \"Analyst\", \"VP\", \"Analyst\", \"VP\", \"VP\", \"VP\", \"Analyst\", \"associate\", \"VP\", \"associate\", \"VP\", \"Analyst\", \"VP\", \"Analyst\", \"Analyst\", \"associate\", \"VP\", \"Analyst\", \"associate\", \"VP\", \"VP\", \"Analyst\", \"Analyst\", \"Analyst\", \"VP\", \"VP\", \"associate\", \"associate\", \"associate\", \"VP\", \"VP\", \"associate\", \"VP\", \"associate\", \"Analyst\", \"VP\", \"VP\", \"associate\", \"associate\", \"Analyst\", \"VP\", \"VP\", \"VP\", \"Analyst\", \"Analyst\", \"associate\", \"Analyst\", \"associate\", \"Analyst\", \"Analyst\", \"Analyst\", \"associate\", \"associate\", \"Analyst\", \"Analyst\", \"VP\", \"VP\", \"VP\", \"Analyst\", \"Analyst\", \"Analyst\", \"Analyst\", \"VP\", \"Analyst\", \"VP\", \"Analyst\", \"Analyst\", \"Analyst\", \"VP\", \"Analyst\", \"Analyst\", \"VP\", \"VP\", \"associate\", \"Analyst\", \"VP\", \"Analyst\", \"associate\", \"associate\", \"VP\", \"associate\", \"associate\", \"VP\", \"associate\", \"associate\", \"Analyst\", \"Analyst\", \"VP\", \"associate\", \"VP\", \"associate\", \"associate\", \"associate\", \"VP\", \"VP\", \"associate\", \"Analyst\", \"Analyst\", \"associate\", \"VP\", \"VP\", \"VP\", \"Analyst\", \"Analyst\", \"Analyst\"], \"x0\": \" \", \"xaxis\": \"x\", \"y\": [58, 45, 52, 33, 38, 71, 33, 53, 104, 114, 102, 56, 52, 60, 96, 114, 71, 69, 85, 51, 109, 32, 119, 111, 120, 42, 45, 113, 75, 117, 105, 70, 87, 66, 61, 59, 35, 49, 72, 36, 105, 81, 57, 51, 78, 101, 37, 61, 53, 34, 96, 51, 88, 35, 71, 34, 105, 89, 49, 43, 33, 41, 68, 100, 106, 78, 92, 32, 34, 102, 35, 71, 30, 84, 39, 46, 33, 53, 36, 98, 95, 74, 64, 44, 97, 53, 61, 116, 93, 51, 109, 94, 47, 95, 94, 117, 91, 94, 59, 75, 47, 57, 103, 101, 78, 56, 48, 32, 46, 72, 50, 119, 31, 109, 43, 68, 46, 53, 116, 50, 120, 45, 51, 102, 49, 106, 86, 41, 112, 106, 90, 52, 64, 88, 47, 70, 40, 88, 57, 84, 86, 72, 38, 116, 33, 83, 53, 62, 51, 79, 100, 88, 35, 111, 56, 119, 117, 96, 118, 112, 107, 79, 59, 54, 47, 48, 100, 110, 67, 58, 32, 47, 67, 48], \"y0\": \" \", \"yaxis\": \"y\"}, {\"alignmentgroup\": \"True\", \"hovertemplate\": \"Education=PhD<br>Title=%{x}<br>Salary=%{y}<extra></extra>\", \"legendgroup\": \"PhD\", \"marker\": {\"color\": \"#EF553B\"}, \"name\": \"PhD\", \"notched\": false, \"offsetgroup\": \"PhD\", \"orientation\": \"v\", \"showlegend\": true, \"type\": \"box\", \"x\": [\"associate\", \"Analyst\", \"associate\", \"VP\", \"associate\", \"associate\", \"Analyst\", \"VP\", \"VP\", \"Analyst\", \"VP\", \"associate\", \"Analyst\", \"associate\", \"VP\", \"associate\", \"associate\", \"VP\", \"associate\", \"associate\", \"Analyst\", \"VP\", \"associate\", \"VP\", \"Analyst\", \"VP\", \"Analyst\", \"Analyst\", \"associate\", \"Analyst\", \"VP\", \"VP\", \"VP\", \"Analyst\", \"Analyst\", \"VP\", \"associate\", \"associate\", \"VP\", \"associate\", \"associate\", \"VP\", \"associate\", \"Analyst\", \"associate\", \"VP\", \"Analyst\", \"Analyst\", \"Analyst\", \"VP\", \"Analyst\", \"associate\", \"associate\", \"Analyst\", \"Analyst\", \"Analyst\", \"Analyst\", \"Analyst\", \"associate\", \"associate\", \"VP\", \"associate\", \"associate\", \"VP\", \"associate\", \"associate\", \"VP\", \"associate\", \"Analyst\", \"VP\", \"VP\", \"associate\", \"Analyst\", \"Analyst\", \"associate\", \"associate\", \"associate\", \"associate\", \"associate\", \"Analyst\", \"VP\", \"associate\", \"Analyst\", \"VP\", \"Analyst\", \"VP\", \"VP\", \"associate\", \"associate\", \"VP\", \"Analyst\", \"associate\", \"VP\", \"VP\", \"Analyst\", \"Analyst\", \"VP\", \"associate\", \"VP\", \"VP\", \"Analyst\", \"associate\", \"associate\", \"Analyst\", \"Analyst\", \"VP\", \"Analyst\", \"VP\", \"VP\", \"associate\", \"associate\", \"Analyst\", \"Analyst\", \"Analyst\", \"VP\", \"associate\", \"associate\", \"VP\", \"Analyst\", \"Analyst\", \"Analyst\", \"associate\", \"VP\", \"Analyst\", \"VP\", \"VP\", \"Analyst\", \"Analyst\", \"associate\", \"VP\", \"associate\", \"associate\", \"VP\", \"Analyst\", \"Analyst\", \"associate\", \"associate\", \"associate\", \"Analyst\", \"VP\", \"Analyst\", \"Analyst\", \"VP\", \"Analyst\", \"Analyst\", \"VP\", \"VP\", \"VP\", \"VP\", \"associate\", \"associate\", \"associate\", \"Analyst\", \"VP\", \"Analyst\", \"Analyst\", \"associate\", \"associate\", \"Analyst\", \"associate\", \"VP\", \"VP\", \"Analyst\"], \"x0\": \" \", \"xaxis\": \"x\", \"y\": [50, 85, 44, 111, 71, 94, 85, 50, 97, 61, 104, 76, 87, 91, 80, 33, 97, 92, 75, 95, 111, 61, 70, 93, 118, 69, 74, 40, 47, 68, 72, 33, 51, 55, 32, 113, 99, 94, 30, 78, 69, 101, 99, 30, 120, 74, 65, 70, 47, 66, 68, 89, 38, 109, 79, 47, 74, 92, 73, 87, 43, 108, 50, 95, 50, 79, 70, 73, 38, 41, 106, 64, 110, 93, 57, 73, 118, 109, 31, 96, 35, 48, 95, 69, 49, 77, 63, 30, 72, 71, 108, 50, 54, 45, 69, 96, 104, 112, 56, 63, 58, 113, 62, 72, 105, 38, 68, 80, 72, 94, 35, 84, 48, 108, 60, 114, 96, 91, 75, 93, 57, 45, 81, 31, 114, 52, 72, 70, 46, 58, 38, 54, 54, 79, 113, 43, 119, 40, 59, 61, 43, 120, 88, 49, 71, 67, 42, 45, 75, 49, 31, 67, 119, 61, 115, 44, 93, 113, 99, 37, 119, 93, 108], \"y0\": \" \", \"yaxis\": \"y\"}, {\"alignmentgroup\": \"True\", \"hovertemplate\": \"Education=Bachelor<br>Title=%{x}<br>Salary=%{y}<extra></extra>\", \"legendgroup\": \"Bachelor\", \"marker\": {\"color\": \"#00cc96\"}, \"name\": \"Bachelor\", \"notched\": false, \"offsetgroup\": \"Bachelor\", \"orientation\": \"v\", \"showlegend\": true, \"type\": \"box\", \"x\": [\"associate\", \"VP\", \"Analyst\", \"associate\", \"associate\", \"VP\", \"Analyst\", \"VP\", \"associate\", \"Analyst\", \"VP\", \"Analyst\", \"VP\", \"Analyst\", \"VP\", \"associate\", \"associate\", \"VP\", \"Analyst\", \"VP\", \"VP\", \"Analyst\", \"associate\", \"Analyst\", \"VP\", \"VP\", \"Analyst\", \"Analyst\", \"Analyst\", \"associate\", \"associate\", \"associate\", \"Analyst\", \"associate\", \"VP\", \"VP\", \"VP\", \"associate\", \"Analyst\", \"associate\", \"VP\", \"associate\", \"Analyst\", \"Analyst\", \"Analyst\", \"Analyst\", \"VP\", \"Analyst\", \"VP\", \"Analyst\", \"Analyst\", \"VP\", \"associate\", \"associate\", \"VP\", \"VP\", \"associate\", \"VP\", \"VP\", \"Analyst\", \"VP\", \"VP\", \"VP\", \"VP\", \"Analyst\", \"associate\", \"Analyst\", \"associate\", \"VP\", \"VP\", \"VP\", \"Analyst\", \"Analyst\", \"Analyst\", \"VP\", \"VP\", \"Analyst\", \"Analyst\", \"associate\", \"associate\", \"VP\", \"associate\", \"associate\", \"Analyst\", \"Analyst\", \"associate\", \"Analyst\", \"Analyst\", \"associate\", \"Analyst\", \"associate\", \"VP\", \"VP\", \"Analyst\", \"Analyst\", \"Analyst\", \"VP\", \"Analyst\", \"associate\", \"VP\", \"associate\", \"Analyst\", \"VP\", \"Analyst\", \"associate\", \"Analyst\", \"associate\", \"Analyst\", \"VP\", \"Analyst\", \"VP\", \"associate\", \"Analyst\", \"associate\", \"VP\", \"Analyst\", \"associate\", \"VP\", \"associate\", \"associate\", \"associate\", \"Analyst\", \"Analyst\", \"Analyst\", \"VP\", \"Analyst\", \"Analyst\", \"Analyst\", \"associate\", \"Analyst\", \"associate\", \"associate\", \"associate\", \"Analyst\", \"Analyst\", \"associate\", \"Analyst\", \"Analyst\", \"VP\", \"Analyst\", \"Analyst\", \"Analyst\", \"associate\", \"associate\", \"Analyst\", \"VP\", \"VP\", \"VP\", \"Analyst\", \"VP\", \"VP\", \"associate\", \"VP\", \"associate\", \"Analyst\", \"VP\", \"VP\", \"Analyst\", \"VP\", \"Analyst\", \"associate\", \"Analyst\", \"associate\"], \"x0\": \" \", \"xaxis\": \"x\", \"y\": [46, 102, 51, 99, 79, 37, 82, 44, 87, 30, 38, 64, 103, 101, 38, 53, 98, 31, 82, 90, 107, 98, 59, 85, 68, 84, 33, 97, 55, 62, 117, 94, 42, 57, 115, 114, 71, 109, 78, 30, 96, 114, 106, 111, 75, 88, 31, 50, 81, 111, 108, 65, 98, 67, 116, 110, 48, 86, 101, 36, 120, 118, 58, 101, 79, 82, 43, 41, 94, 41, 100, 71, 58, 83, 75, 61, 41, 81, 117, 74, 77, 33, 38, 114, 66, 37, 110, 39, 86, 32, 92, 70, 56, 102, 99, 114, 56, 42, 83, 68, 66, 120, 46, 110, 79, 76, 81, 56, 70, 54, 108, 79, 63, 49, 37, 50, 96, 86, 115, 111, 119, 42, 36, 87, 105, 107, 45, 115, 83, 100, 59, 82, 49, 43, 86, 107, 58, 97, 103, 53, 40, 72, 45, 118, 100, 90, 81, 78, 30, 41, 32, 34, 32, 61, 117, 66, 107, 96, 94, 84, 58, 105, 118], \"y0\": \" \", \"yaxis\": \"y\"}],\n",
       "                        {\"boxmode\": \"group\", \"legend\": {\"title\": {\"text\": \"Education\"}, \"tracegroupgap\": 0}, \"margin\": {\"t\": 60}, \"template\": {\"data\": {\"bar\": [{\"error_x\": {\"color\": \"#2a3f5f\"}, \"error_y\": {\"color\": \"#2a3f5f\"}, \"marker\": {\"line\": {\"color\": \"#E5ECF6\", \"width\": 0.5}}, \"type\": \"bar\"}], \"barpolar\": [{\"marker\": {\"line\": {\"color\": \"#E5ECF6\", \"width\": 0.5}}, \"type\": \"barpolar\"}], \"carpet\": [{\"aaxis\": {\"endlinecolor\": \"#2a3f5f\", \"gridcolor\": \"white\", \"linecolor\": \"white\", \"minorgridcolor\": \"white\", \"startlinecolor\": \"#2a3f5f\"}, \"baxis\": {\"endlinecolor\": \"#2a3f5f\", \"gridcolor\": \"white\", \"linecolor\": \"white\", \"minorgridcolor\": \"white\", \"startlinecolor\": \"#2a3f5f\"}, \"type\": \"carpet\"}], \"choropleth\": [{\"colorbar\": {\"outlinewidth\": 0, \"ticks\": \"\"}, \"type\": \"choropleth\"}], \"contour\": [{\"colorbar\": {\"outlinewidth\": 0, \"ticks\": \"\"}, \"colorscale\": [[0.0, \"#0d0887\"], [0.1111111111111111, \"#46039f\"], [0.2222222222222222, \"#7201a8\"], [0.3333333333333333, \"#9c179e\"], [0.4444444444444444, \"#bd3786\"], [0.5555555555555556, \"#d8576b\"], [0.6666666666666666, \"#ed7953\"], [0.7777777777777778, \"#fb9f3a\"], [0.8888888888888888, \"#fdca26\"], [1.0, \"#f0f921\"]], \"type\": \"contour\"}], \"contourcarpet\": [{\"colorbar\": {\"outlinewidth\": 0, \"ticks\": \"\"}, \"type\": \"contourcarpet\"}], \"heatmap\": [{\"colorbar\": {\"outlinewidth\": 0, \"ticks\": \"\"}, \"colorscale\": [[0.0, \"#0d0887\"], [0.1111111111111111, \"#46039f\"], [0.2222222222222222, \"#7201a8\"], [0.3333333333333333, \"#9c179e\"], [0.4444444444444444, \"#bd3786\"], [0.5555555555555556, \"#d8576b\"], [0.6666666666666666, \"#ed7953\"], [0.7777777777777778, \"#fb9f3a\"], [0.8888888888888888, \"#fdca26\"], [1.0, \"#f0f921\"]], \"type\": \"heatmap\"}], \"heatmapgl\": [{\"colorbar\": {\"outlinewidth\": 0, \"ticks\": \"\"}, \"colorscale\": [[0.0, \"#0d0887\"], [0.1111111111111111, \"#46039f\"], [0.2222222222222222, \"#7201a8\"], [0.3333333333333333, \"#9c179e\"], [0.4444444444444444, \"#bd3786\"], [0.5555555555555556, \"#d8576b\"], [0.6666666666666666, \"#ed7953\"], [0.7777777777777778, \"#fb9f3a\"], [0.8888888888888888, \"#fdca26\"], [1.0, \"#f0f921\"]], \"type\": \"heatmapgl\"}], \"histogram\": [{\"marker\": {\"colorbar\": {\"outlinewidth\": 0, \"ticks\": \"\"}}, \"type\": \"histogram\"}], \"histogram2d\": [{\"colorbar\": {\"outlinewidth\": 0, \"ticks\": \"\"}, \"colorscale\": [[0.0, \"#0d0887\"], [0.1111111111111111, \"#46039f\"], [0.2222222222222222, \"#7201a8\"], [0.3333333333333333, \"#9c179e\"], [0.4444444444444444, \"#bd3786\"], [0.5555555555555556, \"#d8576b\"], [0.6666666666666666, \"#ed7953\"], [0.7777777777777778, \"#fb9f3a\"], [0.8888888888888888, \"#fdca26\"], [1.0, \"#f0f921\"]], \"type\": \"histogram2d\"}], \"histogram2dcontour\": [{\"colorbar\": {\"outlinewidth\": 0, \"ticks\": \"\"}, \"colorscale\": [[0.0, \"#0d0887\"], [0.1111111111111111, \"#46039f\"], [0.2222222222222222, \"#7201a8\"], [0.3333333333333333, \"#9c179e\"], [0.4444444444444444, \"#bd3786\"], [0.5555555555555556, \"#d8576b\"], [0.6666666666666666, \"#ed7953\"], [0.7777777777777778, \"#fb9f3a\"], [0.8888888888888888, \"#fdca26\"], [1.0, \"#f0f921\"]], \"type\": \"histogram2dcontour\"}], \"mesh3d\": [{\"colorbar\": {\"outlinewidth\": 0, \"ticks\": \"\"}, \"type\": \"mesh3d\"}], \"parcoords\": [{\"line\": {\"colorbar\": {\"outlinewidth\": 0, \"ticks\": \"\"}}, \"type\": \"parcoords\"}], \"pie\": [{\"automargin\": true, \"type\": \"pie\"}], \"scatter\": [{\"marker\": {\"colorbar\": {\"outlinewidth\": 0, \"ticks\": \"\"}}, \"type\": \"scatter\"}], \"scatter3d\": [{\"line\": {\"colorbar\": {\"outlinewidth\": 0, \"ticks\": \"\"}}, \"marker\": {\"colorbar\": {\"outlinewidth\": 0, \"ticks\": \"\"}}, \"type\": \"scatter3d\"}], \"scattercarpet\": [{\"marker\": {\"colorbar\": {\"outlinewidth\": 0, \"ticks\": \"\"}}, \"type\": \"scattercarpet\"}], \"scattergeo\": [{\"marker\": {\"colorbar\": {\"outlinewidth\": 0, \"ticks\": \"\"}}, \"type\": \"scattergeo\"}], \"scattergl\": [{\"marker\": {\"colorbar\": {\"outlinewidth\": 0, \"ticks\": \"\"}}, \"type\": \"scattergl\"}], \"scattermapbox\": [{\"marker\": {\"colorbar\": {\"outlinewidth\": 0, \"ticks\": \"\"}}, \"type\": \"scattermapbox\"}], \"scatterpolar\": [{\"marker\": {\"colorbar\": {\"outlinewidth\": 0, \"ticks\": \"\"}}, \"type\": \"scatterpolar\"}], \"scatterpolargl\": [{\"marker\": {\"colorbar\": {\"outlinewidth\": 0, \"ticks\": \"\"}}, \"type\": \"scatterpolargl\"}], \"scatterternary\": [{\"marker\": {\"colorbar\": {\"outlinewidth\": 0, \"ticks\": \"\"}}, \"type\": \"scatterternary\"}], \"surface\": [{\"colorbar\": {\"outlinewidth\": 0, \"ticks\": \"\"}, \"colorscale\": [[0.0, \"#0d0887\"], [0.1111111111111111, \"#46039f\"], [0.2222222222222222, \"#7201a8\"], [0.3333333333333333, \"#9c179e\"], [0.4444444444444444, \"#bd3786\"], [0.5555555555555556, \"#d8576b\"], [0.6666666666666666, \"#ed7953\"], [0.7777777777777778, \"#fb9f3a\"], [0.8888888888888888, \"#fdca26\"], [1.0, \"#f0f921\"]], \"type\": \"surface\"}], \"table\": [{\"cells\": {\"fill\": {\"color\": \"#EBF0F8\"}, \"line\": {\"color\": \"white\"}}, \"header\": {\"fill\": {\"color\": \"#C8D4E3\"}, \"line\": {\"color\": \"white\"}}, \"type\": \"table\"}]}, \"layout\": {\"annotationdefaults\": {\"arrowcolor\": \"#2a3f5f\", \"arrowhead\": 0, \"arrowwidth\": 1}, \"coloraxis\": {\"colorbar\": {\"outlinewidth\": 0, \"ticks\": \"\"}}, \"colorscale\": {\"diverging\": [[0, \"#8e0152\"], [0.1, \"#c51b7d\"], [0.2, \"#de77ae\"], [0.3, \"#f1b6da\"], [0.4, \"#fde0ef\"], [0.5, \"#f7f7f7\"], [0.6, \"#e6f5d0\"], [0.7, \"#b8e186\"], [0.8, \"#7fbc41\"], [0.9, \"#4d9221\"], [1, \"#276419\"]], \"sequential\": [[0.0, \"#0d0887\"], [0.1111111111111111, \"#46039f\"], [0.2222222222222222, \"#7201a8\"], [0.3333333333333333, \"#9c179e\"], [0.4444444444444444, \"#bd3786\"], [0.5555555555555556, \"#d8576b\"], [0.6666666666666666, \"#ed7953\"], [0.7777777777777778, \"#fb9f3a\"], [0.8888888888888888, \"#fdca26\"], [1.0, \"#f0f921\"]], \"sequentialminus\": [[0.0, \"#0d0887\"], [0.1111111111111111, \"#46039f\"], [0.2222222222222222, \"#7201a8\"], [0.3333333333333333, \"#9c179e\"], [0.4444444444444444, \"#bd3786\"], [0.5555555555555556, \"#d8576b\"], [0.6666666666666666, \"#ed7953\"], [0.7777777777777778, \"#fb9f3a\"], [0.8888888888888888, \"#fdca26\"], [1.0, \"#f0f921\"]]}, \"colorway\": [\"#636efa\", \"#EF553B\", \"#00cc96\", \"#ab63fa\", \"#FFA15A\", \"#19d3f3\", \"#FF6692\", \"#B6E880\", \"#FF97FF\", \"#FECB52\"], \"font\": {\"color\": \"#2a3f5f\"}, \"geo\": {\"bgcolor\": \"white\", \"lakecolor\": \"white\", \"landcolor\": \"#E5ECF6\", \"showlakes\": true, \"showland\": true, \"subunitcolor\": \"white\"}, \"hoverlabel\": {\"align\": \"left\"}, \"hovermode\": \"closest\", \"mapbox\": {\"style\": \"light\"}, \"paper_bgcolor\": \"white\", \"plot_bgcolor\": \"#E5ECF6\", \"polar\": {\"angularaxis\": {\"gridcolor\": \"white\", \"linecolor\": \"white\", \"ticks\": \"\"}, \"bgcolor\": \"#E5ECF6\", \"radialaxis\": {\"gridcolor\": \"white\", \"linecolor\": \"white\", \"ticks\": \"\"}}, \"scene\": {\"xaxis\": {\"backgroundcolor\": \"#E5ECF6\", \"gridcolor\": \"white\", \"gridwidth\": 2, \"linecolor\": \"white\", \"showbackground\": true, \"ticks\": \"\", \"zerolinecolor\": \"white\"}, \"yaxis\": {\"backgroundcolor\": \"#E5ECF6\", \"gridcolor\": \"white\", \"gridwidth\": 2, \"linecolor\": \"white\", \"showbackground\": true, \"ticks\": \"\", \"zerolinecolor\": \"white\"}, \"zaxis\": {\"backgroundcolor\": \"#E5ECF6\", \"gridcolor\": \"white\", \"gridwidth\": 2, \"linecolor\": \"white\", \"showbackground\": true, \"ticks\": \"\", \"zerolinecolor\": \"white\"}}, \"shapedefaults\": {\"line\": {\"color\": \"#2a3f5f\"}}, \"ternary\": {\"aaxis\": {\"gridcolor\": \"white\", \"linecolor\": \"white\", \"ticks\": \"\"}, \"baxis\": {\"gridcolor\": \"white\", \"linecolor\": \"white\", \"ticks\": \"\"}, \"bgcolor\": \"#E5ECF6\", \"caxis\": {\"gridcolor\": \"white\", \"linecolor\": \"white\", \"ticks\": \"\"}}, \"title\": {\"x\": 0.05}, \"xaxis\": {\"automargin\": true, \"gridcolor\": \"white\", \"linecolor\": \"white\", \"ticks\": \"\", \"title\": {\"standoff\": 15}, \"zerolinecolor\": \"white\", \"zerolinewidth\": 2}, \"yaxis\": {\"automargin\": true, \"gridcolor\": \"white\", \"linecolor\": \"white\", \"ticks\": \"\", \"title\": {\"standoff\": 15}, \"zerolinecolor\": \"white\", \"zerolinewidth\": 2}}}, \"xaxis\": {\"anchor\": \"y\", \"domain\": [0.0, 1.0], \"title\": {\"text\": \"Title\"}}, \"yaxis\": {\"anchor\": \"x\", \"domain\": [0.0, 1.0], \"title\": {\"text\": \"Salary\"}}},\n",
       "                        {\"responsive\": true}\n",
       "                    ).then(function(){\n",
       "                            \n",
       "var gd = document.getElementById('5d0fef37-2b18-4bc6-b0e2-cebf9bd64af7');\n",
       "var x = new MutationObserver(function (mutations, observer) {{\n",
       "        var display = window.getComputedStyle(gd).display;\n",
       "        if (!display || display === 'none') {{\n",
       "            console.log([gd, 'removed!']);\n",
       "            Plotly.purge(gd);\n",
       "            observer.disconnect();\n",
       "        }}\n",
       "}});\n",
       "\n",
       "// Listen for the removal of the full notebook cells\n",
       "var notebookContainer = gd.closest('#notebook-container');\n",
       "if (notebookContainer) {{\n",
       "    x.observe(notebookContainer, {childList: true});\n",
       "}}\n",
       "\n",
       "// Listen for the clearing of the current output cell\n",
       "var outputEl = gd.closest('.output');\n",
       "if (outputEl) {{\n",
       "    x.observe(outputEl, {childList: true});\n",
       "}}\n",
       "\n",
       "                        })\n",
       "                };\n",
       "                });\n",
       "            </script>\n",
       "        </div>"
      ]
     },
     "metadata": {},
     "output_type": "display_data"
    }
   ],
   "source": [
    "'''\n",
    "It shows that most employees with PhD don't earn more than Masters and Bachelors \n",
    "'''\n",
    "\n",
    "px.box(employees,x='Title',y='Salary',color='Education')\n",
    "\n"
   ]
  },
  {
   "cell_type": "markdown",
   "metadata": {},
   "source": [
    "## 3个因素的互相比较， education, department, salary"
   ]
  },
  {
   "cell_type": "code",
   "execution_count": 129,
   "metadata": {},
   "outputs": [
    {
     "data": {
      "image/png": "[encoded data removed]",
      "text/plain": [
       "<Figure size 432x288 with 1 Axes>"
      ]
     },
     "metadata": {
      "needs_background": "light"
     },
     "output_type": "display_data"
    }
   ],
   "source": [
    "# department and average salary\n",
    "\n",
    "# employees.groupby('Department', as_index=False)['Salary'].mean().plot.bar()\n",
    "\n",
    "dep=sns.barplot(x='Department',y='Salary',hue='Education',data=employees)\n",
    "# Dep.hist()"
   ]
  },
  {
   "cell_type": "markdown",
   "metadata": {},
   "source": [
    "#### What's the average salary in this company?"
   ]
  },
  {
   "cell_type": "code",
   "execution_count": 116,
   "metadata": {},
   "outputs": [
    {
     "data": {
      "text/plain": [
       "73.528"
      ]
     },
     "execution_count": 116,
     "metadata": {},
     "output_type": "execute_result"
    }
   ],
   "source": [
    "employees['Salary'].mean()"
   ]
  },
  {
   "cell_type": "markdown",
   "metadata": {},
   "source": [
    "#### What's the highest salary?"
   ]
  },
  {
   "cell_type": "code",
   "execution_count": 67,
   "metadata": {},
   "outputs": [
    {
     "data": {
      "text/plain": [
       "120"
      ]
     },
     "execution_count": 67,
     "metadata": {},
     "output_type": "execute_result"
    }
   ],
   "source": [
    "employees['Salary'].max()"
   ]
  },
  {
   "cell_type": "markdown",
   "metadata": {},
   "source": [
    "#### What's the lowest salary?"
   ]
  },
  {
   "cell_type": "code",
   "execution_count": 68,
   "metadata": {},
   "outputs": [
    {
     "data": {
      "text/plain": [
       "30"
      ]
     },
     "execution_count": 68,
     "metadata": {},
     "output_type": "execute_result"
    }
   ],
   "source": [
    "employees['Salary'].min()"
   ]
  },
  {
   "cell_type": "markdown",
   "metadata": {},
   "source": [
    "#### Who are the employees with the lowest salary?"
   ]
  },
  {
   "cell_type": "code",
   "execution_count": 74,
   "metadata": {},
   "outputs": [
    {
     "data": {
      "text/html": [
       "<div>\n",
       "<style scoped>\n",
       "    .dataframe tbody tr th:only-of-type {\n",
       "        vertical-align: middle;\n",
       "    }\n",
       "\n",
       "    .dataframe tbody tr th {\n",
       "        vertical-align: top;\n",
       "    }\n",
       "\n",
       "    .dataframe thead th {\n",
       "        text-align: right;\n",
       "    }\n",
       "</style>\n",
       "<table border=\"1\" class=\"dataframe\">\n",
       "  <thead>\n",
       "    <tr style=\"text-align: right;\">\n",
       "      <th></th>\n",
       "      <th>Department</th>\n",
       "      <th>Education</th>\n",
       "      <th>Title</th>\n",
       "      <th>Name</th>\n",
       "      <th>Years</th>\n",
       "      <th>Salary</th>\n",
       "    </tr>\n",
       "  </thead>\n",
       "  <tbody>\n",
       "    <tr>\n",
       "      <th>27</th>\n",
       "      <td>IT</td>\n",
       "      <td>Bachelor</td>\n",
       "      <td>Analyst</td>\n",
       "      <td>Sean</td>\n",
       "      <td>12</td>\n",
       "      <td>30</td>\n",
       "    </tr>\n",
       "    <tr>\n",
       "      <th>106</th>\n",
       "      <td>Admin</td>\n",
       "      <td>Bachelor</td>\n",
       "      <td>associate</td>\n",
       "      <td>Luke</td>\n",
       "      <td>4</td>\n",
       "      <td>30</td>\n",
       "    </tr>\n",
       "    <tr>\n",
       "      <th>128</th>\n",
       "      <td>Sales</td>\n",
       "      <td>PhD</td>\n",
       "      <td>VP</td>\n",
       "      <td>Adam</td>\n",
       "      <td>8</td>\n",
       "      <td>30</td>\n",
       "    </tr>\n",
       "    <tr>\n",
       "      <th>139</th>\n",
       "      <td>Sales</td>\n",
       "      <td>PhD</td>\n",
       "      <td>Analyst</td>\n",
       "      <td>Rick</td>\n",
       "      <td>11</td>\n",
       "      <td>30</td>\n",
       "    </tr>\n",
       "    <tr>\n",
       "      <th>214</th>\n",
       "      <td>Sales</td>\n",
       "      <td>Master</td>\n",
       "      <td>VP</td>\n",
       "      <td>Neil</td>\n",
       "      <td>11</td>\n",
       "      <td>30</td>\n",
       "    </tr>\n",
       "    <tr>\n",
       "      <th>266</th>\n",
       "      <td>HR</td>\n",
       "      <td>PhD</td>\n",
       "      <td>associate</td>\n",
       "      <td>Marcel</td>\n",
       "      <td>10</td>\n",
       "      <td>30</td>\n",
       "    </tr>\n",
       "    <tr>\n",
       "      <th>452</th>\n",
       "      <td>IT</td>\n",
       "      <td>Bachelor</td>\n",
       "      <td>Analyst</td>\n",
       "      <td>Augustin</td>\n",
       "      <td>13</td>\n",
       "      <td>30</td>\n",
       "    </tr>\n",
       "    <tr>\n",
       "      <th>47</th>\n",
       "      <td>Admin</td>\n",
       "      <td>Bachelor</td>\n",
       "      <td>VP</td>\n",
       "      <td>Melissa</td>\n",
       "      <td>8</td>\n",
       "      <td>31</td>\n",
       "    </tr>\n",
       "    <tr>\n",
       "      <th>124</th>\n",
       "      <td>IT</td>\n",
       "      <td>Bachelor</td>\n",
       "      <td>VP</td>\n",
       "      <td>David</td>\n",
       "      <td>3</td>\n",
       "      <td>31</td>\n",
       "    </tr>\n",
       "    <tr>\n",
       "      <th>243</th>\n",
       "      <td>HR</td>\n",
       "      <td>PhD</td>\n",
       "      <td>associate</td>\n",
       "      <td>Chad</td>\n",
       "      <td>5</td>\n",
       "      <td>31</td>\n",
       "    </tr>\n",
       "  </tbody>\n",
       "</table>\n",
       "</div>"
      ],
      "text/plain": [
       "    Department Education      Title      Name  Years  Salary\n",
       "27          IT  Bachelor    Analyst      Sean     12      30\n",
       "106      Admin  Bachelor  associate      Luke      4      30\n",
       "128      Sales       PhD         VP      Adam      8      30\n",
       "139      Sales       PhD    Analyst      Rick     11      30\n",
       "214      Sales    Master         VP      Neil     11      30\n",
       "266         HR       PhD  associate    Marcel     10      30\n",
       "452         IT  Bachelor    Analyst  Augustin     13      30\n",
       "47       Admin  Bachelor         VP   Melissa      8      31\n",
       "124         IT  Bachelor         VP     David      3      31\n",
       "243         HR       PhD  associate      Chad      5      31"
      ]
     },
     "execution_count": 74,
     "metadata": {},
     "output_type": "execute_result"
    }
   ],
   "source": [
    "employees.nsmallest(10, 'Salary')   #  persons with the lowest sarlies"
   ]
  },
  {
   "cell_type": "markdown",
   "metadata": {},
   "source": [
    "#### Find all the information about an employee called David."
   ]
  },
  {
   "cell_type": "code",
   "execution_count": 81,
   "metadata": {},
   "outputs": [
    {
     "data": {
      "text/html": [
       "<div>\n",
       "<style scoped>\n",
       "    .dataframe tbody tr th:only-of-type {\n",
       "        vertical-align: middle;\n",
       "    }\n",
       "\n",
       "    .dataframe tbody tr th {\n",
       "        vertical-align: top;\n",
       "    }\n",
       "\n",
       "    .dataframe thead th {\n",
       "        text-align: right;\n",
       "    }\n",
       "</style>\n",
       "<table border=\"1\" class=\"dataframe\">\n",
       "  <thead>\n",
       "    <tr style=\"text-align: right;\">\n",
       "      <th></th>\n",
       "      <th>Department</th>\n",
       "      <th>Education</th>\n",
       "      <th>Title</th>\n",
       "      <th>Name</th>\n",
       "      <th>Years</th>\n",
       "      <th>Salary</th>\n",
       "    </tr>\n",
       "  </thead>\n",
       "  <tbody>\n",
       "    <tr>\n",
       "      <th>0</th>\n",
       "      <td>Admin</td>\n",
       "      <td>Master</td>\n",
       "      <td>associate</td>\n",
       "      <td>David</td>\n",
       "      <td>4</td>\n",
       "      <td>58</td>\n",
       "    </tr>\n",
       "    <tr>\n",
       "      <th>124</th>\n",
       "      <td>IT</td>\n",
       "      <td>Bachelor</td>\n",
       "      <td>VP</td>\n",
       "      <td>David</td>\n",
       "      <td>3</td>\n",
       "      <td>31</td>\n",
       "    </tr>\n",
       "  </tbody>\n",
       "</table>\n",
       "</div>"
      ],
      "text/plain": [
       "    Department Education      Title   Name  Years  Salary\n",
       "0        Admin    Master  associate  David      4      58\n",
       "124         IT  Bachelor         VP  David      3      31"
      ]
     },
     "execution_count": 81,
     "metadata": {},
     "output_type": "execute_result"
    }
   ],
   "source": [
    "D=employees[employees['Name']=='David']\n",
    "D"
   ]
  },
  {
   "cell_type": "markdown",
   "metadata": {},
   "source": [
    "#### Could you return only David's salary?"
   ]
  },
  {
   "cell_type": "code",
   "execution_count": 94,
   "metadata": {},
   "outputs": [
    {
     "data": {
      "text/html": [
       "<div>\n",
       "<style scoped>\n",
       "    .dataframe tbody tr th:only-of-type {\n",
       "        vertical-align: middle;\n",
       "    }\n",
       "\n",
       "    .dataframe tbody tr th {\n",
       "        vertical-align: top;\n",
       "    }\n",
       "\n",
       "    .dataframe thead th {\n",
       "        text-align: right;\n",
       "    }\n",
       "</style>\n",
       "<table border=\"1\" class=\"dataframe\">\n",
       "  <thead>\n",
       "    <tr style=\"text-align: right;\">\n",
       "      <th></th>\n",
       "      <th>Salary</th>\n",
       "    </tr>\n",
       "  </thead>\n",
       "  <tbody>\n",
       "    <tr>\n",
       "      <th>0</th>\n",
       "      <td>58</td>\n",
       "    </tr>\n",
       "    <tr>\n",
       "      <th>124</th>\n",
       "      <td>31</td>\n",
       "    </tr>\n",
       "  </tbody>\n",
       "</table>\n",
       "</div>"
      ],
      "text/plain": [
       "     Salary\n",
       "0        58\n",
       "124      31"
      ]
     },
     "execution_count": 94,
     "metadata": {},
     "output_type": "execute_result"
    }
   ],
   "source": [
    "D['Salary'].to_frame()"
   ]
  },
  {
   "cell_type": "markdown",
   "metadata": {},
   "source": [
    "#### Print all the rows where job title is associate."
   ]
  },
  {
   "cell_type": "code",
   "execution_count": 96,
   "metadata": {},
   "outputs": [
    {
     "data": {
      "text/html": [
       "<div>\n",
       "<style scoped>\n",
       "    .dataframe tbody tr th:only-of-type {\n",
       "        vertical-align: middle;\n",
       "    }\n",
       "\n",
       "    .dataframe tbody tr th {\n",
       "        vertical-align: top;\n",
       "    }\n",
       "\n",
       "    .dataframe thead th {\n",
       "        text-align: right;\n",
       "    }\n",
       "</style>\n",
       "<table border=\"1\" class=\"dataframe\">\n",
       "  <thead>\n",
       "    <tr style=\"text-align: right;\">\n",
       "      <th></th>\n",
       "      <th>Department</th>\n",
       "      <th>Education</th>\n",
       "      <th>Title</th>\n",
       "      <th>Name</th>\n",
       "      <th>Years</th>\n",
       "      <th>Salary</th>\n",
       "    </tr>\n",
       "  </thead>\n",
       "  <tbody>\n",
       "    <tr>\n",
       "      <th>0</th>\n",
       "      <td>Admin</td>\n",
       "      <td>Master</td>\n",
       "      <td>associate</td>\n",
       "      <td>David</td>\n",
       "      <td>4</td>\n",
       "      <td>58</td>\n",
       "    </tr>\n",
       "    <tr>\n",
       "      <th>1</th>\n",
       "      <td>IT</td>\n",
       "      <td>Master</td>\n",
       "      <td>associate</td>\n",
       "      <td>Thomas</td>\n",
       "      <td>7</td>\n",
       "      <td>45</td>\n",
       "    </tr>\n",
       "    <tr>\n",
       "      <th>2</th>\n",
       "      <td>Admin</td>\n",
       "      <td>Master</td>\n",
       "      <td>associate</td>\n",
       "      <td>Diana</td>\n",
       "      <td>10</td>\n",
       "      <td>52</td>\n",
       "    </tr>\n",
       "    <tr>\n",
       "      <th>7</th>\n",
       "      <td>HR</td>\n",
       "      <td>Master</td>\n",
       "      <td>associate</td>\n",
       "      <td>Carol</td>\n",
       "      <td>14</td>\n",
       "      <td>53</td>\n",
       "    </tr>\n",
       "    <tr>\n",
       "      <th>8</th>\n",
       "      <td>Admin</td>\n",
       "      <td>PhD</td>\n",
       "      <td>associate</td>\n",
       "      <td>Jean</td>\n",
       "      <td>8</td>\n",
       "      <td>50</td>\n",
       "    </tr>\n",
       "    <tr>\n",
       "      <th>...</th>\n",
       "      <td>...</td>\n",
       "      <td>...</td>\n",
       "      <td>...</td>\n",
       "      <td>...</td>\n",
       "      <td>...</td>\n",
       "      <td>...</td>\n",
       "    </tr>\n",
       "    <tr>\n",
       "      <th>477</th>\n",
       "      <td>HR</td>\n",
       "      <td>PhD</td>\n",
       "      <td>associate</td>\n",
       "      <td>Phillip</td>\n",
       "      <td>11</td>\n",
       "      <td>113</td>\n",
       "    </tr>\n",
       "    <tr>\n",
       "      <th>486</th>\n",
       "      <td>IT</td>\n",
       "      <td>Bachelor</td>\n",
       "      <td>associate</td>\n",
       "      <td>Jay</td>\n",
       "      <td>14</td>\n",
       "      <td>58</td>\n",
       "    </tr>\n",
       "    <tr>\n",
       "      <th>487</th>\n",
       "      <td>HR</td>\n",
       "      <td>Master</td>\n",
       "      <td>associate</td>\n",
       "      <td>Patricia</td>\n",
       "      <td>10</td>\n",
       "      <td>110</td>\n",
       "    </tr>\n",
       "    <tr>\n",
       "      <th>491</th>\n",
       "      <td>Admin</td>\n",
       "      <td>PhD</td>\n",
       "      <td>associate</td>\n",
       "      <td>Alice</td>\n",
       "      <td>8</td>\n",
       "      <td>37</td>\n",
       "    </tr>\n",
       "    <tr>\n",
       "      <th>494</th>\n",
       "      <td>Sales</td>\n",
       "      <td>Bachelor</td>\n",
       "      <td>associate</td>\n",
       "      <td>Vanessa</td>\n",
       "      <td>11</td>\n",
       "      <td>118</td>\n",
       "    </tr>\n",
       "  </tbody>\n",
       "</table>\n",
       "<p>158 rows × 6 columns</p>\n",
       "</div>"
      ],
      "text/plain": [
       "    Department Education      Title      Name  Years  Salary\n",
       "0        Admin    Master  associate     David      4      58\n",
       "1           IT    Master  associate    Thomas      7      45\n",
       "2        Admin    Master  associate     Diana     10      52\n",
       "7           HR    Master  associate     Carol     14      53\n",
       "8        Admin       PhD  associate      Jean      8      50\n",
       "..         ...       ...        ...       ...    ...     ...\n",
       "477         HR       PhD  associate   Phillip     11     113\n",
       "486         IT  Bachelor  associate       Jay     14      58\n",
       "487         HR    Master  associate  Patricia     10     110\n",
       "491      Admin       PhD  associate     Alice      8      37\n",
       "494      Sales  Bachelor  associate   Vanessa     11     118\n",
       "\n",
       "[158 rows x 6 columns]"
      ]
     },
     "execution_count": 96,
     "metadata": {},
     "output_type": "execute_result"
    }
   ],
   "source": [
    "A=employees[employees.Title.isin(['associate'])]\n",
    "A\n"
   ]
  },
  {
   "cell_type": "markdown",
   "metadata": {},
   "source": [
    "#### Print the first 3 rows of your dataframe.\n",
    "**Tip**: There are 2 ways to do it. Do it both ways."
   ]
  },
  {
   "cell_type": "code",
   "execution_count": null,
   "metadata": {},
   "outputs": [],
   "source": [
    "# Method 1\n",
    "# your code here"
   ]
  },
  {
   "cell_type": "code",
   "execution_count": null,
   "metadata": {},
   "outputs": [],
   "source": [
    "# Method 2\n",
    "# your code here"
   ]
  },
  {
   "cell_type": "markdown",
   "metadata": {},
   "source": [
    "#### Find the employees whose title is associate and whose salary is above 55."
   ]
  },
  {
   "cell_type": "code",
   "execution_count": null,
   "metadata": {},
   "outputs": [],
   "source": [
    "# your code here"
   ]
  },
  {
   "cell_type": "markdown",
   "metadata": {},
   "source": [
    "#### Group the employees by number of years of employment. What are the average salaries in each group?"
   ]
  },
  {
   "cell_type": "code",
   "execution_count": null,
   "metadata": {},
   "outputs": [],
   "source": [
    "# your code here"
   ]
  },
  {
   "cell_type": "markdown",
   "metadata": {},
   "source": [
    "####  What is the average salary per title?"
   ]
  },
  {
   "cell_type": "code",
   "execution_count": null,
   "metadata": {},
   "outputs": [],
   "source": [
    "# your code here"
   ]
  },
  {
   "cell_type": "markdown",
   "metadata": {},
   "source": [
    "####  Find the salary quartiles.\n"
   ]
  },
  {
   "cell_type": "code",
   "execution_count": null,
   "metadata": {},
   "outputs": [],
   "source": [
    "# your code here"
   ]
  },
  {
   "cell_type": "markdown",
   "metadata": {},
   "source": [
    "#### Is the mean salary different per gender?"
   ]
  },
  {
   "cell_type": "code",
   "execution_count": null,
   "metadata": {},
   "outputs": [],
   "source": [
    "# your code here"
   ]
  },
  {
   "cell_type": "markdown",
   "metadata": {},
   "source": [
    "#### Find the minimum, mean and maximum of all numeric columns for each company department.\n",
    "\n"
   ]
  },
  {
   "cell_type": "code",
   "execution_count": null,
   "metadata": {},
   "outputs": [],
   "source": [
    "# your code here"
   ]
  },
  {
   "cell_type": "markdown",
   "metadata": {},
   "source": [
    "#### Bonus Question:  for each department, compute the difference between the maximum and the minimum salary.\n",
    "**Hint**: try using `agg` or `apply` combined with `lambda` functions."
   ]
  },
  {
   "cell_type": "code",
   "execution_count": null,
   "metadata": {},
   "outputs": [],
   "source": [
    "# your code here"
   ]
  },
  {
   "cell_type": "markdown",
   "metadata": {
    "collapsed": true
   },
   "source": [
    "# [ONLY ONE MANDATORY] Challenge 3\n",
    "#### Open the `Orders` dataset. Name your dataset `orders`."
   ]
  },
  {
   "cell_type": "code",
   "execution_count": null,
   "metadata": {},
   "outputs": [],
   "source": [
    "# your code here"
   ]
  },
  {
   "cell_type": "markdown",
   "metadata": {},
   "source": [
    "#### Explore your dataset by looking at the data types and summary statistics. Comment your results."
   ]
  },
  {
   "cell_type": "code",
   "execution_count": null,
   "metadata": {},
   "outputs": [],
   "source": [
    "# your code here"
   ]
  },
  {
   "cell_type": "code",
   "execution_count": null,
   "metadata": {},
   "outputs": [],
   "source": [
    "\"\"\"\n",
    "your comments here\n",
    "\"\"\""
   ]
  },
  {
   "cell_type": "markdown",
   "metadata": {},
   "source": [
    "####  What is the average purchase price?"
   ]
  },
  {
   "cell_type": "code",
   "execution_count": null,
   "metadata": {},
   "outputs": [],
   "source": [
    "# your code here"
   ]
  },
  {
   "cell_type": "markdown",
   "metadata": {},
   "source": [
    "#### What are the highest and lowest purchase prices? "
   ]
  },
  {
   "cell_type": "code",
   "execution_count": null,
   "metadata": {},
   "outputs": [],
   "source": [
    "# your code here"
   ]
  },
  {
   "cell_type": "markdown",
   "metadata": {},
   "source": [
    "#### Select all the customers from Spain.\n",
    "**Hint**: Remember that you are not asked to find orders from Spain but customers. A customer might have more than one order associated. "
   ]
  },
  {
   "cell_type": "code",
   "execution_count": null,
   "metadata": {},
   "outputs": [],
   "source": [
    "# your code here"
   ]
  },
  {
   "cell_type": "markdown",
   "metadata": {},
   "source": [
    "#### How many customers do we have in Spain?"
   ]
  },
  {
   "cell_type": "code",
   "execution_count": null,
   "metadata": {},
   "outputs": [],
   "source": [
    "# your code here"
   ]
  },
  {
   "cell_type": "markdown",
   "metadata": {},
   "source": [
    "#### Select all the customers who have bought more than 50 items.\n",
    "**Hint**: Remember that you are not asked to find orders with more than 50 items but customers who bought more than 50 items. A customer with two orders of 30 items each should appear in the selection."
   ]
  },
  {
   "cell_type": "code",
   "execution_count": null,
   "metadata": {},
   "outputs": [],
   "source": [
    "# your code here"
   ]
  },
  {
   "cell_type": "markdown",
   "metadata": {},
   "source": [
    "#### Select orders from Spain that include more than 50 items."
   ]
  },
  {
   "cell_type": "code",
   "execution_count": null,
   "metadata": {},
   "outputs": [],
   "source": [
    "# your code here"
   ]
  },
  {
   "cell_type": "markdown",
   "metadata": {},
   "source": [
    "#### Select all free orders."
   ]
  },
  {
   "cell_type": "code",
   "execution_count": null,
   "metadata": {},
   "outputs": [],
   "source": [
    "# your code here"
   ]
  },
  {
   "cell_type": "markdown",
   "metadata": {},
   "source": [
    "#### Select all orders whose description starts with `lunch bag`.\n",
    "**Hint**: use string functions."
   ]
  },
  {
   "cell_type": "code",
   "execution_count": null,
   "metadata": {},
   "outputs": [],
   "source": [
    "# your code here"
   ]
  },
  {
   "cell_type": "markdown",
   "metadata": {},
   "source": [
    "#### Select all `lunch bag` orders made in 2011."
   ]
  },
  {
   "cell_type": "code",
   "execution_count": null,
   "metadata": {},
   "outputs": [],
   "source": [
    "# your code here"
   ]
  },
  {
   "cell_type": "markdown",
   "metadata": {},
   "source": [
    "#### Show the frequency distribution of the amount spent in Spain."
   ]
  },
  {
   "cell_type": "code",
   "execution_count": null,
   "metadata": {},
   "outputs": [],
   "source": [
    "# your code here"
   ]
  },
  {
   "cell_type": "markdown",
   "metadata": {},
   "source": [
    "#### Select all orders made in the month of August."
   ]
  },
  {
   "cell_type": "code",
   "execution_count": null,
   "metadata": {},
   "outputs": [],
   "source": [
    "# your code here"
   ]
  },
  {
   "cell_type": "markdown",
   "metadata": {},
   "source": [
    "#### Find the number of orders made by each country in the month of August.\n",
    "**Hint**: Use value_counts()."
   ]
  },
  {
   "cell_type": "code",
   "execution_count": null,
   "metadata": {},
   "outputs": [],
   "source": [
    "# your code here"
   ]
  },
  {
   "cell_type": "markdown",
   "metadata": {},
   "source": [
    "#### What's the  average amount of money spent by country?"
   ]
  },
  {
   "cell_type": "code",
   "execution_count": null,
   "metadata": {},
   "outputs": [],
   "source": [
    "# your code here"
   ]
  },
  {
   "cell_type": "markdown",
   "metadata": {},
   "source": [
    "#### What's the most expensive item?"
   ]
  },
  {
   "cell_type": "code",
   "execution_count": null,
   "metadata": {},
   "outputs": [],
   "source": [
    "# your code here"
   ]
  },
  {
   "cell_type": "markdown",
   "metadata": {},
   "source": [
    "#### What is the average amount spent per year?"
   ]
  },
  {
   "cell_type": "code",
   "execution_count": null,
   "metadata": {},
   "outputs": [],
   "source": [
    "# your code here"
   ]
  }
 ],
 "metadata": {
  "anaconda-cloud": {},
  "kernelspec": {
   "display_name": "Python 3",
   "language": "python",
   "name": "python3"
  },
  "language_info": {
   "codemirror_mode": {
    "name": "ipython",
    "version": 3
   },
   "file_extension": ".py",
   "mimetype": "text/x-python",
   "name": "python",
   "nbconvert_exporter": "python",
   "pygments_lexer": "ipython3",
   "version": "3.6.5"
  }
 },
 "nbformat": 4,
 "nbformat_minor": 1
}
