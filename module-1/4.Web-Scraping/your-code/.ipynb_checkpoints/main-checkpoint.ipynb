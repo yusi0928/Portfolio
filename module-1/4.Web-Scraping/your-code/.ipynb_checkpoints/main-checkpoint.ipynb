{
 "cells": [
  {
   "cell_type": "markdown",
   "metadata": {},
   "source": [
    "# Web Scraping Lab\n",
    "\n",
    "You will find in this notebook some scrapy exercises to practise your scraping skills.\n",
    "\n",
    "**Tips:**\n",
    "\n",
    "- Check the response status code for each request to ensure you have obtained the intended content.\n",
    "- Print the response text in each request to understand the kind of info you are getting and its format.\n",
    "- Check for patterns in the response text to extract the data/info requested in each question.\n",
    "- Visit the urls below and take a look at their source code through Chrome DevTools. You'll need to identify the html tags, special class names, etc used in the html content you are expected to extract.\n",
    "\n",
    "**Resources**:\n",
    "- [Requests library](http://docs.python-requests.org/en/master/#the-user-guide)\n",
    "- [Beautiful Soup Doc](https://www.crummy.com/software/BeautifulSoup/bs4/doc/)\n",
    "- [Urllib](https://docs.python.org/3/library/urllib.html#module-urllib)\n",
    "- [re lib](https://docs.python.org/3/library/re.html)\n",
    "- [lxml lib](https://lxml.de/)\n",
    "- [Scrapy](https://scrapy.org/)\n",
    "- [List of HTTP status codes](https://en.wikipedia.org/wiki/List_of_HTTP_status_codes)\n",
    "- [HTML basics](http://www.simplehtmlguide.com/cheatsheet.php)\n",
    "- [CSS basics](https://www.cssbasics.com/#page_start)"
   ]
  },
  {
   "cell_type": "markdown",
   "metadata": {},
   "source": [
    "#### Below are the libraries and modules you may need. `requests`,  `BeautifulSoup` and `pandas` are already imported for you. If you prefer to use additional libraries feel free to do it."
   ]
  },
  {
   "cell_type": "code",
   "execution_count": 2,
   "metadata": {},
   "outputs": [],
   "source": [
    "import requests\n",
    "from bs4 import BeautifulSoup\n",
    "import pandas as pd"
   ]
  },
  {
   "cell_type": "markdown",
   "metadata": {},
   "source": [
    "#### Download, parse (using BeautifulSoup), and print the content from the Trending Developers page from GitHub:"
   ]
  },
  {
   "cell_type": "markdown",
   "metadata": {},
   "source": [
    "#### Display the names of the trending developers retrieved in the previous step.\n",
    "\n",
    "Your output should be a Python list of developer names. Each name should not contain any html tag.\n",
    "\n",
    "**Instructions:**\n",
    "\n",
    "1. Find out the html tag and class names used for the developer names. You can achieve this using Chrome DevTools.\n",
    "\n",
    "1. Use BeautifulSoup to extract all the html elements that contain the developer names.\n",
    "\n",
    "1. Use string manipulation techniques to replace whitespaces and linebreaks (i.e. `\\n`) in the *text* of each html element. Use a list to store the clean names.\n",
    "\n",
    "1. Print the list of names.\n",
    "\n",
    "Your output should look like below:\n",
    "\n",
    "```\n",
    "['trimstray (@trimstray)',\n",
    " 'joewalnes (JoeWalnes)',\n",
    " 'charlax (Charles-AxelDein)',\n",
    " 'ForrestKnight (ForrestKnight)',\n",
    " 'revery-ui (revery-ui)',\n",
    " 'alibaba (Alibaba)',\n",
    " 'Microsoft (Microsoft)',\n",
    " 'github (GitHub)',\n",
    " 'facebook (Facebook)',\n",
    " 'boazsegev (Bo)',\n",
    " 'google (Google)',\n",
    " 'cloudfetch',\n",
    " 'sindresorhus (SindreSorhus)',\n",
    " 'tensorflow',\n",
    " 'apache (TheApacheSoftwareFoundation)',\n",
    " 'DevonCrawford (DevonCrawford)',\n",
    " 'ARMmbed (ArmMbed)',\n",
    " 'vuejs (vuejs)',\n",
    " 'fastai (fast.ai)',\n",
    " 'QiShaoXuan (Qi)',\n",
    " 'joelparkerhenderson (JoelParkerHenderson)',\n",
    " 'torvalds (LinusTorvalds)',\n",
    " 'CyC2018',\n",
    " 'komeiji-satori (神楽坂覚々)',\n",
    " 'script-8']\n",
    " ```"
   ]
  },
  {
   "cell_type": "code",
   "execution_count": 123,
   "metadata": {},
   "outputs": [
    {
     "data": {
      "text/plain": [
       "['Thibault Duplessis(ornicar)',\n",
       " 'Jake Archibald(jakearchibald)',\n",
       " 'Stephen Roller(stephenroller)',\n",
       " 'David Rodríguez(deivid-rodriguez)',\n",
       " 'Shawn Tabrizi(shawntabrizi)',\n",
       " 'Steven Allen(Stebalien)',\n",
       " 'Taylor Otwell(taylorotwell)',\n",
       " 'Sebastián Ramírez(tiangolo)',\n",
       " 'Leo Di Donato(leodido)',\n",
       " 'Felix Angelov(felangel)',\n",
       " 'Agniva De Sarker(agnivade)',\n",
       " 'Tyler Neely(spacejam)',\n",
       " 'Klaus Post(klauspost)',\n",
       " 'James Agnew(jamesagnew)',\n",
       " 'Dustin L. Howett(DHowett)',\n",
       " 'Anmol Sethi(nhooyr)',\n",
       " 'Yiyi Wang(shd101wyy)',\n",
       " 'Philipp Oppermann(phil-opp)',\n",
       " 'Ben Manes(ben-manes)',\n",
       " 'Stefan Prodan(stefanprodan)',\n",
       " 'Dries Vints(driesvints)',\n",
       " 'John Keiser(jkeiser)',\n",
       " 'Carlos Alexandro Becker(caarlos0)',\n",
       " 'Ines Montani(ines)',\n",
       " 'Brian Flad(bflad)']"
      ]
     },
     "execution_count": 123,
     "metadata": {},
     "output_type": "execute_result"
    }
   ],
   "source": [
    "import itertools\n",
    "\n",
    "url = 'https://github.com/trending/developers'\n",
    "response_code=requests.get(url).status_code\n",
    "print(response_code)\n",
    "\n",
    "html=requests.get(url).content\n",
    "\n",
    "soup=BeautifulSoup(html,'html.parser')\n",
    "info=soup.find_all('h1',{'class':'h3 lh-condensed'})\n",
    "\n",
    "developers_raw=[name.text.strip().split('\\n') for name in info] # Clean the developers list\n",
    "developers = list(itertools.chain(*developers_raw))           # Flatten the list of list\n",
    "\n",
    "\n",
    "nicknames_raw=[name.find('a')['href'].replace('/','') for name in info]  # clean the nicknames list\n",
    "nicknames=[''.join('(' + str(item) + ')' )for item in nicknames_raw]    # add ( )\n",
    "\n",
    "\n",
    "result = [i + j for i, j in zip(developers, nicknames)]     # add together by item order\n",
    "result\n"
   ]
  },
  {
   "cell_type": "markdown",
   "metadata": {},
   "source": [
    "#### Display the trending Python repositories in GitHub.\n",
    "\n",
    "The steps to solve this problem is similar to the previous one except that you need to find out the repository names instead of developer names."
   ]
  },
  {
   "cell_type": "code",
   "execution_count": 214,
   "metadata": {},
   "outputs": [
    {
     "name": "stdout",
     "output_type": "stream",
     "text": [
      "200\n"
     ]
    },
    {
     "data": {
      "text/plain": [
       "['minimaxir/big-list-of-naughty-strings',\n",
       " 'rusty1s/pytorch_geometric',\n",
       " 'espnet/espnet',\n",
       " 'public-apis/public-apis',\n",
       " 'donnemartin/system-design-primer',\n",
       " 'ranjian0/building_tool',\n",
       " 'sherlock-project/sherlock🔎',\n",
       " 'OpenMined/PySyft',\n",
       " 'open-mmlab/mmdetection',\n",
       " 'xillwillx/skiptracer',\n",
       " 'allenai/allennlp',\n",
       " 'explosion/spaCy💫',\n",
       " 'zylo117/Yet-Another-EfficientDet-Pytorch',\n",
       " 'renatoviolin/next_word_prediction',\n",
       " 'anandpawara/Real_Time_Image_Animation',\n",
       " 'pytorch/fairseq',\n",
       " 'lyhue1991/eat_tensorflow2_in_30_days',\n",
       " 'zhanghang1989/ResNeSt',\n",
       " 'Rapptz/discord.py',\n",
       " 'google-research/big_transfer',\n",
       " 'TachibanaYoshino/AnimeGAN',\n",
       " 'shengqiangzhang/examples-of-web-crawlers',\n",
       " 'hunglc007/tensorflow-yolov4-tflite',\n",
       " 'ianzhao05/textshot',\n",
       " 'bitcoinbook/bitcoinbook']"
      ]
     },
     "execution_count": 214,
     "metadata": {},
     "output_type": "execute_result"
    }
   ],
   "source": [
    "url = 'https://github.com/trending/python?since=daily'\n",
    "html_status=requests.get(url).status_code\n",
    "print(html_status)\n",
    "\n",
    "html=requests.get(url).content         # sent request\n",
    "soup=BeautifulSoup(html,'html.parser') # parsering\n",
    "\n",
    "repo=[item.text.replace('\\n','').split() for item in soup.find_all('article',{'class':'Box-row'})] # clean\n",
    "\n",
    "lst=[i for j in repo for i in j[1:4]]   # create a list contains some parts of repo\n",
    "repo=[ ''.join(x) for x in zip(lst[0::3], lst[1::3],lst[2::3]) ] # a list combine every 2,3,4 elements in a list of list\n",
    "repo\n"
   ]
  },
  {
   "cell_type": "markdown",
   "metadata": {},
   "source": [
    "#### Display all the image links from Walt Disney wikipedia page."
   ]
  },
  {
   "cell_type": "code",
   "execution_count": 204,
   "metadata": {},
   "outputs": [
    {
     "name": "stdout",
     "output_type": "stream",
     "text": [
      "200\n"
     ]
    },
    {
     "data": {
      "text/plain": [
       "['https://en.wikipedia.org/wiki/File:Walt_Disney_envelope_ca._1921.jpg',\n",
       " 'https://en.wikipedia.org//upload.wikimedia.org/wikipedia/commons/4/4d/Newman_Laugh-O-Gram_%281921%29.webm',\n",
       " 'https://en.wikipedia.org/wiki/File:Trolley_Troubles_poster.jpg',\n",
       " 'https://en.wikipedia.org/wiki/File:Walt_Disney_and_his_cartoon_creation_%22Mickey_Mouse%22_-_National_Board_of_Review_Magazine.jpg',\n",
       " 'https://en.wikipedia.org/wiki/File:Steamboat-willie.jpg',\n",
       " 'https://en.wikipedia.org/wiki/File:Walt_Disney_1935.jpg',\n",
       " 'https://en.wikipedia.org/wiki/File:Walt_Disney_Snow_white_1937_trailer_screenshot_(13).jpg',\n",
       " 'https://en.wikipedia.org/wiki/File:Disney_drawing_goofy.jpg',\n",
       " 'https://en.wikipedia.org/wiki/File:DisneySchiphol1951.jpg',\n",
       " 'https://en.wikipedia.org/wiki/File:WaltDisneyplansDisneylandDec1954.jpg',\n",
       " 'https://en.wikipedia.org/wiki/File:Walt_disney_portrait_right.jpg',\n",
       " 'https://en.wikipedia.org/wiki/File:Walt_Disney_Grave.JPG',\n",
       " 'https://en.wikipedia.org/wiki/File:Roy_O._Disney_with_Company_at_Press_Conference.jpg',\n",
       " 'https://en.wikipedia.org/wiki/File:Disney_Display_Case.JPG',\n",
       " 'https://en.wikipedia.org/wiki/File:Disney1968.jpg']"
      ]
     },
     "execution_count": 204,
     "metadata": {},
     "output_type": "execute_result"
    }
   ],
   "source": [
    "url = 'https://en.wikipedia.org/wiki/Walt_Disney'\n",
    "urlWiki='https://en.wikipedia.org'\n",
    "\n",
    "html_status=requests.get(url).status_code\n",
    "print(html_status)\n",
    "\n",
    "html=requests.get(url).content\n",
    "soup=BeautifulSoup(html,'html.parser')\n",
    "\n",
    "info=soup.find_all('div',{'class':'thumbinner'})\n",
    "image=[(urlWiki+i.find('a')['href']) for i in info]\n",
    "image\n",
    "    "
   ]
  },
  {
   "cell_type": "markdown",
   "metadata": {},
   "source": [
    "#### Retrieve an arbitary Wikipedia page of \"Python\" and create a list of links on that page."
   ]
  },
  {
   "cell_type": "code",
   "execution_count": null,
   "metadata": {},
   "outputs": [],
   "source": [
    "url ='https://en.wikipedia.org/wiki/Python' \n",
    "\n",
    "\n",
    "# I don't know what do you want in this assignment"
   ]
  },
  {
   "cell_type": "markdown",
   "metadata": {},
   "source": [
    "#### Find the number of titles that have changed in the United States Code since its last release point."
   ]
  },
  {
   "cell_type": "code",
   "execution_count": 239,
   "metadata": {},
   "outputs": [
    {
     "name": "stdout",
     "output_type": "stream",
     "text": [
      "200\n"
     ]
    },
    {
     "data": {
      "text/plain": [
       "['Title 10', 'Title 38']"
      ]
     },
     "execution_count": 239,
     "metadata": {},
     "output_type": "execute_result"
    }
   ],
   "source": [
    "import re\n",
    "\n",
    "url = 'http://uscode.house.gov/download/download.shtml'\n",
    "html_status=requests.get(url).status_code\n",
    "print(html_status)\n",
    "\n",
    "html=requests.get(url).content\n",
    "soup=BeautifulSoup(html,'html.parser')\n",
    "\n",
    "info=[i.text.strip()for i in soup.find_all('div',{'class':'usctitlechanged'})]  # find out the info and clean a bit\n",
    "title=[re.findall('Title \\d+',t)for t in info]  # extract Titles+number\n",
    "list(itertools.chain(*title))   # flatten the list of list\n"
   ]
  },
  {
   "cell_type": "markdown",
   "metadata": {},
   "source": [
    "#### Find a Python list with the top ten FBI's Most Wanted names."
   ]
  },
  {
   "cell_type": "code",
   "execution_count": 245,
   "metadata": {},
   "outputs": [
    {
     "name": "stdout",
     "output_type": "stream",
     "text": [
      "200\n"
     ]
    },
    {
     "data": {
      "text/plain": [
       "['RAFAEL CARO-QUINTERO',\n",
       " 'ROBERT WILLIAM FISHER',\n",
       " 'BHADRESHKUMAR CHETANBHAI PATEL',\n",
       " 'ALEJANDRO ROSALES CASTILLO',\n",
       " 'ARNOLDO JIMENEZ',\n",
       " 'JASON DEREK BROWN',\n",
       " 'YASER ABDEL SAID',\n",
       " 'ALEXIS FLORES',\n",
       " 'EUGENE PALMER',\n",
       " 'SANTIAGO VILLALBA MEDEROS']"
      ]
     },
     "execution_count": 245,
     "metadata": {},
     "output_type": "execute_result"
    }
   ],
   "source": [
    "url = 'https://www.fbi.gov/wanted/topten'\n",
    "\n",
    "html_status=requests.get(url).status_code\n",
    "print(html_status)\n",
    "\n",
    "html=requests.get(url).content\n",
    "soup=BeautifulSoup(html,'html.parser')  \n",
    "\n",
    "info=[i.text.strip() for i in soup.find_all('li',{'class':'portal-type-person castle-grid-block-item'})]\n",
    "info"
   ]
  },
  {
   "cell_type": "markdown",
   "metadata": {},
   "source": [
    "####  Display the 20 latest earthquakes info (date, time, latitude, longitude and region name) by the EMSC as a pandas dataframe."
   ]
  },
  {
   "cell_type": "code",
   "execution_count": 363,
   "metadata": {},
   "outputs": [
    {
     "name": "stdout",
     "output_type": "stream",
     "text": [
      "200\n"
     ]
    },
    {
     "data": {
      "text/html": [
       "<div>\n",
       "<style scoped>\n",
       "    .dataframe tbody tr th:only-of-type {\n",
       "        vertical-align: middle;\n",
       "    }\n",
       "\n",
       "    .dataframe tbody tr th {\n",
       "        vertical-align: top;\n",
       "    }\n",
       "\n",
       "    .dataframe thead th {\n",
       "        text-align: right;\n",
       "    }\n",
       "</style>\n",
       "<table border=\"1\" class=\"dataframe\">\n",
       "  <thead>\n",
       "    <tr style=\"text-align: right;\">\n",
       "      <th></th>\n",
       "      <th>Date</th>\n",
       "      <th>Time</th>\n",
       "      <th>Latitude</th>\n",
       "      <th>Longitude</th>\n",
       "      <th>Region</th>\n",
       "    </tr>\n",
       "  </thead>\n",
       "  <tbody>\n",
       "    <tr>\n",
       "      <th>0</th>\n",
       "      <td>2020-05-26</td>\n",
       "      <td>22:57:33</td>\n",
       "      <td>46.91N</td>\n",
       "      <td>9.62E</td>\n",
       "      <td>SWITZERLAND</td>\n",
       "    </tr>\n",
       "    <tr>\n",
       "      <th>1</th>\n",
       "      <td>2020-05-26</td>\n",
       "      <td>22:52:15</td>\n",
       "      <td>16.81S</td>\n",
       "      <td>167.70E</td>\n",
       "      <td>VANUATU</td>\n",
       "    </tr>\n",
       "    <tr>\n",
       "      <th>2</th>\n",
       "      <td>2020-05-26</td>\n",
       "      <td>22:52:14</td>\n",
       "      <td>0.00N</td>\n",
       "      <td>10.00E</td>\n",
       "      <td>GABON</td>\n",
       "    </tr>\n",
       "    <tr>\n",
       "      <th>3</th>\n",
       "      <td>2020-05-26</td>\n",
       "      <td>22:28:15</td>\n",
       "      <td>45.55N</td>\n",
       "      <td>26.56E</td>\n",
       "      <td>ROMANIA</td>\n",
       "    </tr>\n",
       "    <tr>\n",
       "      <th>4</th>\n",
       "      <td>2020-05-26</td>\n",
       "      <td>22:14:30</td>\n",
       "      <td>38.19N</td>\n",
       "      <td>117.80W</td>\n",
       "      <td>NEVADA</td>\n",
       "    </tr>\n",
       "    <tr>\n",
       "      <th>5</th>\n",
       "      <td>2020-05-26</td>\n",
       "      <td>21:40:26</td>\n",
       "      <td>1.16N</td>\n",
       "      <td>97.09E</td>\n",
       "      <td>NIAS REGION, INDONESIA</td>\n",
       "    </tr>\n",
       "    <tr>\n",
       "      <th>6</th>\n",
       "      <td>2020-05-26</td>\n",
       "      <td>21:35:21</td>\n",
       "      <td>44.27N</td>\n",
       "      <td>115.07W</td>\n",
       "      <td>SOUTHERN IDAHO</td>\n",
       "    </tr>\n",
       "    <tr>\n",
       "      <th>7</th>\n",
       "      <td>2020-05-26</td>\n",
       "      <td>21:33:52</td>\n",
       "      <td>34.03N</td>\n",
       "      <td>117.25W</td>\n",
       "      <td>GREATER LOS ANGELES AREA, CALIF</td>\n",
       "    </tr>\n",
       "    <tr>\n",
       "      <th>8</th>\n",
       "      <td>2020-05-26</td>\n",
       "      <td>21:21:53</td>\n",
       "      <td>31.66N</td>\n",
       "      <td>104.39W</td>\n",
       "      <td>WESTERN TEXAS</td>\n",
       "    </tr>\n",
       "    <tr>\n",
       "      <th>9</th>\n",
       "      <td>2020-05-26</td>\n",
       "      <td>21:09:45</td>\n",
       "      <td>19.40N</td>\n",
       "      <td>155.27W</td>\n",
       "      <td>ISLAND OF HAWAII, HAWAII</td>\n",
       "    </tr>\n",
       "    <tr>\n",
       "      <th>10</th>\n",
       "      <td>2020-05-26</td>\n",
       "      <td>21:08:05</td>\n",
       "      <td>38.16N</td>\n",
       "      <td>117.91W</td>\n",
       "      <td>NEVADA</td>\n",
       "    </tr>\n",
       "    <tr>\n",
       "      <th>11</th>\n",
       "      <td>2020-05-26</td>\n",
       "      <td>21:06:48</td>\n",
       "      <td>32.36N</td>\n",
       "      <td>59.69E</td>\n",
       "      <td>EASTERN IRAN</td>\n",
       "    </tr>\n",
       "    <tr>\n",
       "      <th>12</th>\n",
       "      <td>2020-05-26</td>\n",
       "      <td>21:02:50</td>\n",
       "      <td>18.54N</td>\n",
       "      <td>103.19W</td>\n",
       "      <td>MICHOACAN, MEXICO</td>\n",
       "    </tr>\n",
       "    <tr>\n",
       "      <th>13</th>\n",
       "      <td>2020-05-26</td>\n",
       "      <td>20:47:25</td>\n",
       "      <td>40.72N</td>\n",
       "      <td>124.22W</td>\n",
       "      <td>NORTHERN CALIFORNIA</td>\n",
       "    </tr>\n",
       "    <tr>\n",
       "      <th>14</th>\n",
       "      <td>2020-05-26</td>\n",
       "      <td>20:38:58</td>\n",
       "      <td>48.10N</td>\n",
       "      <td>121.92W</td>\n",
       "      <td>WASHINGTON</td>\n",
       "    </tr>\n",
       "    <tr>\n",
       "      <th>15</th>\n",
       "      <td>2020-05-26</td>\n",
       "      <td>20:34:49</td>\n",
       "      <td>6.84S</td>\n",
       "      <td>114.25E</td>\n",
       "      <td>BALI SEA</td>\n",
       "    </tr>\n",
       "    <tr>\n",
       "      <th>16</th>\n",
       "      <td>2020-05-26</td>\n",
       "      <td>20:31:15</td>\n",
       "      <td>36.45N</td>\n",
       "      <td>98.78W</td>\n",
       "      <td>OKLAHOMA</td>\n",
       "    </tr>\n",
       "    <tr>\n",
       "      <th>17</th>\n",
       "      <td>2020-05-26</td>\n",
       "      <td>20:28:24</td>\n",
       "      <td>44.36N</td>\n",
       "      <td>115.22W</td>\n",
       "      <td>SOUTHERN IDAHO</td>\n",
       "    </tr>\n",
       "    <tr>\n",
       "      <th>18</th>\n",
       "      <td>2020-05-26</td>\n",
       "      <td>20:24:41</td>\n",
       "      <td>17.93N</td>\n",
       "      <td>66.84W</td>\n",
       "      <td>PUERTO RICO REGION</td>\n",
       "    </tr>\n",
       "    <tr>\n",
       "      <th>19</th>\n",
       "      <td>2020-05-26</td>\n",
       "      <td>20:24:21</td>\n",
       "      <td>38.19N</td>\n",
       "      <td>117.98W</td>\n",
       "      <td>NEVADA</td>\n",
       "    </tr>\n",
       "  </tbody>\n",
       "</table>\n",
       "</div>"
      ],
      "text/plain": [
       "          Date      Time Latitude Longitude                           Region\n",
       "0   2020-05-26  22:57:33   46.91N     9.62E                      SWITZERLAND\n",
       "1   2020-05-26  22:52:15   16.81S   167.70E                          VANUATU\n",
       "2   2020-05-26  22:52:14    0.00N    10.00E                            GABON\n",
       "3   2020-05-26  22:28:15   45.55N    26.56E                          ROMANIA\n",
       "4   2020-05-26  22:14:30   38.19N   117.80W                           NEVADA\n",
       "5   2020-05-26  21:40:26    1.16N    97.09E           NIAS REGION, INDONESIA\n",
       "6   2020-05-26  21:35:21   44.27N   115.07W                   SOUTHERN IDAHO\n",
       "7   2020-05-26  21:33:52   34.03N   117.25W  GREATER LOS ANGELES AREA, CALIF\n",
       "8   2020-05-26  21:21:53   31.66N   104.39W                    WESTERN TEXAS\n",
       "9   2020-05-26  21:09:45   19.40N   155.27W         ISLAND OF HAWAII, HAWAII\n",
       "10  2020-05-26  21:08:05   38.16N   117.91W                           NEVADA\n",
       "11  2020-05-26  21:06:48   32.36N    59.69E                     EASTERN IRAN\n",
       "12  2020-05-26  21:02:50   18.54N   103.19W                MICHOACAN, MEXICO\n",
       "13  2020-05-26  20:47:25   40.72N   124.22W              NORTHERN CALIFORNIA\n",
       "14  2020-05-26  20:38:58   48.10N   121.92W                       WASHINGTON\n",
       "15  2020-05-26  20:34:49    6.84S   114.25E                         BALI SEA\n",
       "16  2020-05-26  20:31:15   36.45N    98.78W                         OKLAHOMA\n",
       "17  2020-05-26  20:28:24   44.36N   115.22W                   SOUTHERN IDAHO\n",
       "18  2020-05-26  20:24:41   17.93N    66.84W               PUERTO RICO REGION\n",
       "19  2020-05-26  20:24:21   38.19N   117.98W                           NEVADA"
      ]
     },
     "execution_count": 363,
     "metadata": {},
     "output_type": "execute_result"
    }
   ],
   "source": [
    "import re\n",
    "import numpy as np\n",
    "\n",
    "url = 'https://www.emsc-csem.org/Earthquake/'\n",
    "\n",
    "status=requests.get(url).status_code\n",
    "print(status)\n",
    "\n",
    "html=requests.get(url).content\n",
    "soup=BeautifulSoup(html,'html.parser')\n",
    "\n",
    "\n",
    "info=[i.text.strip().replace('\\xa0','').split('\\n') for i in soup.find_all('tbody',{'id':'tbody'})]\n",
    "e=list(itertools.chain(*info))[:20]   # flatten the list of list, and only keep top 20\n",
    "\n",
    "\n",
    "date=[re.findall('(\\d+-\\d+-\\d{2}) ',i) for i in e]\n",
    "time=[re.findall('\\d{2}:\\d+:\\d+',i) for i in e]\n",
    "latitude=[re.findall('(\\d+.\\d+[NS])\\d',i) for i in e]\n",
    "longitude=[re.findall('(\\d+.\\d+[WE])[-\\d]',i) for i in e]\n",
    "region=[re.findall('[A-Z]{4}.*[A-Z]',i) for i in e]\n",
    "\n",
    "# Flatten all list of lists above, any better solution?\n",
    "Date = list(itertools.chain(*date))  \n",
    "Time = list(itertools.chain(*time))  \n",
    "Latitude = list(itertools.chain(*latitude))  \n",
    "Longitude = list(itertools.chain(*longitude))  \n",
    "Region = list(itertools.chain(*region))  \n",
    "\n",
    "\n",
    "df = pd.DataFrame({'Date':Date, 'Time':Time, 'Latitude':Latitude, 'Longitude':Longitude, 'Region':Region})\n",
    "df\n",
    "\n"
   ]
  },
  {
   "cell_type": "code",
   "execution_count": 331,
   "metadata": {},
   "outputs": [
    {
     "data": {
      "text/plain": [
       "['earthquake2020-05-2622:28:12.308min ago45.70N26.55E140ML3.2ROMANIA2020-05-26 22:31',\n",
       " 'earthquake2020-05-2622:14:30.022min ago38.19N117.80W7ML3.3NEVADA2020-05-26 22:23',\n",
       " 'earthquake2020-05-2621:40:26.056min ago1.16N97.09E10 M3.2NIAS REGION, INDONESIA2020-05-26 22:35',\n",
       " 'earthquake2020-05-2621:35:21.01hr 01min ago44.27N115.07W8Ml2.8SOUTHERN IDAHO2020-05-26 21:50',\n",
       " '1Fearthquake2020-05-2621:33:52.01hr 03min ago34.03N117.25W15Ml2.4GREATER LOS ANGELES AREA, CALIF.2020-05-26 21:36',\n",
       " 'earthquake2020-05-2621:21:53.71hr 14min ago31.66N104.39W5ML3.0WESTERN TEXAS2020-05-26 21:36',\n",
       " 'earthquake2020-05-2621:09:45.71hr 27min ago19.40N155.27W8MD2.1ISLAND OF HAWAII, HAWAII2020-05-26 21:12',\n",
       " 'earthquake2020-05-2621:08:05.21hr 28min ago38.16N117.91W4ml2.0NEVADA2020-05-26 21:11',\n",
       " 'earthquake2020-05-2621:06:48.71hr 30min ago32.36N59.69E10ML3.5EASTERN IRAN2020-05-26 22:22',\n",
       " 'earthquake2020-05-2621:02:50.01hr 34min ago18.54N103.19W15 M4.0MICHOACAN, MEXICO2020-05-26 21:35',\n",
       " 'earthquake2020-05-2620:47:25.71hr 49min ago40.72N124.22W7Md2.0NORTHERN CALIFORNIA2020-05-26 20:49',\n",
       " 'earthquake2020-05-2620:38:58.71hr 57min ago48.10N121.92W-1Md2.4WASHINGTON2020-05-26 20:41',\n",
       " 'earthquake2020-05-2620:34:49.02hr 02min ago6.84S114.25E21 M3.2BALI SEA2020-05-26 21:05',\n",
       " 'earthquake2020-05-2620:31:15.22hr 05min ago36.45N98.78W5ML2.0OKLAHOMA2020-05-26 20:36',\n",
       " 'earthquake2020-05-2620:28:24.42hr 08min ago44.36N115.22W14Ml2.2SOUTHERN IDAHO2020-05-26 21:59',\n",
       " 'earthquake2020-05-2620:24:41.92hr 12min ago17.93N66.84W11Md2.2PUERTO RICO REGION2020-05-26 20:54',\n",
       " 'earthquake2020-05-2620:24:21.62hr 12min ago38.19N117.98W4ml2.2NEVADA2020-05-26 20:27',\n",
       " 'earthquake2020-05-2620:07:35.02hr 29min ago0.44N123.90E82 M3.1MINAHASA, SULAWESI, INDONESIA2020-05-26 20:15',\n",
       " 'earthquake2020-05-2620:03:08.72hr 33min ago19.41N155.28W3Md2.1ISLAND OF HAWAII, HAWAII2020-05-26 20:06',\n",
       " 'earthquake2020-05-2620:00:24.62hr 36min ago38.17N117.80W10ML2.0NEVADA2020-05-26 20:03']"
      ]
     },
     "execution_count": 331,
     "metadata": {},
     "output_type": "execute_result"
    }
   ],
   "source": [
    "e"
   ]
  },
  {
   "cell_type": "markdown",
   "metadata": {},
   "source": [
    "#### Count the number of tweets by a given Twitter account.\n",
    "Ask the user for the handle (@handle) of a twitter account. You will need to include a ***try/except block*** for account names not found. \n",
    "<br>***Hint:*** the program should count the number of tweets for any provided account."
   ]
  },
  {
   "cell_type": "code",
   "execution_count": null,
   "metadata": {},
   "outputs": [],
   "source": [
    "# This is the url you will scrape in this exercise \n",
    "# You will need to add the account credentials to this url\n",
    "url = 'https://twitter.com/'"
   ]
  },
  {
   "cell_type": "code",
   "execution_count": null,
   "metadata": {},
   "outputs": [],
   "source": [
    "# your code here"
   ]
  },
  {
   "cell_type": "markdown",
   "metadata": {},
   "source": [
    "#### Number of followers of a given twitter account\n",
    "Ask the user for the handle (@handle) of a twitter account. You will need to include a ***try/except block*** for account names not found. \n",
    "<br>***Hint:*** the program should count the followers for any provided account."
   ]
  },
  {
   "cell_type": "code",
   "execution_count": null,
   "metadata": {},
   "outputs": [],
   "source": [
    "# This is the url you will scrape in this exercise \n",
    "# You will need to add the account credentials to this url\n",
    "url = 'https://twitter.com/'"
   ]
  },
  {
   "cell_type": "code",
   "execution_count": null,
   "metadata": {},
   "outputs": [],
   "source": [
    "# your code here"
   ]
  },
  {
   "cell_type": "markdown",
   "metadata": {},
   "source": [
    "#### List all language names and number of related articles in the order they appear in wikipedia.org."
   ]
  },
  {
   "cell_type": "code",
   "execution_count": null,
   "metadata": {},
   "outputs": [],
   "source": [
    "# This is the url you will scrape in this exercise\n",
    "url = 'https://www.wikipedia.org/'"
   ]
  },
  {
   "cell_type": "code",
   "execution_count": null,
   "metadata": {},
   "outputs": [],
   "source": [
    "# your code here"
   ]
  },
  {
   "cell_type": "markdown",
   "metadata": {},
   "source": [
    "#### A list with the different kind of datasets available in data.gov.uk."
   ]
  },
  {
   "cell_type": "code",
   "execution_count": null,
   "metadata": {},
   "outputs": [],
   "source": [
    "# This is the url you will scrape in this exercise\n",
    "url = 'https://data.gov.uk/'"
   ]
  },
  {
   "cell_type": "code",
   "execution_count": null,
   "metadata": {},
   "outputs": [],
   "source": [
    "# your code here"
   ]
  },
  {
   "cell_type": "markdown",
   "metadata": {},
   "source": [
    "#### Display the top 10 languages by number of native speakers stored in a pandas dataframe."
   ]
  },
  {
   "cell_type": "code",
   "execution_count": null,
   "metadata": {},
   "outputs": [],
   "source": [
    "# This is the url you will scrape in this exercise\n",
    "url = 'https://en.wikipedia.org/wiki/List_of_languages_by_number_of_native_speakers'"
   ]
  },
  {
   "cell_type": "code",
   "execution_count": null,
   "metadata": {},
   "outputs": [],
   "source": [
    "# your code here"
   ]
  },
  {
   "cell_type": "markdown",
   "metadata": {},
   "source": [
    "## Bonus\n",
    "#### Scrape a certain number of tweets of a given Twitter account."
   ]
  },
  {
   "cell_type": "code",
   "execution_count": null,
   "metadata": {},
   "outputs": [],
   "source": [
    "# This is the url you will scrape in this exercise \n",
    "# You will need to add the account credentials to this url\n",
    "url = 'https://twitter.com/'"
   ]
  },
  {
   "cell_type": "code",
   "execution_count": null,
   "metadata": {},
   "outputs": [],
   "source": [
    "# your code here"
   ]
  },
  {
   "cell_type": "markdown",
   "metadata": {},
   "source": [
    "#### Display IMDB's top 250 data (movie name, initial release, director name and stars) as a pandas dataframe."
   ]
  },
  {
   "cell_type": "code",
   "execution_count": null,
   "metadata": {},
   "outputs": [],
   "source": [
    "# This is the url you will scrape in this exercise \n",
    "url = 'https://www.imdb.com/chart/top'"
   ]
  },
  {
   "cell_type": "code",
   "execution_count": null,
   "metadata": {},
   "outputs": [],
   "source": [
    "# your code here"
   ]
  },
  {
   "cell_type": "markdown",
   "metadata": {},
   "source": [
    "#### Display the movie name, year and a brief summary of the top 10 random movies (IMDB) as a pandas dataframe."
   ]
  },
  {
   "cell_type": "code",
   "execution_count": null,
   "metadata": {},
   "outputs": [],
   "source": [
    "#This is the url you will scrape in this exercise\n",
    "url = 'http://www.imdb.com/chart/top'"
   ]
  },
  {
   "cell_type": "code",
   "execution_count": null,
   "metadata": {},
   "outputs": [],
   "source": [
    "# your code here"
   ]
  },
  {
   "cell_type": "markdown",
   "metadata": {},
   "source": [
    "#### Find the live weather report (temperature, wind speed, description and weather) of a given city."
   ]
  },
  {
   "cell_type": "code",
   "execution_count": null,
   "metadata": {},
   "outputs": [],
   "source": [
    "#https://openweathermap.org/current\n",
    "city = input('Enter the city: ')\n",
    "url = 'http://api.openweathermap.org/data/2.5/weather?'+'q='+city+'&APPID=b35975e18dc93725acb092f7272cc6b8&units=metric'"
   ]
  },
  {
   "cell_type": "code",
   "execution_count": null,
   "metadata": {},
   "outputs": [],
   "source": [
    "# your code here"
   ]
  },
  {
   "cell_type": "markdown",
   "metadata": {},
   "source": [
    "#### Find the book name, price and stock availability as a pandas dataframe."
   ]
  },
  {
   "cell_type": "code",
   "execution_count": null,
   "metadata": {},
   "outputs": [],
   "source": [
    "# This is the url you will scrape in this exercise. \n",
    "# It is a fictional bookstore created to be scraped. \n",
    "url = 'http://books.toscrape.com/'"
   ]
  },
  {
   "cell_type": "code",
   "execution_count": null,
   "metadata": {},
   "outputs": [],
   "source": [
    "# your code here"
   ]
  }
 ],
 "metadata": {
  "kernelspec": {
   "display_name": "Python 3",
   "language": "python",
   "name": "python3"
  },
  "language_info": {
   "codemirror_mode": {
    "name": "ipython",
    "version": 3
   },
   "file_extension": ".py",
   "mimetype": "text/x-python",
   "name": "python",
   "nbconvert_exporter": "python",
   "pygments_lexer": "ipython3",
   "version": "3.6.5"
  }
 },
 "nbformat": 4,
 "nbformat_minor": 2
}
