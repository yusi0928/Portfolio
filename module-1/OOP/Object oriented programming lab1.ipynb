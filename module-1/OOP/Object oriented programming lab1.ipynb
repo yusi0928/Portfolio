{
 "cells": [
  {
   "cell_type": "markdown",
   "metadata": {},
   "source": [
    "# Solve the following katas using python objects:"
   ]
  },
  {
   "cell_type": "markdown",
   "metadata": {},
   "source": [
    "## Task 1"
   ]
  },
  {
   "cell_type": "markdown",
   "metadata": {},
   "source": [
    "### \n",
    "l = List()\n",
    "\n",
    "integer_list =  [1, 1, 2 ,3 ,1 ,2 ,3 ,4]\n",
    "values_list = [1, 3]\n",
    "l.remove_(integer_list, values_list) == [2, 2, 4]\n",
    "\n",
    "integer_list = [1, 1, 2 ,3 ,1 ,2 ,3 ,4, 4, 3 ,5, 6, 7, 2, 8]\n",
    "lst = [1, 3, 4, 2]\n",
    "l.remove_(integer_list, values_list) == [5, 6 ,7 ,8]\n",
    "\n",
    "integer_list = [8, 2, 7, 2, 3, 4, 6, 5, 4, 4, 1, 2 , 3]\n",
    "lst = [2, 4, 3]\n",
    "l.remove_(integer_list, values_list) == [8, 7, 6, 5, 1]\n"
   ]
  },
  {
   "cell_type": "code",
   "execution_count": 101,
   "metadata": {},
   "outputs": [
    {
     "name": "stdout",
     "output_type": "stream",
     "text": [
      "The list you want to run the function is: [1, 1, 2, 3, 1, 2, 3, 4]\n",
      "The number you want to delete are: [1, 3]\n",
      "[2, 2, 4]\n"
     ]
    }
   ],
   "source": [
    "# My solution\n",
    "\n",
    "class List:\n",
    "    \n",
    "    def __init__(self,integer_list,value_list):\n",
    "        self.integer_list=integer_list\n",
    "        self.value_list=value_list\n",
    "        print ('The list you want to run the function is: '+ str(self.integer_list))\n",
    "        print('The number you want to delete are: '+str(self.value_list ))\n",
    "    \n",
    "    def remove(self):\n",
    "        l = [x for x in self.integer_list if x not in self.value_list]\n",
    "        print(l)\n",
    "        \n",
    "    def result(self):\n",
    "        self.remove()\n",
    "    \n",
    "    \n",
    "a=[1, 1, 2 ,3 ,1 ,2 ,3 ,4]\n",
    "b=[1, 3]\n",
    "    \n",
    "round1=List(a,b)\n",
    "round1.result()\n",
    "\n"
   ]
  },
  {
   "cell_type": "markdown",
   "metadata": {},
   "source": [
    "# Task 2"
   ]
  },
  {
   "cell_type": "markdown",
   "metadata": {},
   "source": [
    "We need a method in the List Class that may count specific digits from a given list of integers. This marked digits will be given in a second list. The method .count_spec_digits()/.countSpecDigits() will accept two arguments, a list of an uncertain amount of integers integers_lists/integersLists (and of an uncertain amount of digits, too) and a second list, digits_list/digitsList that has the specific digits to count which length cannot be be longer than 10 (It's obvious, we've got ten digits). The method will output a list of tuples, each tuple having two elements, the first one will be a digit to count, and second one, its corresponding total frequency in all the integers of the first list. This list of tuples should be ordered with the same order that the digits have in digitsList\n",
    "\n",
    "Let's see some cases:'''\n",
    "\n",
    "l = List()\n",
    "\n",
    "integers_list =  [1, 1, 2 ,3 ,1 ,2 ,3 ,4]\n",
    "digits_list = [1, 3]\n",
    "l.count_spec_digits(integers_list, digits_list) == [(1, 3), (3, 2)]\n",
    "\n",
    "integers_list = [-18, -31, 81, -19, 111, -888]\n",
    "digits_list = [1, 8, 4]\n",
    "l.count_spec_digits(integers_list, digits_list) == [(1, 7), (8, 5), (4, 0)]\n",
    "\n",
    "integers_list = [-77, -65, 56, -79, 6666, 222]\n",
    "digits_list = [1, 8, 4]\n",
    "l.count_spec_digits(integers_list, digits_list) == [(1, 0), (8, 0), (4, 0)]"
   ]
  },
  {
   "cell_type": "code",
   "execution_count": 117,
   "metadata": {},
   "outputs": [
    {
     "name": "stdout",
     "output_type": "stream",
     "text": [
      "Counter({'1': 7, '8': 5, '3': 1, '9': 1})\n",
      "[(1, 7), (8, 5), (4, 0)]\n"
     ]
    }
   ],
   "source": [
    "from collections import Counter\n",
    "\n",
    "\n",
    "class Game:\n",
    "    \n",
    "    def count_spec_digits(self,integers_list, digits_list):\n",
    "        C = Counter(''.join(str(abs(a)) for a in integers_list))  #count the single integer: 18318119111888\n",
    "                                                                  #C=Counter({'1': 7, '8': 5, '3': 1, '9': 1})               \n",
    "        result= [(b, C[str(b)]) for b in digits_list]             # b=1st round 1, 2nd round 8, 3rd round 4\n",
    "        return print(result)\n",
    "\n",
    "    \n",
    "\n",
    "x=[-18, -31, 81, -19, 111, -888]\n",
    "y=[1, 8, 4]\n",
    "\n",
    "\n",
    "test=Game()\n",
    "test.count_spec_digits(x,y)\n",
    "\n"
   ]
  },
  {
   "cell_type": "markdown",
   "metadata": {},
   "source": [
    "# Task 3"
   ]
  },
  {
   "cell_type": "markdown",
   "metadata": {},
   "source": [
    "Count the number of occurrences of each character and return it as a list of tuples in order of appearance. For empty output return an empty list.\n",
    "\n",
    "Example:\n",
    "\n",
    "ordered_count(\"abracadabra\") == [('a', 5), ('b', 2), ('r', 2), ('c', 1), ('d', 1)]\n",
    "\n"
   ]
  },
  {
   "cell_type": "code",
   "execution_count": 80,
   "metadata": {},
   "outputs": [
    {
     "name": "stdout",
     "output_type": "stream",
     "text": [
      "The string you want to count the occurence of each letter: abracadabra\n",
      "[('a', 5), ('b', 2), ('r', 2), ('c', 1), ('d', 1)]\n"
     ]
    }
   ],
   "source": [
    "from collections import OrderedDict\n",
    "\n",
    "\n",
    "class Game:  \n",
    "\n",
    "    def __init__(self,string):\n",
    "        self.string=string\n",
    "        print ('The string you want to count the occurence of each letter: '+ str(self.string))\n",
    "        \n",
    "        \n",
    "    def letterOrder(self):\n",
    "        global list1\n",
    "        list1=''.join(OrderedDict.fromkeys(self.string).keys())\n",
    "        return list1\n",
    "    \n",
    "    def count(self):\n",
    "        list2=[self.string.count(i) for i in list1]\n",
    "        total = [i for i in zip(list1,list2)]\n",
    "        print(total)\n",
    "      \n",
    "    def result(self):\n",
    "        self.letterOrder()\n",
    "        self.count()\n",
    "    \n",
    "    \n",
    "sentence='abracadabra'\n",
    "    \n",
    "test=Game(sentence)\n",
    "test.result()\n",
    "\n"
   ]
  }
 ],
 "metadata": {
  "kernelspec": {
   "display_name": "Python 3",
   "language": "python",
   "name": "python3"
  },
  "language_info": {
   "codemirror_mode": {
    "name": "ipython",
    "version": 3
   },
   "file_extension": ".py",
   "mimetype": "text/x-python",
   "name": "python",
   "nbconvert_exporter": "python",
   "pygments_lexer": "ipython3",
   "version": "3.6.5"
  }
 },
 "nbformat": 4,
 "nbformat_minor": 4
}
