{
 "cells": [
  {
   "cell_type": "markdown",
   "metadata": {},
   "source": [
    "# Here below is the coding from Erin"
   ]
  },
  {
   "cell_type": "code",
   "execution_count": null,
   "metadata": {},
   "outputs": [],
   "source": [
    "print('Welcome to this calculator!')\n",
    "print('It can add and subtract whole numbers from zero to five')\n",
    "a = input('Please choose your first number (zero to five): ')\n",
    "b = input('What do you want to do? plus or minus: ')\n",
    "c = input('Please choose your second number (zero to five): ')\n",
    "dict_= {'Negative Five':-5,'Negative Four':-4,'Negative Three':-3,'Negative Two':-2,'Negative One':-1,'one':1,'two':2,'three':3,'four':4,'five':5,'zero': 0,'six':6,'seven':7,'eight':8,'nine':9,'ten':10}\n",
    "\n",
    "\n",
    "#changing from letters to numbers\n",
    "def change_from_l_2_n(k):\n",
    "    return dict_.get(k)\n",
    "\n",
    "#changing from numbers to letters\n",
    "def change_from_n_2_l(v):\n",
    "    for key, value in dict_.items(): \n",
    "         if v == value: \n",
    "            return key \n",
    "    \n",
    "#print(change_from_l_2_n(a))\n",
    "a = change_from_l_2_n(a)\n",
    "c = change_from_l_2_n(c)\n",
    "\n",
    "#print (a,b,c)\n",
    "#calculating and defining variable of solution\n",
    "if b == 'plus':\n",
    "        d= a+c\n",
    "else:\n",
    "        d= a-c\n",
    "           \n",
    "#change number to letter\n",
    "a = change_from_n_2_l(a)\n",
    "c = change_from_n_2_l(c)\n",
    "d = change_from_n_2_l(d)\n",
    "\n",
    "\n",
    "if (not a == 'zero' and not a == 'one' and not a == 'two' and not a == 'three' and not a == 'four' and not a == 'five') or (not c == 'zero' and not c == 'one' and not c == 'two' and not c == 'three' and not c == 'four' and not c == 'five') or (not b == 'plus' and not b == 'minus'):\n",
    "    print(\"I am not able to answer this question. Check your input.\")\n",
    "else:\n",
    "    print(a+' '+b+' '+c+' equals '+ d)\n",
    "       \n",
    "\n",
    "\n",
    "print(\"Thanks for using this calculator, goodbye :)\")"
   ]
  },
  {
   "cell_type": "markdown",
   "metadata": {},
   "source": [
    "# My comments"
   ]
  },
  {
   "cell_type": "markdown",
   "metadata": {},
   "source": [
    "1. Too many lines in convert Text to Digits and vice versa, there is a large space to simplify it. Maybe you can consider to use digits only at the very begining, if it is not against the desired output of this challenge.\n",
    "2. The if clause is repetitive, a space to improve\n",
    "\n"
   ]
  }
 ],
 "metadata": {
  "kernelspec": {
   "display_name": "Python 3",
   "language": "python",
   "name": "python3"
  },
  "language_info": {
   "codemirror_mode": {
    "name": "ipython",
    "version": 3
   },
   "file_extension": ".py",
   "mimetype": "text/x-python",
   "name": "python",
   "nbconvert_exporter": "python",
   "pygments_lexer": "ipython3",
   "version": "3.6.5"
  }
 },
 "nbformat": 4,
 "nbformat_minor": 4
}
