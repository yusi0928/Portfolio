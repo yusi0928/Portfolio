{
 "cells": [
  {
   "cell_type": "code",
   "execution_count": 18,
   "metadata": {},
   "outputs": [
    {
     "name": "stdout",
     "output_type": "stream",
     "text": [
      "Enter minimum string length: 4\n",
      "Enter maximum string length: 5\n",
      "How many random strings to generate? 6\n"
     ]
    },
    {
     "data": {
      "text/plain": [
       "['xb0n', 'zc8u', 'd3pbz', '67r1w', 'nyt4', 'ggcpk']"
      ]
     },
     "execution_count": 18,
     "metadata": {},
     "output_type": "execute_result"
    }
   ],
   "source": [
    "import random\n",
    "import string\n",
    "import sys\n",
    "\n",
    "\n",
    "lst=list(string.ascii_lowercase+string.digits)\n",
    "\n",
    "def RandomStringGenerator(a,b):   \n",
    "    s=[]\n",
    "    for i in range(random.randint(a,b)):\n",
    "        s.append(random.choice(lst))\n",
    "    return ''.join(s)\n",
    "\n",
    "\n",
    "def BatchStringGenerator(a,b,n):\n",
    "    a = int(input('Enter minimum string length: '))\n",
    "    b = int(input('Enter maximum string length: '))\n",
    "    n = int(input('How many random strings to generate? '))\n",
    "    \n",
    "    r = []\n",
    "    if a<2 or b<2 or a>b:\n",
    "        sys.exit('Incorrect min and max string lengths. Try again.')\n",
    "    else:\n",
    "        for i in range(n):\n",
    "            r.append(RandomStringGenerator(a,b))\n",
    "        return r\n",
    "\n",
    "    \n",
    "BatchStringGenerator(a,b,n) \n"
   ]
  }
 ],
 "metadata": {
  "kernelspec": {
   "display_name": "Python 3",
   "language": "python",
   "name": "python3"
  },
  "language_info": {
   "codemirror_mode": {
    "name": "ipython",
    "version": 3
   },
   "file_extension": ".py",
   "mimetype": "text/x-python",
   "name": "python",
   "nbconvert_exporter": "python",
   "pygments_lexer": "ipython3",
   "version": "3.6.5"
  }
 },
 "nbformat": 4,
 "nbformat_minor": 4
}
