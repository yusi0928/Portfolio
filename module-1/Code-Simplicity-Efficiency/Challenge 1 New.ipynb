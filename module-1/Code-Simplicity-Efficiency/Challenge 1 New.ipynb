{
 "cells": [
  {
   "cell_type": "code",
   "execution_count": 8,
   "metadata": {},
   "outputs": [
    {
     "name": "stdout",
     "output_type": "stream",
     "text": [
      "Welcome to this calculator!\n",
      "It can add and subtract whole numbers from 0 to 5.\n",
      "Please choose your first number (0 to 5): 4\n",
      "What do you want to do? + or -: ]\n",
      "Please choose your second number (0 to 5): 10\n",
      "I am not able to answer this question. Check your input.\n"
     ]
    }
   ],
   "source": [
    "print('Welcome to this calculator!\\nIt can add and subtract whole numbers from 0 to 5.')\n",
    "\n",
    "def calculator():\n",
    "    a = input('Please choose your first number (0 to 5): ')\n",
    "    b = input('What do you want to do? + or -: ')\n",
    "    c = input('Please choose your second number (0 to 5): ')\n",
    "\n",
    "    if 0<= int(a) <=5 and 0<= int(c) <=5 and (b=='+'or b=='-'):\n",
    "        if b=='+':\n",
    "            d=int(a)+int(c)\n",
    "        if b=='-':\n",
    "            d=int(a)-int(c)\n",
    "        print('%s%s%s=%d'%(a,b,c,d))\n",
    "        \n",
    "    else:\n",
    "        print('I am not able to answer this question. Check your input.')\n",
    "        \n",
    "calculator()"
   ]
  },
  {
   "cell_type": "code",
   "execution_count": null,
   "metadata": {},
   "outputs": [],
   "source": []
  }
 ],
 "metadata": {
  "kernelspec": {
   "display_name": "Python 3",
   "language": "python",
   "name": "python3"
  },
  "language_info": {
   "codemirror_mode": {
    "name": "ipython",
    "version": 3
   },
   "file_extension": ".py",
   "mimetype": "text/x-python",
   "name": "python",
   "nbconvert_exporter": "python",
   "pygments_lexer": "ipython3",
   "version": "3.6.5"
  }
 },
 "nbformat": 4,
 "nbformat_minor": 4
}
