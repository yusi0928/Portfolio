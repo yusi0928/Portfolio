{
 "cells": [
  {
   "cell_type": "markdown",
   "metadata": {},
   "source": [
    "# StackAPI\n",
    "\n",
    "#### Import the necessary libraries here:"
   ]
  },
  {
   "cell_type": "code",
   "execution_count": 31,
   "metadata": {},
   "outputs": [],
   "source": [
    "from stackapi import StackAPI\n",
    "import pandas as pd\n",
    "import numpy as np\n",
    "import json\n",
    "import requests\n",
    "from pandas.io.json import json_normalize\n",
    "from datetime import datetime\n",
    "\n",
    "\n",
    "#https://stackapi.readthedocs.io/en/latest/user/complex.html rules\n",
    "#https://github.com/realpython/list-of-python-api-wrappers  other API wrappers\n",
    "\n",
    "#https://api.stackexchange.com/2.2/sites   json site browser\n"
   ]
  },
  {
   "cell_type": "markdown",
   "metadata": {},
   "source": [
    "#### Question 1: Find the questions and answers of last month."
   ]
  },
  {
   "cell_type": "code",
   "execution_count": 39,
   "metadata": {},
   "outputs": [
    {
     "data": {
      "text/plain": [
       "500"
      ]
     },
     "execution_count": 39,
     "metadata": {},
     "output_type": "execute_result"
    }
   ],
   "source": [
    "SITE = StackAPI('stackoverflow')\n",
    "# SITE.max_pages=10\n",
    "questions = SITE.fetch('answers', fromdate=datetime(2020,4,1), todate=datetime(2020,4,30))   \n",
    "questions \n",
    "len(questions['items'])\n",
    "\n"
   ]
  },
  {
   "cell_type": "markdown",
   "metadata": {},
   "source": [
    "#### Question 2: Find the most voted question today with at least a score of 5 and tagged with 'python'. "
   ]
  },
  {
   "cell_type": "code",
   "execution_count": 56,
   "metadata": {},
   "outputs": [
    {
     "data": {
      "text/plain": [
       "{'backoff': 0,\n",
       " 'has_more': False,\n",
       " 'page': 1,\n",
       " 'quota_max': 300,\n",
       " 'quota_remaining': 300,\n",
       " 'total': 0,\n",
       " 'items': []}"
      ]
     },
     "execution_count": 56,
     "metadata": {},
     "output_type": "execute_result"
    }
   ],
   "source": [
    "SITE = StackAPI('stackoverflow')\n",
    "questions_vote = SITE.fetch('answers', fromdate=datetime(2020,5,20), todate=datetime(2020,5,20),min=5, tagged='python')\n",
    "questions_vote\n"
   ]
  },
  {
   "cell_type": "markdown",
   "metadata": {},
   "source": [
    "#### Question 3: Find the answers with id 6784 and 6473."
   ]
  },
  {
   "cell_type": "code",
   "execution_count": 54,
   "metadata": {},
   "outputs": [
    {
     "data": {
      "text/plain": [
       "{'backoff': 0,\n",
       " 'has_more': False,\n",
       " 'page': 1,\n",
       " 'quota_max': 300,\n",
       " 'quota_remaining': 300,\n",
       " 'total': 0,\n",
       " 'items': [{'owner': {'reputation': 5089,\n",
       "    'user_id': 386,\n",
       "    'user_type': 'registered',\n",
       "    'accept_rate': 80,\n",
       "    'profile_image': 'https://www.gravatar.com/avatar/99660662e89949a4b53cd97bc199ead1?s=128&d=identicon&r=PG',\n",
       "    'display_name': 'Paul Tomblin',\n",
       "    'link': 'https://serverfault.com/users/386/paul-tomblin'},\n",
       "   'score': 2,\n",
       "   'last_activity_date': 1241958980,\n",
       "   'creation_date': 1241958980,\n",
       "   'post_type': 'answer',\n",
       "   'post_id': 6784,\n",
       "   'content_license': 'CC BY-SA 2.5',\n",
       "   'link': 'https://serverfault.com/a/6784'}]}"
      ]
     },
     "execution_count": 54,
     "metadata": {},
     "output_type": "execute_result"
    }
   ],
   "source": [
    "SITE = StackAPI('serverfault')\n",
    "post = SITE.fetch('posts', ids=[6784])\n",
    "post\n",
    "    "
   ]
  }
 ],
 "metadata": {
  "kernelspec": {
   "display_name": "Python 3",
   "language": "python",
   "name": "python3"
  },
  "language_info": {
   "codemirror_mode": {
    "name": "ipython",
    "version": 3
   },
   "file_extension": ".py",
   "mimetype": "text/x-python",
   "name": "python",
   "nbconvert_exporter": "python",
   "pygments_lexer": "ipython3",
   "version": "3.6.5"
  }
 },
 "nbformat": 4,
 "nbformat_minor": 2
}
