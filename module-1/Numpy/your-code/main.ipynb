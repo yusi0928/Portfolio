{
 "cells": [
  {
   "cell_type": "markdown",
   "metadata": {},
   "source": [
    "# Introduction to NumPy\n",
    "\n",
    "\n",
    "#### 1. Import NumPy under the name np."
   ]
  },
  {
   "cell_type": "code",
   "execution_count": 55,
   "metadata": {},
   "outputs": [],
   "source": [
    "import numpy as np"
   ]
  },
  {
   "cell_type": "markdown",
   "metadata": {},
   "source": [
    "#### 2. Print your NumPy version."
   ]
  },
  {
   "cell_type": "code",
   "execution_count": 56,
   "metadata": {},
   "outputs": [
    {
     "name": "stdout",
     "output_type": "stream",
     "text": [
      "1.18.1\n"
     ]
    }
   ],
   "source": [
    "print(np.__version__)"
   ]
  },
  {
   "cell_type": "markdown",
   "metadata": {},
   "source": [
    "#### 3. Generate a 2x3x5 3-dimensional array with random values. Assign the array to variable *a*.\n",
    "**Challenge**: there are at least three easy ways that use numpy to generate random arrays. How many ways can you find?"
   ]
  },
  {
   "cell_type": "code",
   "execution_count": 57,
   "metadata": {},
   "outputs": [
    {
     "name": "stdout",
     "output_type": "stream",
     "text": [
      "[[[0.71989595 0.73803405 0.90993227 0.10592884 0.46857519]\n",
      "  [0.27757189 0.20076459 0.25995467 0.56430451 0.92100504]\n",
      "  [0.91418395 0.61447732 0.82257942 0.35622363 0.17242895]]\n",
      "\n",
      " [[0.02405377 0.48309757 0.67418038 0.57787161 0.53184059]\n",
      "  [0.52447741 0.69995403 0.56697107 0.61836365 0.52547563]\n",
      "  [0.67672291 0.75377983 0.27761564 0.5883783  0.24825557]]]\n"
     ]
    }
   ],
   "source": [
    "# Method 1\n",
    "a=np.random.random((2,3,5))\n",
    "print(a)"
   ]
  },
  {
   "cell_type": "code",
   "execution_count": 58,
   "metadata": {},
   "outputs": [
    {
     "name": "stdout",
     "output_type": "stream",
     "text": [
      "[[[0.59819529 0.76148441 0.42722831 0.40834002 0.88045934]\n",
      "  [0.10309774 0.32962232 0.95818893 0.2688292  0.04226258]\n",
      "  [0.04561535 0.04974134 0.08696339 0.11966654 0.11459325]]\n",
      "\n",
      " [[0.77586574 0.9730865  0.99318257 0.19301275 0.28229872]\n",
      "  [0.00920006 0.35753983 0.79842618 0.37467182 0.36246624]\n",
      "  [0.8098754  0.19861949 0.79205346 0.250563   0.42077379]]]\n"
     ]
    }
   ],
   "source": [
    "# Method 2\n",
    "\n",
    "a=np.random.rand(2,3,5)\n",
    "print(a)\n",
    "\n"
   ]
  },
  {
   "cell_type": "code",
   "execution_count": 59,
   "metadata": {},
   "outputs": [
    {
     "name": "stdout",
     "output_type": "stream",
     "text": [
      "[[[0.59819529 0.76148441 0.42722831 0.40834002 0.88045934]\n",
      "  [0.10309774 0.32962232 0.95818893 0.2688292  0.04226258]\n",
      "  [0.04561535 0.04974134 0.08696339 0.11966654 0.11459325]]\n",
      "\n",
      " [[0.77586574 0.9730865  0.99318257 0.19301275 0.28229872]\n",
      "  [0.00920006 0.35753983 0.79842618 0.37467182 0.36246624]\n",
      "  [0.8098754  0.19861949 0.79205346 0.250563   0.42077379]]]\n"
     ]
    }
   ],
   "source": [
    "# Method 3\n",
    "\n",
    "a=np.empty((2,3,5))\n",
    "print(a)"
   ]
  },
  {
   "cell_type": "markdown",
   "metadata": {},
   "source": [
    "#### 4. Print *a*.\n"
   ]
  },
  {
   "cell_type": "code",
   "execution_count": 60,
   "metadata": {},
   "outputs": [
    {
     "name": "stdout",
     "output_type": "stream",
     "text": [
      "[[[0.59819529 0.76148441 0.42722831 0.40834002 0.88045934]\n",
      "  [0.10309774 0.32962232 0.95818893 0.2688292  0.04226258]\n",
      "  [0.04561535 0.04974134 0.08696339 0.11966654 0.11459325]]\n",
      "\n",
      " [[0.77586574 0.9730865  0.99318257 0.19301275 0.28229872]\n",
      "  [0.00920006 0.35753983 0.79842618 0.37467182 0.36246624]\n",
      "  [0.8098754  0.19861949 0.79205346 0.250563   0.42077379]]]\n"
     ]
    }
   ],
   "source": [
    "print(a)"
   ]
  },
  {
   "cell_type": "code",
   "execution_count": 61,
   "metadata": {},
   "outputs": [],
   "source": [
    "# 5. Create a 5x2x3 3-dimensional array with all values equaling 1. Assign the array to variable *b*."
   ]
  },
  {
   "cell_type": "code",
   "execution_count": 62,
   "metadata": {},
   "outputs": [],
   "source": [
    "b=np.ones((5,2,3),dtype = float)"
   ]
  },
  {
   "cell_type": "markdown",
   "metadata": {},
   "source": [
    "#### 6. Print *b*.\n"
   ]
  },
  {
   "cell_type": "code",
   "execution_count": 63,
   "metadata": {},
   "outputs": [
    {
     "name": "stdout",
     "output_type": "stream",
     "text": [
      "[[[1. 1. 1.]\n",
      "  [1. 1. 1.]]\n",
      "\n",
      " [[1. 1. 1.]\n",
      "  [1. 1. 1.]]\n",
      "\n",
      " [[1. 1. 1.]\n",
      "  [1. 1. 1.]]\n",
      "\n",
      " [[1. 1. 1.]\n",
      "  [1. 1. 1.]]\n",
      "\n",
      " [[1. 1. 1.]\n",
      "  [1. 1. 1.]]]\n"
     ]
    }
   ],
   "source": [
    "print(b)"
   ]
  },
  {
   "cell_type": "markdown",
   "metadata": {},
   "source": [
    "#### 7. Do *a* and *b* have the same size? How do you prove that in Python code?"
   ]
  },
  {
   "cell_type": "code",
   "execution_count": 64,
   "metadata": {},
   "outputs": [
    {
     "name": "stdout",
     "output_type": "stream",
     "text": [
      "True\n"
     ]
    }
   ],
   "source": [
    "print(a.size==b.size)\n"
   ]
  },
  {
   "cell_type": "markdown",
   "metadata": {},
   "source": [
    "#### 8. Are you able to add *a* and *b*? Why or why not?\n"
   ]
  },
  {
   "cell_type": "code",
   "execution_count": 65,
   "metadata": {},
   "outputs": [],
   "source": [
    "# print(np.add(a,b))\n",
    "\n",
    "# Can't add up a and b, because these 2 arrays have different shapes\n"
   ]
  },
  {
   "cell_type": "markdown",
   "metadata": {},
   "source": [
    "#### 9. Transpose *b* so that it has the same structure of *a* (i.e. become a 2x3x5 array). Assign the transposed array to variable *c*."
   ]
  },
  {
   "cell_type": "code",
   "execution_count": 66,
   "metadata": {},
   "outputs": [
    {
     "name": "stdout",
     "output_type": "stream",
     "text": [
      "[[[1. 1. 1. 1. 1.]\n",
      "  [1. 1. 1. 1. 1.]\n",
      "  [1. 1. 1. 1. 1.]]\n",
      "\n",
      " [[1. 1. 1. 1. 1.]\n",
      "  [1. 1. 1. 1. 1.]\n",
      "  [1. 1. 1. 1. 1.]]]\n"
     ]
    }
   ],
   "source": [
    "# your code here\n",
    "\n",
    "c=np.reshape(b,((2,3,5)))\n",
    "print(c)\n",
    "\n",
    "\n"
   ]
  },
  {
   "cell_type": "markdown",
   "metadata": {},
   "source": [
    "#### 10. Try to add *a* and *c*. Now it should work. Assign the sum to variable *d*. But why does it work now?"
   ]
  },
  {
   "cell_type": "code",
   "execution_count": 67,
   "metadata": {},
   "outputs": [
    {
     "name": "stdout",
     "output_type": "stream",
     "text": [
      "[[[1.59819529 1.76148441 1.42722831 1.40834002 1.88045934]\n",
      "  [1.10309774 1.32962232 1.95818893 1.2688292  1.04226258]\n",
      "  [1.04561535 1.04974134 1.08696339 1.11966654 1.11459325]]\n",
      "\n",
      " [[1.77586574 1.9730865  1.99318257 1.19301275 1.28229872]\n",
      "  [1.00920006 1.35753983 1.79842618 1.37467182 1.36246624]\n",
      "  [1.8098754  1.19861949 1.79205346 1.250563   1.42077379]]]\n"
     ]
    }
   ],
   "source": [
    "# a's shape=(2,3,5)\n",
    "# b's shape=(5,2,3) --> reshape (2,3,5)=c\n",
    "# a and c have the same shape, thus they can add up to d\n",
    "\n",
    "\n",
    "d=np.add(a,c)\n",
    "print(d)\n"
   ]
  },
  {
   "cell_type": "markdown",
   "metadata": {},
   "source": [
    "#### 11. Print *a* and *d*. Notice the difference and relation of the two array in terms of the values? Explain."
   ]
  },
  {
   "cell_type": "code",
   "execution_count": 68,
   "metadata": {},
   "outputs": [
    {
     "name": "stdout",
     "output_type": "stream",
     "text": [
      "[[[0.59819529 0.76148441 0.42722831 0.40834002 0.88045934]\n",
      "  [0.10309774 0.32962232 0.95818893 0.2688292  0.04226258]\n",
      "  [0.04561535 0.04974134 0.08696339 0.11966654 0.11459325]]\n",
      "\n",
      " [[0.77586574 0.9730865  0.99318257 0.19301275 0.28229872]\n",
      "  [0.00920006 0.35753983 0.79842618 0.37467182 0.36246624]\n",
      "  [0.8098754  0.19861949 0.79205346 0.250563   0.42077379]]]\n",
      "--------------------------------------------------------------------------------\n",
      "[[[1.59819529 1.76148441 1.42722831 1.40834002 1.88045934]\n",
      "  [1.10309774 1.32962232 1.95818893 1.2688292  1.04226258]\n",
      "  [1.04561535 1.04974134 1.08696339 1.11966654 1.11459325]]\n",
      "\n",
      " [[1.77586574 1.9730865  1.99318257 1.19301275 1.28229872]\n",
      "  [1.00920006 1.35753983 1.79842618 1.37467182 1.36246624]\n",
      "  [1.8098754  1.19861949 1.79205346 1.250563   1.42077379]]]\n"
     ]
    }
   ],
   "source": [
    "print(a)\n",
    "print('--'*40)\n",
    "print(d)"
   ]
  },
  {
   "cell_type": "markdown",
   "metadata": {},
   "source": [
    "#### 12. Multiply *a* and *c*. Assign the result to *e*."
   ]
  },
  {
   "cell_type": "code",
   "execution_count": 69,
   "metadata": {},
   "outputs": [
    {
     "name": "stdout",
     "output_type": "stream",
     "text": [
      "[[[0.59819529 0.76148441 0.42722831 0.40834002 0.88045934]\n",
      "  [0.10309774 0.32962232 0.95818893 0.2688292  0.04226258]\n",
      "  [0.04561535 0.04974134 0.08696339 0.11966654 0.11459325]]\n",
      "\n",
      " [[0.77586574 0.9730865  0.99318257 0.19301275 0.28229872]\n",
      "  [0.00920006 0.35753983 0.79842618 0.37467182 0.36246624]\n",
      "  [0.8098754  0.19861949 0.79205346 0.250563   0.42077379]]]\n"
     ]
    }
   ],
   "source": [
    "e=np.multiply(a,c)\n",
    "\n",
    "print(e)"
   ]
  },
  {
   "cell_type": "markdown",
   "metadata": {},
   "source": [
    "#### 13. Does *e* equal to *a*? Why or why not?\n"
   ]
  },
  {
   "cell_type": "code",
   "execution_count": 70,
   "metadata": {},
   "outputs": [
    {
     "name": "stdout",
     "output_type": "stream",
     "text": [
      "[[[ True  True  True  True  True]\n",
      "  [ True  True  True  True  True]\n",
      "  [ True  True  True  True  True]]\n",
      "\n",
      " [[ True  True  True  True  True]\n",
      "  [ True  True  True  True  True]\n",
      "  [ True  True  True  True  True]]]\n"
     ]
    }
   ],
   "source": [
    "print(e==a)\n",
    "#print(np.sum(e)==np.sum(a))"
   ]
  },
  {
   "cell_type": "markdown",
   "metadata": {},
   "source": [
    "#### 14. Identify the max, min, and mean values in *d*. Assign those values to variables *d_max*, *d_min* and *d_mean*."
   ]
  },
  {
   "cell_type": "code",
   "execution_count": 71,
   "metadata": {},
   "outputs": [
    {
     "name": "stdout",
     "output_type": "stream",
     "text": [
      "1.993182572084803\n",
      "1.0092000597489976\n",
      "1.4261974524914283\n"
     ]
    }
   ],
   "source": [
    "d_max=np.max(d)\n",
    "d_min=np.min(d)\n",
    "d_mean=np.mean(d)\n",
    "\n",
    "print(d_max)\n",
    "print(d_min)\n",
    "print(d_mean)"
   ]
  },
  {
   "cell_type": "markdown",
   "metadata": {},
   "source": [
    "#### 15. Now we want to label the values in *d*. First create an empty array *f* with the same shape (i.e. 2x3x5) as *d* using `np.empty`.\n"
   ]
  },
  {
   "cell_type": "code",
   "execution_count": 72,
   "metadata": {},
   "outputs": [
    {
     "name": "stdout",
     "output_type": "stream",
     "text": [
      "[[[0.59819529 0.76148441 0.42722831 0.40834002 0.88045934]\n",
      "  [0.10309774 0.32962232 0.95818893 0.2688292  0.04226258]\n",
      "  [0.04561535 0.04974134 0.08696339 0.11966654 0.11459325]]\n",
      "\n",
      " [[0.77586574 0.9730865  0.99318257 0.19301275 0.28229872]\n",
      "  [0.00920006 0.35753983 0.79842618 0.37467182 0.36246624]\n",
      "  [0.8098754  0.19861949 0.79205346 0.250563   0.42077379]]]\n"
     ]
    }
   ],
   "source": [
    "\n",
    "f=np.empty((2,3,5),dtype=float,order='C')\n",
    "\n",
    "print(f)"
   ]
  },
  {
   "cell_type": "markdown",
   "metadata": {},
   "source": [
    "#### 16. Populate the values in *f*. \n",
    "\n",
    "For each value in *d*, if it's larger than *d_min* but smaller than *d_mean*, assign 25 to the corresponding value in *f*. If a value in *d* is larger than *d_mean* but smaller than *d_max*, assign 75 to the corresponding value in *f*. If a value equals to *d_mean*, assign 50 to the corresponding value in *f*. Assign 0 to the corresponding value(s) in *f* for *d_min* in *d*. Assign 100 to the corresponding value(s) in *f* for *d_max* in *d*. In the end, f should have only the following values: 0, 25, 50, 75, and 100.\n",
    "\n",
    "**Note**: you don't have to use Numpy in this question."
   ]
  },
  {
   "cell_type": "code",
   "execution_count": 79,
   "metadata": {},
   "outputs": [],
   "source": [
    "# For each value in d, if it's larger than d_min but smaller than d_mean, assign 25 to the corresponding value in f. \n",
    "\n",
    "f[(d > d_min)&(d< d_mean)]=25\n",
    "\n",
    "\n",
    "\n",
    "\n",
    "\n",
    "\n",
    "# If a value in d is larger than d_mean but smaller than d_max, assign 75 to the corresponding value in f.\n",
    "\n",
    "f[(d < d_max)&(d> d_mean)]=75\n",
    "\n",
    "\n",
    "\n",
    "\n",
    "# If a value equals to d_mean, assign 50 to the corresponding value in f. \n",
    "\n",
    "f[d==d_mean]=50\n",
    "\n",
    "\n",
    "\n",
    " \n",
    "# Assign 0 to the corresponding value(s) in f for d_min in d. \n",
    "    \n",
    "f[d==d_min]=0\n",
    "\n",
    "\n",
    "\n",
    "\n",
    "# Assign 100 to the corresponding value(s) in f for d_max in d\n",
    "f[d==d_max]=100\n"
   ]
  },
  {
   "cell_type": "markdown",
   "metadata": {},
   "source": [
    "#### 17. Print *d* and *f*. Do you have your expected *f*?\n",
    "For instance, if your *d* is:\n",
    "```python\n",
    "[[[1.85836099, 1.67064465, 1.62576044, 1.40243961, 1.88454931],\n",
    "[1.75354326, 1.69403643, 1.36729252, 1.61415071, 1.12104981],\n",
    "[1.72201435, 1.1862918 , 1.87078449, 1.7726778 , 1.88180042]],\n",
    "[[1.44747908, 1.31673383, 1.02000951, 1.52218947, 1.97066381],\n",
    "[1.79129243, 1.74983003, 1.96028037, 1.85166831, 1.65450881],\n",
    "[1.18068344, 1.9587381 , 1.00656599, 1.93402165, 1.73514584]]]\n",
    "```\n",
    "Your *f* should be:\n",
    "```python\n",
    "[[[ 75.,  75.,  75.,  25.,  75.],\n",
    "[ 75.,  75.,  25.,  25.,  25.],\n",
    "[ 75.,  25.,  75.,  75.,  75.]],\n",
    "[[ 25.,  25.,  25.,  25., 100.],\n",
    "[ 75.,  75.,  75.,  75.,  75.],\n",
    "[ 25.,  75.,   0.,  75.,  75.]]]\n",
    "```"
   ]
  },
  {
   "cell_type": "code",
   "execution_count": 80,
   "metadata": {},
   "outputs": [
    {
     "name": "stdout",
     "output_type": "stream",
     "text": [
      "[[[1.59819529 1.76148441 1.42722831 1.40834002 1.88045934]\n",
      "  [1.10309774 1.32962232 1.95818893 1.2688292  1.04226258]\n",
      "  [1.04561535 1.04974134 1.08696339 1.11966654 1.11459325]]\n",
      "\n",
      " [[1.77586574 1.9730865  1.99318257 1.19301275 1.28229872]\n",
      "  [1.00920006 1.35753983 1.79842618 1.37467182 1.36246624]\n",
      "  [1.8098754  1.19861949 1.79205346 1.250563   1.42077379]]]\n",
      "\n",
      "\n",
      "[[['75' '75' '75' '25' '75']\n",
      "  ['25' '25' '75' '25' '25']\n",
      "  ['25' '25' '25' '25' '25']]\n",
      "\n",
      " [['75' '75' '100' '25' '25']\n",
      "  ['0' '25' '75' '25' '25']\n",
      "  ['75' '25' '75' '25' '25']]]\n"
     ]
    }
   ],
   "source": [
    "print(d)\n",
    "\n",
    "print('\\n')\n",
    "\n",
    "print(f)"
   ]
  },
  {
   "cell_type": "markdown",
   "metadata": {},
   "source": [
    "#### 18. Bonus question: instead of using numbers (i.e. 0, 25, 50, 75, and 100), use string values  (\"A\", \"B\", \"C\", \"D\", and \"E\") to label the array elements. For the example above, the expected result is:\n",
    "\n",
    "```python\n",
    "[[[ 'D',  'D',  'D',  'B',  'D'],\n",
    "[ 'D',  'D',  'B',  'B',  'B'],\n",
    "[ 'D',  'B',  'D',  'D',  'D']],\n",
    "[[ 'B',  'B',  'B',  'B',  'E'],\n",
    "[ 'D',  'D',  'D',  'D',  'D'],\n",
    "[ 'B',  'D',   'A',  'D', 'D']]]\n",
    "```\n",
    "**Note**: you don't have to use Numpy in this question."
   ]
  },
  {
   "cell_type": "code",
   "execution_count": 83,
   "metadata": {},
   "outputs": [],
   "source": [
    "f=d.astype(np.str)\n"
   ]
  }
 ],
 "metadata": {
  "kernelspec": {
   "display_name": "Python 3",
   "language": "python",
   "name": "python3"
  },
  "language_info": {
   "codemirror_mode": {
    "name": "ipython",
    "version": 3
   },
   "file_extension": ".py",
   "mimetype": "text/x-python",
   "name": "python",
   "nbconvert_exporter": "python",
   "pygments_lexer": "ipython3",
   "version": "3.6.5"
  }
 },
 "nbformat": 4,
 "nbformat_minor": 2
}
