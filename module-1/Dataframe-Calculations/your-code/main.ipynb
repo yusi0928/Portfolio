{
 "cells": [
  {
   "cell_type": "markdown",
   "metadata": {},
   "source": [
    "# Mandatory Challenge\n",
    "## Context\n",
    "You work in the data analysis team of a very important company. On Monday, the company shares some good news with you: you just got hired by a major retail company! So, let's get prepared for a huge amount of work!\n",
    "\n",
    "Then you get to work with your team and define the following tasks to perform:   \n",
    "1. You need to start your analysis using data from the past.  \n",
    "2. You need to define a process that takes your daily data as an input and integrates it.  \n",
    "\n",
    "You are in charge of the second part, so you are provided with a sample file that you will have to read daily. To complete you task, you need the following aggregates:\n",
    "* One aggregate per store that adds up the rest of the values.\n",
    "* One aggregate per item that adds up the rest of the values.\n",
    "\n",
    "You can import the dataset `warehouse_and_retail_sales` from Ironhack's database. \n",
    "\n",
    "## Your task\n",
    "Therefore, your process will consist of the following steps:\n",
    "1. Read the sample file that a daily process will save in your folder. \n",
    "2. Clean up the data.\n",
    "3. Create the aggregates.\n",
    "4. Write three tables in your local database: \n",
    "    - A table for the cleaned data.\n",
    "    - A table for the aggregate per supplier.\n",
    "    - A table for the aggregate per item.\n",
    "\n",
    "## Instructions\n",
    "* Read the csv you can find in Ironhack's database.\n",
    "* Clean the data and create the aggregates as you consider.\n",
    "* Create the tables in your local database.\n",
    "* Populate them with your process."
   ]
  },
  {
   "cell_type": "code",
   "execution_count": 69,
   "metadata": {},
   "outputs": [
    {
     "data": {
      "text/plain": [
       "(128355, 9)"
      ]
     },
     "execution_count": 69,
     "metadata": {},
     "output_type": "execute_result"
    }
   ],
   "source": [
    "import numpy as np\n",
    "import pandas as pd\n",
    "from scipy import stats\n",
    "\n",
    "data=pd.read_csv('../Warehouse_and_Retail_Sales.csv')\n",
    "data.head(20)\n",
    "data.shape\n",
    "\n"
   ]
  },
  {
   "cell_type": "code",
   "execution_count": 70,
   "metadata": {},
   "outputs": [
    {
     "data": {
      "text/plain": [
       "YEAR                0\n",
       "MONTH               0\n",
       "SUPPLIER            0\n",
       "ITEM CODE           0\n",
       "ITEM DESCRIPTION    0\n",
       "ITEM TYPE           0\n",
       "RETAIL SALES        0\n",
       "RETAIL TRANSFERS    0\n",
       "WAREHOUSE SALES     0\n",
       "dtype: int64"
      ]
     },
     "execution_count": 70,
     "metadata": {},
     "output_type": "execute_result"
    }
   ],
   "source": [
    "#【Clean】Check null values in the dataframe, 24 suppliers are null, 1 item type is null.It makes no sense that they are null, drop them\n",
    "\n",
    "\n",
    "null_sup=data.loc[data['SUPPLIER'].isnull()].index\n",
    "null_item=data.loc[data['ITEM TYPE'].isnull()].index\n",
    "    \n",
    "data=data.drop(null_sup)\n",
    "data=data.drop(null_item)\n",
    "    \n",
    "data.isnull().sum()\n",
    "\n"
   ]
  },
  {
   "cell_type": "code",
   "execution_count": 71,
   "metadata": {},
   "outputs": [],
   "source": [
    "# 【Clean】It is impossible that the sales value are negative，turn negative to positive\n",
    "\n",
    "data['WAREHOUSE SALES'] = data['WAREHOUSE SALES'].abs() \n",
    "data['RETAIL SALES']=data['RETAIL SALES'].abs() \n",
    "data['RETAIL TRANSFERS'] =data['RETAIL TRANSFERS'].abs()  \n",
    "\n",
    "\n",
    "# Capitalize the first letter in the column\n",
    "data['ITEM DESCRIPTION'] = data['ITEM DESCRIPTION'].str.capitalize()\n",
    "\n",
    "data['SUPPLIER'] = data['SUPPLIER'].str.title()\n",
    "\n",
    "# 【Clean】I tried to drop the outliers, but \n",
    "\n",
    "# Q1 = data.quantile(0.25)\n",
    "# Q3 = data.quantile(0.75)\n",
    "# IQR = Q3 - Q1\n",
    "\n",
    "# data = data[~((data < (Q1 - 1.5 * IQR)) |(data > (Q3 + 1.5 * IQR))).any(axis=1)]\n",
    "# data.shape\n",
    "# data.head()\n",
    "\n",
    "# A table for cleaned data\n",
    "data.to_csv('../clean_table.csv',index=False)"
   ]
  },
  {
   "cell_type": "code",
   "execution_count": 72,
   "metadata": {},
   "outputs": [
    {
     "name": "stderr",
     "output_type": "stream",
     "text": [
      "/Library/Frameworks/Python.framework/Versions/3.6/lib/python3.6/site-packages/ipykernel_launcher.py:9: FutureWarning: Indexing with multiple keys (implicitly converted to a tuple of keys) will be deprecated, use a list instead.\n",
      "  if __name__ == '__main__':\n"
     ]
    }
   ],
   "source": [
    "# A table for the aggregate per supplier.\n",
    "set(data['SUPPLIER'])\n",
    "data_sup=data[['SUPPLIER','YEAR','MONTH','ITEM TYPE','ITEM CODE','ITEM DESCRIPTION','RETAIL SALES','RETAIL TRANSFERS','WAREHOUSE SALES']]\n",
    "data_sup.describe()\n",
    "\n",
    "\n",
    "\n",
    "#based on suppliers, aggregate 3 different columns and compute their sum\n",
    "table_sup=data_sup.groupby(['SUPPLIER'])['RETAIL SALES','RETAIL TRANSFERS','WAREHOUSE SALES'].sum().reset_index()\n",
    "\n",
    "\n",
    "\n",
    "# Sum up the total sales values, and create a new column name 'SUM'\n",
    "table_sup['SUM']=table_sup.sum(axis=1)\n",
    "\n",
    "\n",
    "\n",
    "# Change other 3 columns names\n",
    "table_sup=table_sup.rename(columns={'RETAIL SALES':'TOTAL RETAIL SALES','RETAIL TRANSFERS':'TOTAL RETAIL TRANSFERS','WAREHOUSE SALES':'TOTAL WAREHOUSE SALES'})\n",
    "table_sup.columns\n",
    "\n",
    "\n",
    "# Rank the 'SUPPLIER' based on SUM of all sales values\n",
    "table_sup=table_sup.sort_values(by='SUM', ascending=False)\n",
    "\n",
    "table_sup.to_csv('../supplier_table.csv',index=False)\n",
    "\n",
    "\n",
    "\n",
    "\n"
   ]
  },
  {
   "cell_type": "code",
   "execution_count": 73,
   "metadata": {},
   "outputs": [
    {
     "name": "stderr",
     "output_type": "stream",
     "text": [
      "/Library/Frameworks/Python.framework/Versions/3.6/lib/python3.6/site-packages/ipykernel_launcher.py:13: FutureWarning: Indexing with multiple keys (implicitly converted to a tuple of keys) will be deprecated, use a list instead.\n",
      "  del sys.path[0]\n"
     ]
    }
   ],
   "source": [
    "# A table for the aggregate per item.\n",
    "\n",
    "# Check the types of items\n",
    "set(data['ITEM TYPE'])\n",
    "\n",
    "\n",
    "# Change the order of 'ITEM TYPE' to the first column\n",
    "data_item=data[['ITEM TYPE','ITEM DESCRIPTION','ITEM CODE','SUPPLIER','YEAR','MONTH','RETAIL SALES','RETAIL TRANSFERS','WAREHOUSE SALES']]\n",
    "data_item.head()\n",
    "\n",
    "\n",
    "# Based on ITEM TYPE, aggregate 3 different columns and compute their sum\n",
    "table_item=data_item.groupby(['ITEM TYPE'])['RETAIL SALES','RETAIL TRANSFERS','WAREHOUSE SALES'].sum().reset_index()\n",
    "\n",
    "\n",
    "# To sum up the total sales value of each ITEM TYPE\n",
    "table_item['SUM']=table_item.sum(axis=1)\n",
    "\n",
    "\n",
    "# To change the names of 3 columns\n",
    "table_item=table_item.rename(columns={'RETAIL SALES':'TOTAL RETAIL SALES','RETAIL TRANSFERS':'TOTAL RETAIL TRANSFERS','WAREHOUSE SALES':'TOTAL WAREHOUSE SALES'})\n",
    "\n",
    "\n",
    "# To ranke the most popular ITEM TYPE\n",
    "table_item.sort_values(by='SUM', ascending=False)\n",
    "\n",
    "\n",
    "# To create a table \n",
    "table_item.to_csv('../item_table.csv',index=False)"
   ]
  },
  {
   "cell_type": "code",
   "execution_count": null,
   "metadata": {},
   "outputs": [],
   "source": []
  }
 ],
 "metadata": {
  "kernelspec": {
   "display_name": "Python 3",
   "language": "python",
   "name": "python3"
  },
  "language_info": {
   "codemirror_mode": {
    "name": "ipython",
    "version": 3
   },
   "file_extension": ".py",
   "mimetype": "text/x-python",
   "name": "python",
   "nbconvert_exporter": "python",
   "pygments_lexer": "ipython3",
   "version": "3.6.5"
  }
 },
 "nbformat": 4,
 "nbformat_minor": 2
}
